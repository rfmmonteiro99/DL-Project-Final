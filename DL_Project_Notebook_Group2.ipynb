{
 "cells": [
  {
   "cell_type": "markdown",
   "id": "touched-dodge",
   "metadata": {},
   "source": [
    "# Deep Learning Project - Traffic Sign Recognition using Convolutional Neural Networks\n",
    "\n",
    "**Group 2 members:** <br>\n",
    "Bruno Belo, R20170735 <br>\n",
    "Rui Monteiro, R20170796 <br>\n",
    "Tomás Santos, R20170734 <br>\n",
    "\n",
    "**MSc:** Data Science and Advanced Analytics - Nova IMS <br>\n",
    "**Course:** Deep Learning <br>\n",
    "2020/2021\n",
    "\n",
    "## Introduction\n",
    "???\n",
    "\n",
    "## Setup Environment\n",
    "To run this Notebook without issues, the user can fork and clone our **GitHub repository** available at https://github.com/rfmmonteiro99/DL-Project-Final.\n",
    "\n",
    "Furthermore, the user needs an Anaconda environment with all the used libraries. A yml file is provided on our GitHub repository (link above) for that purpose. The user can **create the environment** with the ???.yml file, by following these steps:\n",
    "1. Put the yml file on a folder or even on the Desktop\n",
    "2. Open Anaconda Navigator\n",
    "3. Go to \"Environments\"\n",
    "4. Click on \"Import\"\n",
    "5. Name the new environment on \"Name\", and find the path to your file on \"Specification File\" (you may need to specify you want to search for txt files on the \"Import Environment\" box)\n",
    "6. Click on \"Import\" so that Anaconda starts loading all the packages\n",
    "7. Finally, navigate to the new environment on \"Home\" and launch Jupyter Notebook"
   ]
  },
  {
   "cell_type": "code",
   "execution_count": 1,
   "id": "ecological-complement",
   "metadata": {},
   "outputs": [],
   "source": [
    "import numpy as np\n",
    "import pandas as pd\n",
    "import random\n",
    "import matplotlib.pyplot as plt\n",
    "import cv2\n",
    "from PIL import Image\n",
    "import os\n",
    "from sklearn.model_selection import train_test_split\n",
    "from keras.utils import to_categorical\n",
    "from keras.models import Sequential, load_model\n",
    "from keras.layers import Conv2D, MaxPool2D, Dense, Flatten, Dropout, BatchNormalization"
   ]
  },
  {
   "cell_type": "markdown",
   "id": "prescription-basin",
   "metadata": {},
   "source": [
    "## 1. Importing and Exploring Data"
   ]
  },
  {
   "cell_type": "code",
   "execution_count": 18,
   "id": "useful-beauty",
   "metadata": {},
   "outputs": [],
   "source": [
    "data = []\n",
    "labels = []\n",
    "classes = 43\n",
    "cur_path = os.getcwd()\n",
    "\n",
    "# Retrieving the images and their labels \n",
    "for i in range(classes):\n",
    "    path = os.path.join(cur_path,'train',str(i))\n",
    "    images = os.listdir(path)\n",
    "\n",
    "    for a in images:\n",
    "        try:\n",
    "            image = Image.open(path + '\\\\'+ a)\n",
    "            image = image.resize((32,32)) # Resizing the images to 32x32\n",
    "            image = np.array(image)\n",
    "            data.append(image)\n",
    "            labels.append(i)\n",
    "            \n",
    "        except:\n",
    "            print('Error loading an image')"
   ]
  },
  {
   "cell_type": "code",
   "execution_count": 19,
   "id": "forward-monday",
   "metadata": {},
   "outputs": [],
   "source": [
    "# Converting lists into Numpy arrays\n",
    "data = np.array(data)\n",
    "labels = np.array(labels)"
   ]
  },
  {
   "cell_type": "code",
   "execution_count": 20,
   "id": "solar-campaign",
   "metadata": {},
   "outputs": [
    {
     "name": "stdout",
     "output_type": "stream",
     "text": [
      "(39209, 32, 32, 3) (39209,)\n"
     ]
    }
   ],
   "source": [
    "# Check data shape (3 colour channels: Red, Green, Blue)\n",
    "print(data.shape, labels.shape)"
   ]
  },
  {
   "cell_type": "code",
   "execution_count": 21,
   "id": "radio-smell",
   "metadata": {},
   "outputs": [
    {
     "data": {
      "text/plain": [
       "43"
      ]
     },
     "execution_count": 21,
     "metadata": {},
     "output_type": "execute_result"
    }
   ],
   "source": [
    "# Number of classes for this classification problem\n",
    "unique_signs = np.unique(labels)\n",
    "\n",
    "len(unique_signs)"
   ]
  },
  {
   "cell_type": "code",
   "execution_count": 22,
   "id": "short-fantasy",
   "metadata": {},
   "outputs": [],
   "source": [
    "# Dictionary with the labels of all traffic signs\n",
    "classes = { 0:'Speed limit (20km/h)',\n",
    "            1:'Speed limit (30km/h)', \n",
    "            2:'Speed limit (50km/h)', \n",
    "            3:'Speed limit (60km/h)', \n",
    "            4:'Speed limit (70km/h)', \n",
    "            5:'Speed limit (80km/h)', \n",
    "            6:'End of speed limit (80km/h)', \n",
    "            7:'Speed limit (100km/h)', \n",
    "            8:'Speed limit (120km/h)', \n",
    "            9:'No passing', \n",
    "            10:'No passing veh over 3.5 tons', \n",
    "            11:'Right-of-way at intersection', \n",
    "            12:'Priority road', \n",
    "            13:'Yield', \n",
    "            14:'Stop', \n",
    "            15:'No vehicles', \n",
    "            16:'Veh > 3.5 tons prohibited', \n",
    "            17:'No entry', \n",
    "            18:'General caution', \n",
    "            19:'Dangerous curve left', \n",
    "            20:'Dangerous curve right', \n",
    "            21:'Double curve', \n",
    "            22:'Bumpy road', \n",
    "            23:'Slippery road', \n",
    "            24:'Road narrows on the right', \n",
    "            25:'Road work', \n",
    "            26:'Traffic signals', \n",
    "            27:'Pedestrians', \n",
    "            28:'Children crossing', \n",
    "            29:'Bicycles crossing', \n",
    "            30:'Beware of ice/snow',\n",
    "            31:'Wild animals crossing', \n",
    "            32:'End speed + passing limits', \n",
    "            33:'Turn right ahead', \n",
    "            34:'Turn left ahead', \n",
    "            35:'Ahead only', \n",
    "            36:'Go straight or right', \n",
    "            37:'Go straight or left', \n",
    "            38:'Keep right', \n",
    "            39:'Keep left', \n",
    "            40:'Roundabout mandatory', \n",
    "            41:'End of no passing', \n",
    "            42:'End no passing veh > 3.5 tons' }"
   ]
  },
  {
   "cell_type": "code",
   "execution_count": 25,
   "id": "north-transaction",
   "metadata": {},
   "outputs": [
    {
     "data": {
      "image/png": "[encoded data removed]",
      "text/plain": [
       "<Figure size 1440x864 with 1 Axes>"
      ]
     },
     "metadata": {
      "needs_background": "light"
     },
     "output_type": "display_data"
    }
   ],
   "source": [
    "# Getting a list with the classes' names\n",
    "signs_names = []\n",
    "\n",
    "for i in range(len(classes)):\n",
    "    signs_names.append(classes[i])\n",
    "\n",
    "#graph = pd.DataFrame(np.array([pd.Series(labels).value_counts().sort_index(), signs_names])).T\n",
    "\n",
    "# Barplot\n",
    "pd.Series(labels).value_counts().sort_index().plot.bar(figsize=(20, 12)).set_xticklabels(signs_names)\n",
    "\n",
    "# Labelling the plot and both axes\n",
    "plt.title('Number of images for each class (traffic sign)', size=20)\n",
    "plt.xlabel('Traffic signs')\n",
    "plt.ylabel('Number of images')\n",
    "\n",
    "plt.show()"
   ]
  },
  {
   "cell_type": "code",
   "execution_count": 23,
   "id": "assisted-groove",
   "metadata": {},
   "outputs": [],
   "source": [
    "def show_20_images(images, labels):\n",
    "    \"\"\"\n",
    "    Displays a plot with 20 random images and their respective classes.\n",
    "    \"\"\"\n",
    "    plt.figure(figsize=(16, 16))\n",
    "    for i in range(20):\n",
    "        ax = plt.subplot(5, 5, i+1)\n",
    "        \n",
    "        rand = random.randint(1, len(data)-20)\n",
    "        \n",
    "        plt.imshow(images[i+rand])\n",
    "        plt.title(signs_names[labels[i+rand]])\n",
    "        \n",
    "        plt.suptitle('Traffic signs examples', size=20)\n",
    "        plt.axis(\"off\")"
   ]
  },
  {
   "cell_type": "code",
   "execution_count": 26,
   "id": "romance-score",
   "metadata": {
    "scrolled": false
   },
   "outputs": [
    {
     "data": {
      "image/png": "[encoded data removed]",
      "text/plain": [
       "<Figure size 1152x1152 with 20 Axes>"
      ]
     },
     "metadata": {
      "needs_background": "light"
     },
     "output_type": "display_data"
    }
   ],
   "source": [
    "show_20_images(data, labels)"
   ]
  },
  {
   "cell_type": "markdown",
   "id": "touched-darwin",
   "metadata": {},
   "source": [
    "## 2. Data Preprocessing"
   ]
  },
  {
   "cell_type": "code",
   "execution_count": 27,
   "id": "thermal-matrix",
   "metadata": {},
   "outputs": [],
   "source": [
    "# All the pixel values on the array are between 0 and 255, so to rescale them to a [0, 1] interval, we can just divide \n",
    "# the values by 255\n",
    "data_normalized = data / 255"
   ]
  },
  {
   "cell_type": "markdown",
   "id": "sought-juvenile",
   "metadata": {},
   "source": [
    "## 3. Train-Validation Split"
   ]
  },
  {
   "cell_type": "code",
   "execution_count": 28,
   "id": "demanding-pastor",
   "metadata": {},
   "outputs": [],
   "source": [
    "X_train, X_val, y_train, y_val = train_test_split(data_normalized, \n",
    "                                                  labels, \n",
    "                                                  test_size=0.3, \n",
    "                                                  random_state=42, \n",
    "                                                  shuffle=True)"
   ]
  },
  {
   "cell_type": "code",
   "execution_count": 29,
   "id": "going-daughter",
   "metadata": {},
   "outputs": [
    {
     "name": "stdout",
     "output_type": "stream",
     "text": [
      "X_train shape (27446, 32, 32, 3)\n",
      "X_val shape (11763, 32, 32, 3)\n",
      "y_train.shape (27446,)\n",
      "y_val.shape (11763,)\n"
     ]
    }
   ],
   "source": [
    "print(\"X_train shape\", X_train.shape)\n",
    "print(\"X_val shape\", X_val.shape)\n",
    "print(\"y_train.shape\", y_train.shape)\n",
    "print(\"y_val.shape\", y_val.shape)"
   ]
  },
  {
   "cell_type": "markdown",
   "id": "falling-moderator",
   "metadata": {},
   "source": [
    "## 4. One-Hot Encoding the Labels"
   ]
  },
  {
   "cell_type": "code",
   "execution_count": 30,
   "id": "consolidated-stanley",
   "metadata": {},
   "outputs": [],
   "source": [
    "# Converting the labels with one-hot encoding\n",
    "y_train = to_categorical(y_train, 43)\n",
    "y_val = to_categorical(y_val, 43)"
   ]
  },
  {
   "cell_type": "markdown",
   "id": "considerable-bottle",
   "metadata": {},
   "source": [
    "## 5. Computer Vision Models"
   ]
  },
  {
   "cell_type": "markdown",
   "id": "received-asian",
   "metadata": {},
   "source": [
    "**Our CNN Architectures:**"
   ]
  },
  {
   "cell_type": "code",
   "execution_count": 12,
   "id": "ceramic-jesus",
   "metadata": {},
   "outputs": [],
   "source": [
    "# Simple CNN\n",
    "def cnn_1(input_shape):\n",
    "    classifier = Sequential()\n",
    "    \n",
    "    classifier.add(Conv2D(32, (5, 5), input_shape = input_shape, activation = 'relu'))\n",
    "    classifier.add(MaxPool2D(pool_size = (2, 2)))\n",
    "    \n",
    "    classifier.add(Conv2D(64, (5, 5), activation = 'relu'))\n",
    "    classifier.add(MaxPool2D(pool_size = (2, 2)))\n",
    "    \n",
    "    classifier.add(Conv2D(128, (3, 3), activation = 'relu'))\n",
    "    classifier.add(MaxPool2D(pool_size = (2, 2)))\n",
    "    \n",
    "    classifier.add(Flatten())\n",
    "\n",
    "    classifier.add(Dense(units = 512, activation = 'relu'))\n",
    "    classifier.add(Dense(units = 43, activation = 'softmax'))\n",
    "    \n",
    "    return classifier"
   ]
  },
  {
   "cell_type": "code",
   "execution_count": 14,
   "id": "ceramic-method",
   "metadata": {},
   "outputs": [],
   "source": [
    "# Similar to cnn_1, but with Dropout\n",
    "def cnn_2(input_shape):\n",
    "    classifier = Sequential()\n",
    "    \n",
    "    classifier.add(Conv2D(32, (5, 5), input_shape = input_shape, activation = 'relu'))\n",
    "    classifier.add(MaxPool2D(pool_size = (2, 2)))\n",
    "    classifier.add(Dropout(rate=0.25))\n",
    "    \n",
    "    classifier.add(Conv2D(64, (5, 5), activation = 'relu'))\n",
    "    classifier.add(MaxPool2D(pool_size = (2, 2)))\n",
    "    classifier.add(Dropout(rate=0.25))\n",
    "    \n",
    "    classifier.add(Conv2D(128, (3, 3), activation = 'relu'))\n",
    "    classifier.add(MaxPool2D(pool_size = (2, 2)))\n",
    "    classifier.add(Dropout(rate=0.25))\n",
    "    \n",
    "    classifier.add(Flatten())\n",
    "\n",
    "    classifier.add(Dense(units = 512, activation = 'relu'))\n",
    "    classifier.add(Dropout(rate=0.5))\n",
    "    classifier.add(Dense(units = 43, activation = 'softmax'))\n",
    "    \n",
    "    return classifier"
   ]
  },
  {
   "cell_type": "code",
   "execution_count": 28,
   "id": "stretch-republican",
   "metadata": {},
   "outputs": [],
   "source": [
    "# cnn_2, but with BatchNormalization\n",
    "# https://keras.io/api/layers/normalization_layers/batch_normalization/\n",
    "# https://machinelearningmastery.com/how-to-accelerate-learning-of-deep-neural-networks-with-batch-normalization/\n",
    "# Once implemented, batch normalization has the effect of dramatically accelerating the training process of a neural \n",
    "# network, and in some cases improves the performance of the model via a modest regularization effect.\n",
    "def cnn_3(input_shape):\n",
    "    classifier = Sequential()\n",
    "    \n",
    "    classifier.add(Conv2D(32, (5, 5), input_shape = input_shape, activation = 'relu'))\n",
    "    classifier.add(MaxPool2D(pool_size = (2, 2)))\n",
    "    classifier.add(BatchNormalization())\n",
    "    classifier.add(Dropout(rate=0.25))\n",
    "    \n",
    "    classifier.add(Conv2D(64, (5, 5), activation = 'relu'))\n",
    "    classifier.add(MaxPool2D(pool_size = (2, 2)))\n",
    "    classifier.add(BatchNormalization())\n",
    "    classifier.add(Dropout(rate=0.25))\n",
    "    \n",
    "    classifier.add(Conv2D(128, (3, 3), activation = 'relu'))\n",
    "    classifier.add(MaxPool2D(pool_size = (2, 2)))\n",
    "    classifier.add(BatchNormalization())\n",
    "    classifier.add(Dropout(rate=0.25))\n",
    "    \n",
    "    classifier.add(Flatten())\n",
    "\n",
    "    classifier.add(Dense(units = 512, activation = 'relu'))\n",
    "    classifier.add(BatchNormalization())\n",
    "    classifier.add(Dropout(rate=0.5))\n",
    "    classifier.add(Dense(units = 43, activation = 'softmax'))\n",
    "    \n",
    "    return classifier"
   ]
  },
  {
   "cell_type": "code",
   "execution_count": 12,
   "id": "honey-ballot",
   "metadata": {},
   "outputs": [],
   "source": [
    "# CNN with this is something possible and commonly used in very challenging tasks.\n",
    "# The idea of having two (or more) conv layers is to perform a more in-depth analysis of local patterns of the image.\n",
    "# There is no rule for deciding if two consecutive conv layers are better than a conv layer followed by a pooling layer.\n",
    "def cnn_4(input_shape):\n",
    "    classifier = Sequential()\n",
    "    \n",
    "    classifier.add(Conv2D(16, (5, 5), input_shape = input_shape, activation = 'relu'))\n",
    "    classifier.add(Conv2D(32, (5, 5), activation = 'relu'))\n",
    "    classifier.add(MaxPool2D(pool_size = (2, 2)))\n",
    "    classifier.add(BatchNormalization())\n",
    "    classifier.add(Dropout(rate=0.25))\n",
    "    \n",
    "    classifier.add(Conv2D(64, (3, 3), activation = 'relu'))\n",
    "    classifier.add(Conv2D(128, (3, 3), activation = 'relu'))\n",
    "    classifier.add(MaxPool2D(pool_size = (2, 2)))\n",
    "    classifier.add(BatchNormalization())\n",
    "    classifier.add(Dropout(rate=0.25))\n",
    "    \n",
    "    classifier.add(Flatten())\n",
    "\n",
    "    classifier.add(Dense(units = 512, activation = 'relu'))\n",
    "    classifier.add(BatchNormalization())\n",
    "    classifier.add(Dropout(rate=0.5))\n",
    "    classifier.add(Dense(units = 43, activation = 'softmax'))\n",
    "    \n",
    "    return classifier"
   ]
  },
  {
   "cell_type": "code",
   "execution_count": 27,
   "id": "toxic-cisco",
   "metadata": {},
   "outputs": [],
   "source": [
    "# cnn_4, but with the same number of filters on the 2 first, and 2 last, conv layers\n",
    "# also with regularizers\n",
    "# https://machinelearningmastery.com/how-to-reduce-overfitting-in-deep-learning-with-weight-regularization/\n",
    "\n",
    "# This model takes more time? 1 hour? Say it in the report\n",
    "\n",
    "from keras.regularizers import l1_l2\n",
    "\n",
    "l1_cnn_5 = 0.001\n",
    "l2_cnn_5 = 0.001\n",
    "\n",
    "def cnn_5(input_shape):\n",
    "    classifier = Sequential()\n",
    "    \n",
    "    classifier.add(Conv2D(32, (5, 5), input_shape = input_shape, activation = 'relu', kernel_regularizer = l1_l2(l1=l1_cnn_5, l2=l2_cnn_5)))\n",
    "    classifier.add(Conv2D(32, (5, 5), activation = 'relu', kernel_regularizer = l1_l2(l1=l1_cnn_5, l2=l2_cnn_5)))\n",
    "    classifier.add(MaxPool2D(pool_size = (2, 2)))\n",
    "    classifier.add(BatchNormalization())\n",
    "    classifier.add(Dropout(rate=0.25))\n",
    "    \n",
    "    classifier.add(Conv2D(64, (3, 3), activation = 'relu', kernel_regularizer = l1_l2(l1=l1_cnn_5, l2=l2_cnn_5)))\n",
    "    classifier.add(Conv2D(64, (3, 3), activation = 'relu', kernel_regularizer = l1_l2(l1=l1_cnn_5, l2=l2_cnn_5)))\n",
    "    classifier.add(MaxPool2D(pool_size = (2, 2)))\n",
    "    classifier.add(BatchNormalization())\n",
    "    classifier.add(Dropout(rate=0.25))\n",
    "    \n",
    "    classifier.add(Flatten())\n",
    "\n",
    "    classifier.add(Dense(units = 512, activation = 'relu'))\n",
    "    classifier.add(BatchNormalization())\n",
    "    classifier.add(Dropout(rate=0.5))\n",
    "    classifier.add(Dense(units = 43, activation = 'softmax'))\n",
    "    \n",
    "    return classifier"
   ]
  },
  {
   "cell_type": "code",
   "execution_count": 13,
   "id": "integral-ancient",
   "metadata": {},
   "outputs": [],
   "source": [
    "# cnn_3, but with 256 units and 64 batches in the compile\n",
    "def cnn_6(input_shape):\n",
    "    classifier = Sequential()\n",
    "    \n",
    "    classifier.add(Conv2D(32, (5, 5), input_shape = input_shape, activation = 'relu'))\n",
    "    classifier.add(MaxPool2D(pool_size = (2, 2)))\n",
    "    classifier.add(BatchNormalization())\n",
    "    classifier.add(Dropout(rate=0.25))\n",
    "    \n",
    "    classifier.add(Conv2D(64, (5, 5), activation = 'relu'))\n",
    "    classifier.add(MaxPool2D(pool_size = (2, 2)))\n",
    "    classifier.add(BatchNormalization())\n",
    "    classifier.add(Dropout(rate=0.25))\n",
    "    \n",
    "    classifier.add(Conv2D(128, (3, 3), activation = 'relu'))\n",
    "    classifier.add(MaxPool2D(pool_size = (2, 2)))\n",
    "    classifier.add(BatchNormalization())\n",
    "    classifier.add(Dropout(rate=0.25))\n",
    "    \n",
    "    classifier.add(Flatten())\n",
    "\n",
    "    classifier.add(Dense(units = 256, activation = 'relu'))\n",
    "    classifier.add(BatchNormalization())\n",
    "    classifier.add(Dropout(rate=0.5))\n",
    "    classifier.add(Dense(units = 43, activation = 'softmax'))\n",
    "    \n",
    "    return classifier"
   ]
  },
  {
   "cell_type": "markdown",
   "id": "interior-congo",
   "metadata": {},
   "source": [
    "**Pre-trained Models:**"
   ]
  },
  {
   "cell_type": "markdown",
   "id": "proud-universal",
   "metadata": {},
   "source": [
    "Three of the best and more popular models for Transfer Learning are as follows:\n",
    "\n",
    "- VGG (we will use VGG16); <br>\n",
    "- EfficientNet (we will use EfficientNetB7); <br>\n",
    "- Residual Network (we will use ResNet152V2).\n",
    "\n",
    "https://machinelearningmastery.com/how-to-use-transfer-learning-when-developing-convolutional-neural-network-models/ <br>\n",
    "https://keras.io/api/applications/ <br>\n",
    "https://www.analyticsvidhya.com/blog/2020/08/top-4-pre-trained-models-for-image-classification-with-python-code/ <br>\n",
    "https://github.com/krishnaik06/Transfer-Learning/blob/master/face_Recognition.py <br>\n",
    "\n",
    "\n",
    "In this Transfer Learning phase, we will train only the fully-connected layer, so the rest of the model's weights will stay frozen. We added our own custom classifier on the fully-connected layers of the 3 models.\n",
    "\n",
    "https://towardsdatascience.com/transfer-learning-with-convolutional-neural-networks-in-pytorch-dd09190245ce"
   ]
  },
  {
   "cell_type": "code",
   "execution_count": 38,
   "id": "preliminary-stream",
   "metadata": {},
   "outputs": [],
   "source": [
    "# VGG16\n",
    "from keras.applications.vgg16 import VGG16\n",
    "\n",
    "vgg = VGG16(input_shape=(32,32,3), # It only supports 32x32 and not 30x30\n",
    "            weights='imagenet', \n",
    "            include_top=False)\n",
    "\n",
    "# Don't train existing weights\n",
    "for layer in vgg.layers:\n",
    "    layer.trainable = False\n",
    "    \n",
    "# Add a Fully Connected Layer\n",
    "x = Flatten()(vgg.output)\n",
    "\n",
    "x = Dense(units = 512, activation = 'relu')(x)\n",
    "x = BatchNormalization()(x)\n",
    "x = Dropout(rate=0.5)(x)\n",
    "x = Dense(units = 43, activation='softmax')(x)"
   ]
  },
  {
   "cell_type": "code",
   "execution_count": 45,
   "id": "provincial-congo",
   "metadata": {},
   "outputs": [],
   "source": [
    "# The EfficientNet models are not available in some Keras versions at the moment, only on TensorFlow\n",
    "from tensorflow.keras.applications.efficientnet import EfficientNetB7"
   ]
  },
  {
   "cell_type": "code",
   "execution_count": 46,
   "id": "designed-grain",
   "metadata": {},
   "outputs": [
    {
     "name": "stdout",
     "output_type": "stream",
     "text": [
      "Downloading data from https://storage.googleapis.com/keras-applications/efficientnetb7_notop.h5\n",
      "258080768/258076736 [==============================] - 21s 0us/step\n"
     ]
    }
   ],
   "source": [
    "# EfficientNetB7\n",
    "e_net = EfficientNetB7(input_shape=(32,32,3),\n",
    "                       weights='imagenet', \n",
    "                       include_top=False)\n",
    "\n",
    "# Don't train existing weights\n",
    "for layer in e_net.layers:\n",
    "    layer.trainable = False\n",
    "    \n",
    "# Add a Fully Connected Layer\n",
    "y = Flatten()(e_net.output)\n",
    "\n",
    "y = Dense(units = 512, activation = 'relu')(y)\n",
    "y = BatchNormalization()(y)\n",
    "y = Dropout(rate=0.5)(y)\n",
    "y = Dense(units = 43, activation='softmax')(y)"
   ]
  },
  {
   "cell_type": "code",
   "execution_count": 60,
   "id": "abroad-howard",
   "metadata": {
    "scrolled": true
   },
   "outputs": [
    {
     "name": "stdout",
     "output_type": "stream",
     "text": [
      "Downloading data from https://storage.googleapis.com/tensorflow/keras-applications/resnet/resnet152v2_weights_tf_dim_ordering_tf_kernels_notop.h5\n",
      "234553344/234545216 [==============================] - 18s 0us/step\n"
     ]
    }
   ],
   "source": [
    "# ResNet152V2\n",
    "from keras.applications.resnet_v2 import ResNet152V2\n",
    "\n",
    "resnet = ResNet152V2(input_shape=(32,32,3), # It only supports 32x32 and not 30x30\n",
    "                     weights='imagenet', \n",
    "                     include_top=False)\n",
    "\n",
    "# Don't train existing weights\n",
    "for layer in resnet.layers:\n",
    "    layer.trainable = False\n",
    "    \n",
    "# Add a Fully Connected Layer\n",
    "z = Flatten()(resnet.output)\n",
    "\n",
    "z = Dense(units = 512, activation = 'relu')(z)\n",
    "z = BatchNormalization()(z)\n",
    "z = Dropout(rate=0.5)(z)\n",
    "z = Dense(units = 43, activation='softmax')(z)"
   ]
  },
  {
   "cell_type": "markdown",
   "id": "mighty-cycling",
   "metadata": {},
   "source": [
    "### 5.1. Data Augmentation"
   ]
  },
  {
   "cell_type": "code",
   "execution_count": 32,
   "id": "agricultural-serve",
   "metadata": {},
   "outputs": [],
   "source": [
    "from keras.preprocessing.image import ImageDataGenerator\n",
    "\n",
    "# The rotations and flips can potentially harm the quality of the model (some signs look like others if they are rotated),\n",
    "# so we will avoid using those parameters\n",
    "aug = ImageDataGenerator(\n",
    "    rotation_range=10,\n",
    "    zoom_range=0.2,\n",
    "    width_shift_range=0.15,\n",
    "    height_shift_range=0.15,\n",
    "    shear_range=0.2,\n",
    "    horizontal_flip=False,\n",
    "    vertical_flip=False,\n",
    "    fill_mode='nearest')"
   ]
  },
  {
   "cell_type": "markdown",
   "id": "engaged-honor",
   "metadata": {},
   "source": [
    "### 5.2. Callbacks"
   ]
  },
  {
   "cell_type": "code",
   "execution_count": 33,
   "id": "minus-making",
   "metadata": {},
   "outputs": [],
   "source": [
    "import keras\n",
    "\n",
    "callbacks_list = [\n",
    "    keras.callbacks.EarlyStopping(\n",
    "        monitor='val_accuracy',\n",
    "        patience=5),\n",
    "    keras.callbacks.ModelCheckpoint(\n",
    "        filepath = 'cnn_model_file',\n",
    "        monitor='val_loss',\n",
    "        save_best_only=True)\n",
    "]"
   ]
  },
  {
   "cell_type": "markdown",
   "id": "peaceful-providence",
   "metadata": {},
   "source": [
    "### 5.3. Compile and Fit"
   ]
  },
  {
   "cell_type": "code",
   "execution_count": 34,
   "id": "alternate-netherlands",
   "metadata": {},
   "outputs": [],
   "source": [
    "from keras import optimizers"
   ]
  },
  {
   "cell_type": "markdown",
   "id": "entitled-proxy",
   "metadata": {},
   "source": [
    "**Our CNN Architectures:**"
   ]
  },
  {
   "cell_type": "markdown",
   "id": "olive-douglas",
   "metadata": {},
   "source": [
    "**a) cnn_1:**"
   ]
  },
  {
   "cell_type": "code",
   "execution_count": 78,
   "id": "rental-extraction",
   "metadata": {
    "scrolled": true
   },
   "outputs": [
    {
     "name": "stdout",
     "output_type": "stream",
     "text": [
      "Epoch 1/30\n",
      "857/858 [============================>.] - ETA: 0s - loss: 3.2589 - accuracy: 0.1307WARNING:tensorflow:From C:\\Users\\ruifi\\anaconda3\\envs\\DLclasses\\lib\\site-packages\\tensorflow\\python\\training\\tracking\\tracking.py:111: Model.state_updates (from tensorflow.python.keras.engine.training) is deprecated and will be removed in a future version.\n",
      "Instructions for updating:\n",
      "This property should not be used in TensorFlow 2.0, as updates are applied automatically.\n",
      "WARNING:tensorflow:From C:\\Users\\ruifi\\anaconda3\\envs\\DLclasses\\lib\\site-packages\\tensorflow\\python\\training\\tracking\\tracking.py:111: Layer.updates (from tensorflow.python.keras.engine.base_layer) is deprecated and will be removed in a future version.\n",
      "Instructions for updating:\n",
      "This property should not be used in TensorFlow 2.0, as updates are applied automatically.\n",
      "INFO:tensorflow:Assets written to: cnn_1_model_file\\assets\n",
      "858/858 [==============================] - 56s 66ms/step - loss: 3.2584 - accuracy: 0.1308 - val_loss: 2.8801 - val_accuracy: 0.2307\n",
      "Epoch 2/30\n",
      "857/858 [============================>.] - ETA: 0s - loss: 2.7451 - accuracy: 0.2434INFO:tensorflow:Assets written to: cnn_1_model_file\\assets\n",
      "858/858 [==============================] - 59s 68ms/step - loss: 2.7444 - accuracy: 0.2437 - val_loss: 2.3665 - val_accuracy: 0.3077\n",
      "Epoch 3/30\n",
      "858/858 [==============================] - ETA: 0s - loss: 2.3207 - accuracy: 0.3327 ETA: 0s - loss: 2.3223 - INFO:tensorflow:Assets written to: cnn_1_model_file\\assets\n",
      "858/858 [==============================] - 57s 67ms/step - loss: 2.3207 - accuracy: 0.3327 - val_loss: 1.9312 - val_accuracy: 0.4331\n",
      "Epoch 4/30\n",
      "858/858 [==============================] - ETA: 0s - loss: 1.9413 - accuracy: 0.4346INFO:tensorflow:Assets written to: cnn_1_model_file\\assets\n",
      "858/858 [==============================] - 56s 65ms/step - loss: 1.9413 - accuracy: 0.4346 - val_loss: 1.5440 - val_accuracy: 0.5384\n",
      "Epoch 5/30\n",
      "858/858 [==============================] - ETA: 0s - loss: 1.6562 - accuracy: 0.5107INFO:tensorflow:Assets written to: cnn_1_model_file\\assets\n",
      "858/858 [==============================] - 57s 66ms/step - loss: 1.6562 - accuracy: 0.5107 - val_loss: 1.2289 - val_accuracy: 0.6537\n",
      "Epoch 6/30\n",
      "857/858 [============================>.] - ETA: 0s - loss: 1.4611 - accuracy: 0.5677INFO:tensorflow:Assets written to: cnn_1_model_file\\assets\n",
      "858/858 [==============================] - 53s 62ms/step - loss: 1.4609 - accuracy: 0.5677 - val_loss: 1.0885 - val_accuracy: 0.6750\n",
      "Epoch 7/30\n",
      "858/858 [==============================] - ETA: 0s - loss: 1.2997 - accuracy: 0.6166 ETA: 0s - loss: 1.301INFO:tensorflow:Assets written to: cnn_1_model_file\\assets\n",
      "858/858 [==============================] - 58s 67ms/step - loss: 1.2997 - accuracy: 0.6166 - val_loss: 0.9115 - val_accuracy: 0.7275\n",
      "Epoch 8/30\n",
      "858/858 [==============================] - ETA: 0s - loss: 1.1497 - accuracy: 0.6606INFO:tensorflow:Assets written to: cnn_1_model_file\\assets\n",
      "858/858 [==============================] - 60s 70ms/step - loss: 1.1497 - accuracy: 0.6606 - val_loss: 0.7862 - val_accuracy: 0.7776\n",
      "Epoch 9/30\n",
      "857/858 [============================>.] - ETA: 0s - loss: 1.0360 - accuracy: 0.6975INFO:tensorflow:Assets written to: cnn_1_model_file\\assets\n",
      "858/858 [==============================] - 63s 74ms/step - loss: 1.0361 - accuracy: 0.6974 - val_loss: 0.7061 - val_accuracy: 0.7951\n",
      "Epoch 10/30\n",
      "857/858 [============================>.] - ETA: 0s - loss: 0.9328 - accuracy: 0.7253INFO:tensorflow:Assets written to: cnn_1_model_file\\assets\n",
      "858/858 [==============================] - 62s 72ms/step - loss: 0.9326 - accuracy: 0.7254 - val_loss: 0.6176 - val_accuracy: 0.8172\n",
      "Epoch 11/30\n",
      "858/858 [==============================] - ETA: 0s - loss: 0.8417 - accuracy: 0.7578INFO:tensorflow:Assets written to: cnn_1_model_file\\assets\n",
      "858/858 [==============================] - 58s 67ms/step - loss: 0.8417 - accuracy: 0.7578 - val_loss: 0.5397 - val_accuracy: 0.8551\n",
      "Epoch 12/30\n",
      "858/858 [==============================] - ETA: 0s - loss: 0.7758 - accuracy: 0.7737INFO:tensorflow:Assets written to: cnn_1_model_file\\assets\n",
      "858/858 [==============================] - 61s 71ms/step - loss: 0.7758 - accuracy: 0.7737 - val_loss: 0.4607 - val_accuracy: 0.8703\n",
      "Epoch 13/30\n",
      "857/858 [============================>.] - ETA: 0s - loss: 0.6994 - accuracy: 0.7952INFO:tensorflow:Assets written to: cnn_1_model_file\\assets\n",
      "858/858 [==============================] - 60s 70ms/step - loss: 0.6994 - accuracy: 0.7952 - val_loss: 0.4257 - val_accuracy: 0.8738\n",
      "Epoch 14/30\n",
      "858/858 [==============================] - ETA: 0s - loss: 0.6470 - accuracy: 0.8125INFO:tensorflow:Assets written to: cnn_1_model_file\\assets\n",
      "858/858 [==============================] - 61s 72ms/step - loss: 0.6470 - accuracy: 0.8125 - val_loss: 0.3414 - val_accuracy: 0.9059\n",
      "Epoch 15/30\n",
      "858/858 [==============================] - ETA: 0s - loss: 0.5954 - accuracy: 0.8298INFO:tensorflow:Assets written to: cnn_1_model_file\\assets\n",
      "858/858 [==============================] - 60s 69ms/step - loss: 0.5954 - accuracy: 0.8298 - val_loss: 0.3232 - val_accuracy: 0.9097\n",
      "Epoch 16/30\n",
      "858/858 [==============================] - ETA: 0s - loss: 0.5493 - accuracy: 0.84 - ETA: 0s - loss: 0.5491 - accuracy: 0.8418INFO:tensorflow:Assets written to: cnn_1_model_file\\assets\n",
      "858/858 [==============================] - 60s 70ms/step - loss: 0.5491 - accuracy: 0.8418 - val_loss: 0.2819 - val_accuracy: 0.9273\n",
      "Epoch 17/30\n",
      "857/858 [============================>.] - ETA: 0s - loss: 0.5096 - accuracy: 0.8542 ETA: 0s - loss: 0.5INFO:tensorflow:Assets written to: cnn_1_model_file\\assets\n",
      "858/858 [==============================] - 55s 64ms/step - loss: 0.5097 - accuracy: 0.8541 - val_loss: 0.2490 - val_accuracy: 0.9349\n",
      "Epoch 18/30\n",
      "857/858 [============================>.] - ETA: 0s - loss: 0.4756 - accuracy: 0.8653INFO:tensorflow:Assets written to: cnn_1_model_file\\assets\n",
      "858/858 [==============================] - 55s 64ms/step - loss: 0.4755 - accuracy: 0.8653 - val_loss: 0.2236 - val_accuracy: 0.9404\n",
      "Epoch 19/30\n",
      "858/858 [==============================] - ETA: 0s - loss: 0.4414 - accuracy: 0.8716INFO:tensorflow:Assets written to: cnn_1_model_file\\assets\n",
      "858/858 [==============================] - 54s 63ms/step - loss: 0.4414 - accuracy: 0.8716 - val_loss: 0.2068 - val_accuracy: 0.9426\n",
      "Epoch 20/30\n",
      "857/858 [============================>.] - ETA: 0s - loss: 0.4078 - accuracy: 0.8850INFO:tensorflow:Assets written to: cnn_1_model_file\\assets\n",
      "858/858 [==============================] - 57s 67ms/step - loss: 0.4077 - accuracy: 0.8850 - val_loss: 0.1853 - val_accuracy: 0.9489\n",
      "Epoch 21/30\n",
      "858/858 [==============================] - 53s 62ms/step - loss: 0.3872 - accuracy: 0.8889 - val_loss: 0.2169 - val_accuracy: 0.9382\n",
      "Epoch 22/30\n",
      "858/858 [==============================] - 53s 62ms/step - loss: 0.3573 - accuracy: 0.8987 - val_loss: 0.1932 - val_accuracy: 0.9445\n",
      "Epoch 23/30\n",
      "858/858 [==============================] - ETA: 0s - loss: 0.3454 - accuracy: 0.9027INFO:tensorflow:Assets written to: cnn_1_model_file\\assets\n",
      "858/858 [==============================] - 57s 67ms/step - loss: 0.3454 - accuracy: 0.9027 - val_loss: 0.1499 - val_accuracy: 0.9614\n",
      "Epoch 24/30\n",
      "857/858 [============================>.] - ETA: 0s - loss: 0.3207 - accuracy: 0.9080INFO:tensorflow:Assets written to: cnn_1_model_file\\assets\n",
      "858/858 [==============================] - 57s 67ms/step - loss: 0.3206 - accuracy: 0.9081 - val_loss: 0.1443 - val_accuracy: 0.9605\n",
      "Epoch 25/30\n",
      "858/858 [==============================] - ETA: 0s - loss: 0.3010 - accuracy: 0.9151INFO:tensorflow:Assets written to: cnn_1_model_file\\assets\n",
      "858/858 [==============================] - 58s 68ms/step - loss: 0.3010 - accuracy: 0.9151 - val_loss: 0.1242 - val_accuracy: 0.9691\n",
      "Epoch 26/30\n",
      "857/858 [============================>.] - ETA: 0s - loss: 0.2880 - accuracy: 0.9195INFO:tensorflow:Assets written to: cnn_1_model_file\\assets\n",
      "858/858 [==============================] - 57s 66ms/step - loss: 0.2880 - accuracy: 0.9195 - val_loss: 0.1183 - val_accuracy: 0.9686\n",
      "Epoch 27/30\n",
      "858/858 [==============================] - ETA: 0s - loss: 0.2743 - accuracy: 0.9209INFO:tensorflow:Assets written to: cnn_1_model_file\\assets\n",
      "858/858 [==============================] - 59s 69ms/step - loss: 0.2743 - accuracy: 0.9209 - val_loss: 0.1129 - val_accuracy: 0.9716\n",
      "Epoch 28/30\n",
      "857/858 [============================>.] - ETA: 0s - loss: 0.2581 - accuracy: 0.9278INFO:tensorflow:Assets written to: cnn_1_model_file\\assets\n",
      "858/858 [==============================] - 58s 67ms/step - loss: 0.2581 - accuracy: 0.9278 - val_loss: 0.0933 - val_accuracy: 0.9742\n",
      "Epoch 29/30\n",
      "858/858 [==============================] - 52s 61ms/step - loss: 0.2496 - accuracy: 0.9293 - val_loss: 0.0961 - val_accuracy: 0.9755\n",
      "Epoch 30/30\n",
      "857/858 [============================>.] - ETA: 0s - loss: 0.2416 - accuracy: 0.9299INFO:tensorflow:Assets written to: cnn_1_model_file\\assets\n",
      "858/858 [==============================] - 53s 62ms/step - loss: 0.2415 - accuracy: 0.9299 - val_loss: 0.0883 - val_accuracy: 0.9765\n"
     ]
    }
   ],
   "source": [
    "# Get the model\n",
    "cnn_1_model = cnn_1((30,30,3))\n",
    "\n",
    "# Compile\n",
    "opt = optimizers.RMSprop(lr = 1e-4) # Try Adam\n",
    "\n",
    "cnn_1_model.compile(loss='categorical_crossentropy', \n",
    "                    optimizer=opt, \n",
    "                    metrics=['accuracy'])\n",
    "\n",
    "# Try 64 batches\n",
    "epochs = 30\n",
    "\n",
    "history_1 = cnn_1_model.fit(aug.flow(X_train, y_train, batch_size=32),\n",
    "                            epochs=epochs, \n",
    "                            callbacks=callbacks_list,\n",
    "                            validation_data=(X_val, y_val))"
   ]
  },
  {
   "cell_type": "code",
   "execution_count": 80,
   "id": "improved-austria",
   "metadata": {
    "scrolled": false
   },
   "outputs": [
    {
     "name": "stdout",
     "output_type": "stream",
     "text": [
      "Model: \"sequential_10\"\n",
      "_________________________________________________________________\n",
      "Layer (type)                 Output Shape              Param #   \n",
      "=================================================================\n",
      "conv2d_31 (Conv2D)           (None, 26, 26, 32)        2432      \n",
      "_________________________________________________________________\n",
      "max_pooling2d_25 (MaxPooling (None, 13, 13, 32)        0         \n",
      "_________________________________________________________________\n",
      "conv2d_32 (Conv2D)           (None, 9, 9, 64)          51264     \n",
      "_________________________________________________________________\n",
      "max_pooling2d_26 (MaxPooling (None, 4, 4, 64)          0         \n",
      "_________________________________________________________________\n",
      "conv2d_33 (Conv2D)           (None, 2, 2, 128)         73856     \n",
      "_________________________________________________________________\n",
      "max_pooling2d_27 (MaxPooling (None, 1, 1, 128)         0         \n",
      "_________________________________________________________________\n",
      "flatten_2 (Flatten)          (None, 128)               0         \n",
      "_________________________________________________________________\n",
      "dense_4 (Dense)              (None, 512)               66048     \n",
      "_________________________________________________________________\n",
      "dense_5 (Dense)              (None, 43)                22059     \n",
      "=================================================================\n",
      "Total params: 215,659\n",
      "Trainable params: 215,659\n",
      "Non-trainable params: 0\n",
      "_________________________________________________________________\n"
     ]
    }
   ],
   "source": [
    "# Model summary\n",
    "cnn_1_model.summary()"
   ]
  },
  {
   "cell_type": "markdown",
   "id": "declared-preserve",
   "metadata": {},
   "source": [
    "**b) cnn_2:**"
   ]
  },
  {
   "cell_type": "code",
   "execution_count": 17,
   "id": "municipal-comfort",
   "metadata": {
    "scrolled": true
   },
   "outputs": [
    {
     "name": "stdout",
     "output_type": "stream",
     "text": [
      "Epoch 1/30\n",
      "858/858 [==============================] - ETA: 0s - loss: 3.4770 - accuracy: 0.0761WARNING:tensorflow:From C:\\Users\\ruifi\\anaconda3\\envs\\DLclasses\\lib\\site-packages\\tensorflow\\python\\training\\tracking\\tracking.py:111: Model.state_updates (from tensorflow.python.keras.engine.training) is deprecated and will be removed in a future version.\n",
      "Instructions for updating:\n",
      "This property should not be used in TensorFlow 2.0, as updates are applied automatically.\n",
      "WARNING:tensorflow:From C:\\Users\\ruifi\\anaconda3\\envs\\DLclasses\\lib\\site-packages\\tensorflow\\python\\training\\tracking\\tracking.py:111: Layer.updates (from tensorflow.python.keras.engine.base_layer) is deprecated and will be removed in a future version.\n",
      "Instructions for updating:\n",
      "This property should not be used in TensorFlow 2.0, as updates are applied automatically.\n",
      "INFO:tensorflow:Assets written to: cnn_1_model_file\\assets\n",
      "858/858 [==============================] - 64s 75ms/step - loss: 3.4770 - accuracy: 0.0761 - val_loss: 3.2413 - val_accuracy: 0.1530\n",
      "Epoch 2/30\n",
      "857/858 [============================>.] - ETA: 0s - loss: 3.1165 - accuracy: 0.1479INFO:tensorflow:Assets written to: cnn_1_model_file\\assets\n",
      "858/858 [==============================] - 60s 69ms/step - loss: 3.1162 - accuracy: 0.1479 - val_loss: 2.8273 - val_accuracy: 0.2096\n",
      "Epoch 3/30\n",
      "858/858 [==============================] - ETA: 0s - loss: 2.7931 - accuracy: 0.2125INFO:tensorflow:Assets written to: cnn_1_model_file\\assets\n",
      "858/858 [==============================] - 60s 70ms/step - loss: 2.7931 - accuracy: 0.2125 - val_loss: 2.4196 - val_accuracy: 0.3071\n",
      "Epoch 4/30\n",
      "857/858 [============================>.] - ETA: 0s - loss: 2.4570 - accuracy: 0.2930INFO:tensorflow:Assets written to: cnn_1_model_file\\assets\n",
      "858/858 [==============================] - 63s 73ms/step - loss: 2.4562 - accuracy: 0.2933 - val_loss: 1.9805 - val_accuracy: 0.4142\n",
      "Epoch 5/30\n",
      "858/858 [==============================] - ETA: 0s - loss: 2.1516 - accuracy: 0.3573 ETA: 0s - loss: 2.1524 - accuracy: INFO:tensorflow:Assets written to: cnn_1_model_file\\assets\n",
      "858/858 [==============================] - 62s 72ms/step - loss: 2.1516 - accuracy: 0.3573 - val_loss: 1.7698 - val_accuracy: 0.4371\n",
      "Epoch 6/30\n",
      "858/858 [==============================] - ETA: 0s - loss: 1.9220 - accuracy: 0.4024INFO:tensorflow:Assets written to: cnn_1_model_file\\assets\n",
      "858/858 [==============================] - 64s 75ms/step - loss: 1.9220 - accuracy: 0.4024 - val_loss: 1.5253 - val_accuracy: 0.5086\n",
      "Epoch 7/30\n",
      "858/858 [==============================] - ETA: 0s - loss: 1.7604 - accuracy: 0.4395INFO:tensorflow:Assets written to: cnn_1_model_file\\assets\n",
      "858/858 [==============================] - 63s 73ms/step - loss: 1.7604 - accuracy: 0.4395 - val_loss: 1.3916 - val_accuracy: 0.5538\n",
      "Epoch 8/30\n",
      "858/858 [==============================] - ETA: 0s - loss: 1.6350 - accuracy: 0.4714INFO:tensorflow:Assets written to: cnn_1_model_file\\assets\n",
      "858/858 [==============================] - 60s 69ms/step - loss: 1.6350 - accuracy: 0.4714 - val_loss: 1.2890 - val_accuracy: 0.5721\n",
      "Epoch 9/30\n",
      "857/858 [============================>.] - ETA: 0s - loss: 1.5195 - accuracy: 0.5057INFO:tensorflow:Assets written to: cnn_1_model_file\\assets\n",
      "858/858 [==============================] - 65s 76ms/step - loss: 1.5201 - accuracy: 0.5055 - val_loss: 1.1653 - val_accuracy: 0.6251\n",
      "Epoch 10/30\n",
      "858/858 [==============================] - ETA: 0s - loss: 1.4054 - accuracy: 0.5386INFO:tensorflow:Assets written to: cnn_1_model_file\\assets\n",
      "858/858 [==============================] - 72s 84ms/step - loss: 1.4054 - accuracy: 0.5386 - val_loss: 0.9950 - val_accuracy: 0.6910\n",
      "Epoch 11/30\n",
      "858/858 [==============================] - ETA: 0s - loss: 1.3099 - accuracy: 0.5704INFO:tensorflow:Assets written to: cnn_1_model_file\\assets\n",
      "858/858 [==============================] - 64s 75ms/step - loss: 1.3099 - accuracy: 0.5704 - val_loss: 0.8922 - val_accuracy: 0.7306\n",
      "Epoch 12/30\n",
      "858/858 [==============================] - ETA: 0s - loss: 1.2196 - accuracy: 0.6030INFO:tensorflow:Assets written to: cnn_1_model_file\\assets\n",
      "858/858 [==============================] - 66s 77ms/step - loss: 1.2196 - accuracy: 0.6030 - val_loss: 0.7903 - val_accuracy: 0.7677\n",
      "Epoch 13/30\n",
      "858/858 [==============================] - ETA: 0s - loss: 1.1248 - accuracy: 0.6345INFO:tensorflow:Assets written to: cnn_1_model_file\\assets\n",
      "858/858 [==============================] - 63s 74ms/step - loss: 1.1248 - accuracy: 0.6345 - val_loss: 0.6636 - val_accuracy: 0.8062\n",
      "Epoch 14/30\n",
      "857/858 [============================>.] - ETA: 0s - loss: 1.0527 - accuracy: 0.6587 ETA: 0s - loss: 1.0528 INFO:tensorflow:Assets written to: cnn_1_model_file\\assets\n",
      "858/858 [==============================] - 63s 74ms/step - loss: 1.0524 - accuracy: 0.6588 - val_loss: 0.5998 - val_accuracy: 0.8303\n",
      "Epoch 15/30\n",
      "858/858 [==============================] - ETA: 0s - loss: 0.9788 - accuracy: 0.6817INFO:tensorflow:Assets written to: cnn_1_model_file\\assets\n",
      "858/858 [==============================] - 65s 75ms/step - loss: 0.9788 - accuracy: 0.6817 - val_loss: 0.5247 - val_accuracy: 0.8420\n",
      "Epoch 16/30\n",
      "857/858 [============================>.] - ETA: 0s - loss: 0.9204 - accuracy: 0.7013INFO:tensorflow:Assets written to: cnn_1_model_file\\assets\n",
      "858/858 [==============================] - 63s 73ms/step - loss: 0.9202 - accuracy: 0.7013 - val_loss: 0.4496 - val_accuracy: 0.8621\n",
      "Epoch 17/30\n",
      "858/858 [==============================] - ETA: 0s - loss: 0.8593 - accuracy: 0.7224INFO:tensorflow:Assets written to: cnn_1_model_file\\assets\n",
      "858/858 [==============================] - 63s 74ms/step - loss: 0.8593 - accuracy: 0.7224 - val_loss: 0.4351 - val_accuracy: 0.8866\n",
      "Epoch 18/30\n",
      "858/858 [==============================] - ETA: 0s - loss: 0.8091 - accuracy: 0.7377INFO:tensorflow:Assets written to: cnn_1_model_file\\assets\n",
      "858/858 [==============================] - 62s 73ms/step - loss: 0.8091 - accuracy: 0.7377 - val_loss: 0.3834 - val_accuracy: 0.8940\n",
      "Epoch 19/30\n",
      "858/858 [==============================] - ETA: 0s - loss: 0.7623 - accuracy: 0.7561INFO:tensorflow:Assets written to: cnn_1_model_file\\assets\n",
      "858/858 [==============================] - 67s 78ms/step - loss: 0.7623 - accuracy: 0.7561 - val_loss: 0.3308 - val_accuracy: 0.9084\n",
      "Epoch 20/30\n",
      "858/858 [==============================] - ETA: 0s - loss: 0.7179 - accuracy: 0.7687INFO:tensorflow:Assets written to: cnn_1_model_file\\assets\n",
      "858/858 [==============================] - 63s 74ms/step - loss: 0.7179 - accuracy: 0.7687 - val_loss: 0.2775 - val_accuracy: 0.9271\n",
      "Epoch 21/30\n",
      "858/858 [==============================] - ETA: 0s - loss: 0.6716 - accuracy: 0.7841INFO:tensorflow:Assets written to: cnn_1_model_file\\assets\n",
      "858/858 [==============================] - 62s 72ms/step - loss: 0.6716 - accuracy: 0.7841 - val_loss: 0.2664 - val_accuracy: 0.9271\n",
      "Epoch 22/30\n",
      "858/858 [==============================] - ETA: 0s - loss: 0.6553 - accuracy: 0.7895 ETA: 0s - loss: 0.6551 - accuraINFO:tensorflow:Assets written to: cnn_1_model_file\\assets\n",
      "858/858 [==============================] - 57s 67ms/step - loss: 0.6553 - accuracy: 0.7895 - val_loss: 0.2379 - val_accuracy: 0.9433\n",
      "Epoch 23/30\n",
      "857/858 [============================>.] - ETA: 0s - loss: 0.6160 - accuracy: 0.8034 EINFO:tensorflow:Assets written to: cnn_1_model_file\\assets\n",
      "858/858 [==============================] - 54s 63ms/step - loss: 0.6160 - accuracy: 0.8034 - val_loss: 0.2044 - val_accuracy: 0.9513\n",
      "Epoch 24/30\n",
      "858/858 [==============================] - 63s 74ms/step - loss: 0.5890 - accuracy: 0.8109 - val_loss: 0.2180 - val_accuracy: 0.9485\n",
      "Epoch 25/30\n",
      "858/858 [==============================] - ETA: 0s - loss: 0.5663 - accuracy: 0.8206 ETA: 0s - loss: 0.5658 - accuraINFO:tensorflow:Assets written to: cnn_1_model_file\\assets\n",
      "858/858 [==============================] - 68s 79ms/step - loss: 0.5663 - accuracy: 0.8206 - val_loss: 0.1800 - val_accuracy: 0.9597\n",
      "Epoch 26/30\n",
      "858/858 [==============================] - ETA: 0s - loss: 0.5431 - accuracy: 0.8247INFO:tensorflow:Assets written to: cnn_1_model_file\\assets\n",
      "858/858 [==============================] - 64s 74ms/step - loss: 0.5431 - accuracy: 0.8247 - val_loss: 0.1584 - val_accuracy: 0.9638\n"
     ]
    },
    {
     "name": "stdout",
     "output_type": "stream",
     "text": [
      "Epoch 27/30\n",
      "858/858 [==============================] - ETA: 0s - loss: 0.5145 - accuracy: 0.8363INFO:tensorflow:Assets written to: cnn_1_model_file\\assets\n",
      "858/858 [==============================] - 62s 72ms/step - loss: 0.5145 - accuracy: 0.8363 - val_loss: 0.1515 - val_accuracy: 0.9678\n",
      "Epoch 28/30\n",
      "858/858 [==============================] - ETA: 0s - loss: 0.5051 - accuracy: 0.8416 ETA: 0s - loss: 0.5051 INFO:tensorflow:Assets written to: cnn_1_model_file\\assets\n",
      "858/858 [==============================] - 61s 71ms/step - loss: 0.5051 - accuracy: 0.8416 - val_loss: 0.1328 - val_accuracy: 0.9679\n",
      "Epoch 29/30\n",
      "858/858 [==============================] - ETA: 0s - loss: 0.4792 - accuracy: 0.8473INFO:tensorflow:Assets written to: cnn_1_model_file\\assets\n",
      "858/858 [==============================] - 64s 75ms/step - loss: 0.4792 - accuracy: 0.8473 - val_loss: 0.1325 - val_accuracy: 0.9711\n",
      "Epoch 30/30\n",
      "858/858 [==============================] - ETA: 0s - loss: 0.4563 - accuracy: 0.8533INFO:tensorflow:Assets written to: cnn_1_model_file\\assets\n",
      "858/858 [==============================] - 59s 69ms/step - loss: 0.4563 - accuracy: 0.8533 - val_loss: 0.1154 - val_accuracy: 0.9731\n"
     ]
    }
   ],
   "source": [
    "# Get the model\n",
    "cnn_2_model = cnn_2((30,30,3))\n",
    "\n",
    "# Compile\n",
    "opt = optimizers.RMSprop(lr = 1e-4) # Try Adam\n",
    "\n",
    "cnn_2_model.compile(loss='categorical_crossentropy', \n",
    "                    optimizer=opt, \n",
    "                    metrics=['accuracy'])\n",
    "\n",
    "# Try 64 batches\n",
    "epochs = 30\n",
    "\n",
    "history_2 = cnn_2_model.fit(aug.flow(X_train, y_train, batch_size=32),\n",
    "                            epochs=epochs, \n",
    "                            callbacks=callbacks_list,\n",
    "                            validation_data=(X_val, y_val))"
   ]
  },
  {
   "cell_type": "code",
   "execution_count": 18,
   "id": "upper-ukraine",
   "metadata": {},
   "outputs": [
    {
     "name": "stdout",
     "output_type": "stream",
     "text": [
      "Model: \"sequential\"\n",
      "_________________________________________________________________\n",
      "Layer (type)                 Output Shape              Param #   \n",
      "=================================================================\n",
      "conv2d (Conv2D)              (None, 26, 26, 32)        2432      \n",
      "_________________________________________________________________\n",
      "max_pooling2d (MaxPooling2D) (None, 13, 13, 32)        0         \n",
      "_________________________________________________________________\n",
      "dropout (Dropout)            (None, 13, 13, 32)        0         \n",
      "_________________________________________________________________\n",
      "conv2d_1 (Conv2D)            (None, 9, 9, 64)          51264     \n",
      "_________________________________________________________________\n",
      "max_pooling2d_1 (MaxPooling2 (None, 4, 4, 64)          0         \n",
      "_________________________________________________________________\n",
      "dropout_1 (Dropout)          (None, 4, 4, 64)          0         \n",
      "_________________________________________________________________\n",
      "conv2d_2 (Conv2D)            (None, 2, 2, 128)         73856     \n",
      "_________________________________________________________________\n",
      "max_pooling2d_2 (MaxPooling2 (None, 1, 1, 128)         0         \n",
      "_________________________________________________________________\n",
      "dropout_2 (Dropout)          (None, 1, 1, 128)         0         \n",
      "_________________________________________________________________\n",
      "flatten (Flatten)            (None, 128)               0         \n",
      "_________________________________________________________________\n",
      "dense (Dense)                (None, 512)               66048     \n",
      "_________________________________________________________________\n",
      "dropout_3 (Dropout)          (None, 512)               0         \n",
      "_________________________________________________________________\n",
      "dense_1 (Dense)              (None, 43)                22059     \n",
      "=================================================================\n",
      "Total params: 215,659\n",
      "Trainable params: 215,659\n",
      "Non-trainable params: 0\n",
      "_________________________________________________________________\n"
     ]
    }
   ],
   "source": [
    "# Model summary\n",
    "cnn_2_model.summary()"
   ]
  },
  {
   "cell_type": "markdown",
   "id": "valid-travel",
   "metadata": {},
   "source": [
    "**c) cnn_3:**"
   ]
  },
  {
   "cell_type": "code",
   "execution_count": 30,
   "id": "found-trick",
   "metadata": {
    "scrolled": true
   },
   "outputs": [
    {
     "name": "stdout",
     "output_type": "stream",
     "text": [
      "Epoch 1/30\n",
      "858/858 [==============================] - ETA: 0s - loss: 2.7471 - accuracy: 0.2974INFO:tensorflow:Assets written to: cnn_model_file\\assets\n",
      "858/858 [==============================] - 71s 82ms/step - loss: 2.7471 - accuracy: 0.2974 - val_loss: 1.0745 - val_accuracy: 0.6495\n",
      "Epoch 2/30\n",
      "858/858 [==============================] - ETA: 0s - loss: 1.2737 - accuracy: 0.6033INFO:tensorflow:Assets written to: cnn_model_file\\assets\n",
      "858/858 [==============================] - 69s 81ms/step - loss: 1.2737 - accuracy: 0.6033 - val_loss: 0.3389 - val_accuracy: 0.8888\n",
      "Epoch 3/30\n",
      "858/858 [==============================] - ETA: 0s - loss: 0.8648 - accuracy: 0.7283INFO:tensorflow:Assets written to: cnn_model_file\\assets\n",
      "858/858 [==============================] - 72s 84ms/step - loss: 0.8648 - accuracy: 0.7283 - val_loss: 0.1953 - val_accuracy: 0.9392\n",
      "Epoch 4/30\n",
      "858/858 [==============================] - ETA: 0s - loss: 0.6844 - accuracy: 0.7854 ETA: 0s - loss: 0.6849 - accuraINFO:tensorflow:Assets written to: cnn_model_file\\assets\n",
      "858/858 [==============================] - 70s 81ms/step - loss: 0.6844 - accuracy: 0.7854 - val_loss: 0.1762 - val_accuracy: 0.9424\n",
      "Epoch 5/30\n",
      "858/858 [==============================] - 62s 73ms/step - loss: 0.5940 - accuracy: 0.8139 - val_loss: 0.1773 - val_accuracy: 0.9465\n",
      "Epoch 6/30\n",
      "858/858 [==============================] - ETA: 0s - loss: 0.5257 - accuracy: 0.8358INFO:tensorflow:Assets written to: cnn_model_file\\assets\n",
      "858/858 [==============================] - 70s 81ms/step - loss: 0.5257 - accuracy: 0.8358 - val_loss: 0.0665 - val_accuracy: 0.9812\n",
      "Epoch 7/30\n",
      "858/858 [==============================] - 63s 74ms/step - loss: 0.4815 - accuracy: 0.8488 - val_loss: 0.1078 - val_accuracy: 0.9684\n",
      "Epoch 8/30\n",
      "858/858 [==============================] - ETA: 0s - loss: 0.4471 - accuracy: 0.8604INFO:tensorflow:Assets written to: cnn_model_file\\assets\n",
      "858/858 [==============================] - 70s 82ms/step - loss: 0.4471 - accuracy: 0.8604 - val_loss: 0.0525 - val_accuracy: 0.9855\n",
      "Epoch 9/30\n",
      "858/858 [==============================] - ETA: 0s - loss: 0.4129 - accuracy: 0.8709INFO:tensorflow:Assets written to: cnn_model_file\\assets\n",
      "858/858 [==============================] - 68s 79ms/step - loss: 0.4129 - accuracy: 0.8709 - val_loss: 0.0414 - val_accuracy: 0.9909\n",
      "Epoch 10/30\n",
      "858/858 [==============================] - 62s 73ms/step - loss: 0.3900 - accuracy: 0.8785 - val_loss: 0.0722 - val_accuracy: 0.9797\n",
      "Epoch 11/30\n",
      "858/858 [==============================] - 63s 73ms/step - loss: 0.3699 - accuracy: 0.8838 - val_loss: 0.0538 - val_accuracy: 0.9862\n",
      "Epoch 12/30\n",
      "858/858 [==============================] - ETA: 0s - loss: 0.3541 - accuracy: 0.8900INFO:tensorflow:Assets written to: cnn_model_file\\assets\n",
      "858/858 [==============================] - 71s 82ms/step - loss: 0.3541 - accuracy: 0.8900 - val_loss: 0.0373 - val_accuracy: 0.9890\n",
      "Epoch 13/30\n",
      "858/858 [==============================] - ETA: 0s - loss: 0.3340 - accuracy: 0.8967INFO:tensorflow:Assets written to: cnn_model_file\\assets\n",
      "858/858 [==============================] - 72s 84ms/step - loss: 0.3340 - accuracy: 0.8967 - val_loss: 0.0305 - val_accuracy: 0.9929\n",
      "Epoch 14/30\n",
      "858/858 [==============================] - ETA: 0s - loss: 0.3305 - accuracy: 0.8974INFO:tensorflow:Assets written to: cnn_model_file\\assets\n",
      "858/858 [==============================] - 68s 79ms/step - loss: 0.3305 - accuracy: 0.8974 - val_loss: 0.0300 - val_accuracy: 0.9928\n",
      "Epoch 15/30\n",
      "858/858 [==============================] - 63s 73ms/step - loss: 0.3093 - accuracy: 0.9052 - val_loss: 0.0427 - val_accuracy: 0.9879\n",
      "Epoch 16/30\n",
      "858/858 [==============================] - ETA: 0s - loss: 0.3009 - accuracy: 0.9073INFO:tensorflow:Assets written to: cnn_model_file\\assets\n",
      "858/858 [==============================] - 68s 79ms/step - loss: 0.3009 - accuracy: 0.9073 - val_loss: 0.0299 - val_accuracy: 0.9914\n",
      "Epoch 17/30\n",
      "858/858 [==============================] - ETA: 0s - loss: 0.2950 - accuracy: 0.9083INFO:tensorflow:Assets written to: cnn_model_file\\assets\n",
      "858/858 [==============================] - 70s 81ms/step - loss: 0.2950 - accuracy: 0.9083 - val_loss: 0.0231 - val_accuracy: 0.9947\n",
      "Epoch 18/30\n",
      "858/858 [==============================] - ETA: 0s - loss: 0.2828 - accuracy: 0.9120INFO:tensorflow:Assets written to: cnn_model_file\\assets\n",
      "858/858 [==============================] - 72s 83ms/step - loss: 0.2828 - accuracy: 0.9120 - val_loss: 0.0224 - val_accuracy: 0.9958\n",
      "Epoch 19/30\n",
      "858/858 [==============================] - ETA: 0s - loss: 0.2814 - accuracy: 0.9114INFO:tensorflow:Assets written to: cnn_model_file\\assets\n",
      "858/858 [==============================] - 68s 80ms/step - loss: 0.2814 - accuracy: 0.9114 - val_loss: 0.0203 - val_accuracy: 0.9952\n",
      "Epoch 20/30\n",
      "858/858 [==============================] - 65s 76ms/step - loss: 0.2657 - accuracy: 0.9169 - val_loss: 0.0263 - val_accuracy: 0.9929\n",
      "Epoch 21/30\n",
      "858/858 [==============================] - ETA: 0s - loss: 0.2641 - accuracy: 0.9170INFO:tensorflow:Assets written to: cnn_model_file\\assets\n",
      "858/858 [==============================] - 74s 86ms/step - loss: 0.2641 - accuracy: 0.9170 - val_loss: 0.0168 - val_accuracy: 0.9963\n",
      "Epoch 22/30\n",
      "858/858 [==============================] - 64s 75ms/step - loss: 0.2578 - accuracy: 0.9203 - val_loss: 0.0171 - val_accuracy: 0.9957\n",
      "Epoch 23/30\n",
      "858/858 [==============================] - 66s 76ms/step - loss: 0.2426 - accuracy: 0.9224 - val_loss: 0.0197 - val_accuracy: 0.9945\n",
      "Epoch 24/30\n",
      "858/858 [==============================] - 65s 76ms/step - loss: 0.2461 - accuracy: 0.9234 - val_loss: 0.0340 - val_accuracy: 0.9892\n",
      "Epoch 25/30\n",
      "858/858 [==============================] - 66s 77ms/step - loss: 0.2386 - accuracy: 0.9259 - val_loss: 0.0207 - val_accuracy: 0.9957\n",
      "Epoch 26/30\n",
      "858/858 [==============================] - 65s 75ms/step - loss: 0.2422 - accuracy: 0.9248 - val_loss: 0.0174 - val_accuracy: 0.9952\n"
     ]
    }
   ],
   "source": [
    "# Get the model\n",
    "cnn_3_model = cnn_3((30,30,3))\n",
    "\n",
    "# Compile\n",
    "opt = optimizers.Adam() # https://keras.io/api/optimizers/adam/\n",
    "\n",
    "cnn_3_model.compile(loss='categorical_crossentropy', \n",
    "                    optimizer=opt, \n",
    "                    metrics=['accuracy'])\n",
    "\n",
    "# Try 64 batches\n",
    "epochs = 30\n",
    "\n",
    "history_3 = cnn_3_model.fit(aug.flow(X_train, y_train, batch_size=32),\n",
    "                            epochs=epochs, \n",
    "                            callbacks=callbacks_list,\n",
    "                            validation_data=(X_val, y_val))"
   ]
  },
  {
   "cell_type": "code",
   "execution_count": 31,
   "id": "considered-deputy",
   "metadata": {},
   "outputs": [
    {
     "name": "stdout",
     "output_type": "stream",
     "text": [
      "Model: \"sequential_1\"\n",
      "_________________________________________________________________\n",
      "Layer (type)                 Output Shape              Param #   \n",
      "=================================================================\n",
      "conv2d_3 (Conv2D)            (None, 26, 26, 32)        2432      \n",
      "_________________________________________________________________\n",
      "max_pooling2d_3 (MaxPooling2 (None, 13, 13, 32)        0         \n",
      "_________________________________________________________________\n",
      "batch_normalization (BatchNo (None, 13, 13, 32)        128       \n",
      "_________________________________________________________________\n",
      "dropout_4 (Dropout)          (None, 13, 13, 32)        0         \n",
      "_________________________________________________________________\n",
      "conv2d_4 (Conv2D)            (None, 9, 9, 64)          51264     \n",
      "_________________________________________________________________\n",
      "max_pooling2d_4 (MaxPooling2 (None, 4, 4, 64)          0         \n",
      "_________________________________________________________________\n",
      "batch_normalization_1 (Batch (None, 4, 4, 64)          256       \n",
      "_________________________________________________________________\n",
      "dropout_5 (Dropout)          (None, 4, 4, 64)          0         \n",
      "_________________________________________________________________\n",
      "conv2d_5 (Conv2D)            (None, 2, 2, 128)         73856     \n",
      "_________________________________________________________________\n",
      "max_pooling2d_5 (MaxPooling2 (None, 1, 1, 128)         0         \n",
      "_________________________________________________________________\n",
      "batch_normalization_2 (Batch (None, 1, 1, 128)         512       \n",
      "_________________________________________________________________\n",
      "dropout_6 (Dropout)          (None, 1, 1, 128)         0         \n",
      "_________________________________________________________________\n",
      "flatten_1 (Flatten)          (None, 128)               0         \n",
      "_________________________________________________________________\n",
      "dense_2 (Dense)              (None, 512)               66048     \n",
      "_________________________________________________________________\n",
      "batch_normalization_3 (Batch (None, 512)               2048      \n",
      "_________________________________________________________________\n",
      "dropout_7 (Dropout)          (None, 512)               0         \n",
      "_________________________________________________________________\n",
      "dense_3 (Dense)              (None, 43)                22059     \n",
      "=================================================================\n",
      "Total params: 218,603\n",
      "Trainable params: 217,131\n",
      "Non-trainable params: 1,472\n",
      "_________________________________________________________________\n"
     ]
    }
   ],
   "source": [
    "# Model summary\n",
    "cnn_3_model.summary()"
   ]
  },
  {
   "cell_type": "markdown",
   "id": "gentle-three",
   "metadata": {},
   "source": [
    "**d) cnn_4:**"
   ]
  },
  {
   "cell_type": "code",
   "execution_count": 16,
   "id": "incomplete-honduras",
   "metadata": {
    "scrolled": true
   },
   "outputs": [
    {
     "name": "stdout",
     "output_type": "stream",
     "text": [
      "Epoch 1/30\n",
      "858/858 [==============================] - ETA: 0s - loss: 2.2985 - accuracy: 0.4009WARNING:tensorflow:From C:\\Users\\ruifi\\anaconda3\\envs\\DLclasses\\lib\\site-packages\\tensorflow\\python\\training\\tracking\\tracking.py:111: Model.state_updates (from tensorflow.python.keras.engine.training) is deprecated and will be removed in a future version.\n",
      "Instructions for updating:\n",
      "This property should not be used in TensorFlow 2.0, as updates are applied automatically.\n",
      "WARNING:tensorflow:From C:\\Users\\ruifi\\anaconda3\\envs\\DLclasses\\lib\\site-packages\\tensorflow\\python\\training\\tracking\\tracking.py:111: Layer.updates (from tensorflow.python.keras.engine.base_layer) is deprecated and will be removed in a future version.\n",
      "Instructions for updating:\n",
      "This property should not be used in TensorFlow 2.0, as updates are applied automatically.\n",
      "INFO:tensorflow:Assets written to: cnn_model_file\\assets\n",
      "858/858 [==============================] - 117s 137ms/step - loss: 2.2985 - accuracy: 0.4009 - val_loss: 0.7668 - val_accuracy: 0.7225\n",
      "Epoch 2/30\n",
      "858/858 [==============================] - ETA: 0s - loss: 0.8124 - accuracy: 0.7505INFO:tensorflow:Assets written to: cnn_model_file\\assets\n",
      "858/858 [==============================] - 112s 131ms/step - loss: 0.8124 - accuracy: 0.7505 - val_loss: 0.1461 - val_accuracy: 0.9515\n",
      "Epoch 3/30\n",
      "858/858 [==============================] - ETA: 0s - loss: 0.4736 - accuracy: 0.8510 ETA: 1s - lINFO:tensorflow:Assets written to: cnn_model_file\\assets\n",
      "858/858 [==============================] - 107s 124ms/step - loss: 0.4736 - accuracy: 0.8510 - val_loss: 0.0865 - val_accuracy: 0.9703\n",
      "Epoch 4/30\n",
      "858/858 [==============================] - ETA: 0s - loss: 0.3633 - accuracy: 0.8885INFO:tensorflow:Assets written to: cnn_model_file\\assets\n",
      "858/858 [==============================] - 103s 120ms/step - loss: 0.3633 - accuracy: 0.8885 - val_loss: 0.0731 - val_accuracy: 0.9776\n",
      "Epoch 5/30\n",
      "858/858 [==============================] - ETA: 0s - loss: 0.2971 - accuracy: 0.9100INFO:tensorflow:Assets written to: cnn_model_file\\assets\n",
      "858/858 [==============================] - 103s 120ms/step - loss: 0.2971 - accuracy: 0.9100 - val_loss: 0.0392 - val_accuracy: 0.9869\n",
      "Epoch 6/30\n",
      "858/858 [==============================] - 96s 112ms/step - loss: 0.2585 - accuracy: 0.9219 - val_loss: 0.0410 - val_accuracy: 0.9867\n",
      "Epoch 7/30\n",
      "858/858 [==============================] - ETA: 0s - loss: 0.2341 - accuracy: 0.9295INFO:tensorflow:Assets written to: cnn_model_file\\assets\n",
      "858/858 [==============================] - 106s 123ms/step - loss: 0.2341 - accuracy: 0.9295 - val_loss: 0.0233 - val_accuracy: 0.9933\n",
      "Epoch 8/30\n",
      "858/858 [==============================] - ETA: 0s - loss: 0.2082 - accuracy: 0.9360INFO:tensorflow:Assets written to: cnn_model_file\\assets\n",
      "858/858 [==============================] - 103s 120ms/step - loss: 0.2082 - accuracy: 0.9360 - val_loss: 0.0224 - val_accuracy: 0.9922\n",
      "Epoch 9/30\n",
      "858/858 [==============================] - ETA: 0s - loss: 0.1776 - accuracy: 0.9444INFO:tensorflow:Assets written to: cnn_model_file\\assets\n",
      "858/858 [==============================] - 102s 119ms/step - loss: 0.1776 - accuracy: 0.9444 - val_loss: 0.0193 - val_accuracy: 0.9940\n",
      "Epoch 10/30\n",
      "858/858 [==============================] - 100s 117ms/step - loss: 0.1778 - accuracy: 0.9459 - val_loss: 0.0205 - val_accuracy: 0.9942\n",
      "Epoch 11/30\n",
      "858/858 [==============================] - ETA: 0s - loss: 0.1655 - accuracy: 0.9503INFO:tensorflow:Assets written to: cnn_model_file\\assets\n",
      "858/858 [==============================] - 122s 142ms/step - loss: 0.1655 - accuracy: 0.9503 - val_loss: 0.0129 - val_accuracy: 0.9964\n",
      "Epoch 12/30\n",
      "858/858 [==============================] - ETA: 0s - loss: 0.1520 - accuracy: 0.9539INFO:tensorflow:Assets written to: cnn_model_file\\assets\n",
      "858/858 [==============================] - 110s 129ms/step - loss: 0.1520 - accuracy: 0.9539 - val_loss: 0.0125 - val_accuracy: 0.9963\n",
      "Epoch 13/30\n",
      "858/858 [==============================] - 97s 114ms/step - loss: 0.1459 - accuracy: 0.9546 - val_loss: 0.0170 - val_accuracy: 0.9951\n",
      "Epoch 14/30\n",
      "858/858 [==============================] - 98s 115ms/step - loss: 0.1324 - accuracy: 0.9602 - val_loss: 0.0149 - val_accuracy: 0.9955\n",
      "Epoch 15/30\n",
      "858/858 [==============================] - 112s 131ms/step - loss: 0.1349 - accuracy: 0.9592 - val_loss: 0.0146 - val_accuracy: 0.9947\n",
      "Epoch 16/30\n",
      "858/858 [==============================] - 117s 137ms/step - loss: 0.1232 - accuracy: 0.9631 - val_loss: 0.0166 - val_accuracy: 0.9952\n"
     ]
    }
   ],
   "source": [
    "# Get the model\n",
    "cnn_4_model = cnn_4((30,30,3))\n",
    "\n",
    "# Compile\n",
    "opt = optimizers.Adam() # https://keras.io/api/optimizers/adam/\n",
    "\n",
    "cnn_4_model.compile(loss='categorical_crossentropy', \n",
    "                    optimizer=opt, \n",
    "                    metrics=['accuracy'])\n",
    "\n",
    "# Try 64 batches\n",
    "epochs = 30\n",
    "\n",
    "history_4 = cnn_4_model.fit(aug.flow(X_train, y_train, batch_size=32),\n",
    "                            epochs=epochs, \n",
    "                            callbacks=callbacks_list,\n",
    "                            validation_data=(X_val, y_val))"
   ]
  },
  {
   "cell_type": "code",
   "execution_count": 17,
   "id": "normal-ability",
   "metadata": {},
   "outputs": [
    {
     "name": "stdout",
     "output_type": "stream",
     "text": [
      "Model: \"sequential\"\n",
      "_________________________________________________________________\n",
      "Layer (type)                 Output Shape              Param #   \n",
      "=================================================================\n",
      "conv2d (Conv2D)              (None, 26, 26, 16)        1216      \n",
      "_________________________________________________________________\n",
      "conv2d_1 (Conv2D)            (None, 22, 22, 32)        12832     \n",
      "_________________________________________________________________\n",
      "max_pooling2d (MaxPooling2D) (None, 11, 11, 32)        0         \n",
      "_________________________________________________________________\n",
      "batch_normalization (BatchNo (None, 11, 11, 32)        128       \n",
      "_________________________________________________________________\n",
      "dropout (Dropout)            (None, 11, 11, 32)        0         \n",
      "_________________________________________________________________\n",
      "conv2d_2 (Conv2D)            (None, 9, 9, 64)          18496     \n",
      "_________________________________________________________________\n",
      "conv2d_3 (Conv2D)            (None, 7, 7, 128)         73856     \n",
      "_________________________________________________________________\n",
      "max_pooling2d_1 (MaxPooling2 (None, 3, 3, 128)         0         \n",
      "_________________________________________________________________\n",
      "batch_normalization_1 (Batch (None, 3, 3, 128)         512       \n",
      "_________________________________________________________________\n",
      "dropout_1 (Dropout)          (None, 3, 3, 128)         0         \n",
      "_________________________________________________________________\n",
      "flatten (Flatten)            (None, 1152)              0         \n",
      "_________________________________________________________________\n",
      "dense (Dense)                (None, 512)               590336    \n",
      "_________________________________________________________________\n",
      "batch_normalization_2 (Batch (None, 512)               2048      \n",
      "_________________________________________________________________\n",
      "dropout_2 (Dropout)          (None, 512)               0         \n",
      "_________________________________________________________________\n",
      "dense_1 (Dense)              (None, 43)                22059     \n",
      "=================================================================\n",
      "Total params: 721,483\n",
      "Trainable params: 720,139\n",
      "Non-trainable params: 1,344\n",
      "_________________________________________________________________\n"
     ]
    }
   ],
   "source": [
    "# Model summary\n",
    "cnn_4_model.summary()"
   ]
  },
  {
   "cell_type": "markdown",
   "id": "maritime-syracuse",
   "metadata": {},
   "source": [
    "**e) cnn_5:**"
   ]
  },
  {
   "cell_type": "code",
   "execution_count": 28,
   "id": "irish-tucson",
   "metadata": {
    "scrolled": true
   },
   "outputs": [
    {
     "name": "stdout",
     "output_type": "stream",
     "text": [
      "Epoch 1/30\n",
      "858/858 [==============================] - 127s 148ms/step - loss: 4.4741 - accuracy: 0.2915 - val_loss: 2.1793 - val_accuracy: 0.6535\n",
      "Epoch 2/30\n",
      "858/858 [==============================] - 117s 136ms/step - loss: 2.0256 - accuracy: 0.6439 - val_loss: 1.3251 - val_accuracy: 0.8137\n",
      "Epoch 3/30\n",
      "858/858 [==============================] - 114s 133ms/step - loss: 1.4231 - accuracy: 0.7684 - val_loss: 0.8713 - val_accuracy: 0.9338\n",
      "Epoch 4/30\n",
      "858/858 [==============================] - 123s 144ms/step - loss: 1.2060 - accuracy: 0.8155 - val_loss: 0.7883 - val_accuracy: 0.9370\n",
      "Epoch 5/30\n",
      "858/858 [==============================] - 118s 137ms/step - loss: 1.0841 - accuracy: 0.8429 - val_loss: 0.7113 - val_accuracy: 0.9550\n",
      "Epoch 6/30\n",
      "858/858 [==============================] - 122s 143ms/step - loss: 1.0273 - accuracy: 0.8580 - val_loss: 0.6833 - val_accuracy: 0.9573\n",
      "Epoch 7/30\n",
      "858/858 [==============================] - 110s 128ms/step - loss: 0.9868 - accuracy: 0.8686 - val_loss: 0.7221 - val_accuracy: 0.9409\n",
      "Epoch 8/30\n",
      "858/858 [==============================] - 111s 129ms/step - loss: 0.9471 - accuracy: 0.8774 - val_loss: 0.6345 - val_accuracy: 0.9732\n",
      "Epoch 9/30\n",
      "858/858 [==============================] - 116s 135ms/step - loss: 0.9301 - accuracy: 0.8802 - val_loss: 0.7528 - val_accuracy: 0.9341\n",
      "Epoch 10/30\n",
      "858/858 [==============================] - 114s 132ms/step - loss: 0.8821 - accuracy: 0.8897 - val_loss: 0.6316 - val_accuracy: 0.9708\n",
      "Epoch 11/30\n",
      "858/858 [==============================] - 111s 129ms/step - loss: 0.8836 - accuracy: 0.8910 - val_loss: 0.6090 - val_accuracy: 0.9740\n",
      "Epoch 12/30\n",
      "858/858 [==============================] - 112s 130ms/step - loss: 0.8579 - accuracy: 0.8966 - val_loss: 0.6072 - val_accuracy: 0.9740\n",
      "Epoch 13/30\n",
      "858/858 [==============================] - 115s 134ms/step - loss: 0.8455 - accuracy: 0.8990 - val_loss: 0.5787 - val_accuracy: 0.9823\n",
      "Epoch 14/30\n",
      "858/858 [==============================] - 116s 136ms/step - loss: 0.8470 - accuracy: 0.9000 - val_loss: 0.5721 - val_accuracy: 0.9830\n",
      "Epoch 15/30\n",
      "858/858 [==============================] - 122s 142ms/step - loss: 0.8300 - accuracy: 0.9059 - val_loss: 0.5707 - val_accuracy: 0.9846\n",
      "Epoch 16/30\n",
      "858/858 [==============================] - 116s 135ms/step - loss: 0.8155 - accuracy: 0.9072 - val_loss: 0.5549 - val_accuracy: 0.9867\n",
      "Epoch 17/30\n",
      "858/858 [==============================] - 118s 137ms/step - loss: 0.7986 - accuracy: 0.9097 - val_loss: 0.5678 - val_accuracy: 0.9806\n",
      "Epoch 18/30\n",
      "858/858 [==============================] - 117s 137ms/step - loss: 0.8227 - accuracy: 0.9031 - val_loss: 0.5696 - val_accuracy: 0.9810\n",
      "Epoch 19/30\n",
      "858/858 [==============================] - 115s 134ms/step - loss: 0.7999 - accuracy: 0.9072 - val_loss: 0.5818 - val_accuracy: 0.9799\n",
      "Epoch 20/30\n",
      "858/858 [==============================] - 117s 136ms/step - loss: 0.7824 - accuracy: 0.9131 - val_loss: 0.5453 - val_accuracy: 0.9873\n",
      "Epoch 21/30\n",
      "858/858 [==============================] - 116s 135ms/step - loss: 0.7907 - accuracy: 0.9121 - val_loss: 0.5449 - val_accuracy: 0.9858\n",
      "Epoch 22/30\n",
      "858/858 [==============================] - 118s 138ms/step - loss: 0.7673 - accuracy: 0.9145 - val_loss: 0.5454 - val_accuracy: 0.9853\n",
      "Epoch 23/30\n",
      "858/858 [==============================] - 120s 140ms/step - loss: 0.7763 - accuracy: 0.9142 - val_loss: 0.5554 - val_accuracy: 0.9788\n",
      "Epoch 24/30\n",
      "858/858 [==============================] - 116s 135ms/step - loss: 0.7723 - accuracy: 0.9148 - val_loss: 0.5301 - val_accuracy: 0.9884\n",
      "Epoch 25/30\n",
      "858/858 [==============================] - 119s 139ms/step - loss: 0.7696 - accuracy: 0.9150 - val_loss: 0.5168 - val_accuracy: 0.9923\n",
      "Epoch 26/30\n",
      "858/858 [==============================] - 122s 143ms/step - loss: 0.7445 - accuracy: 0.9184 - val_loss: 0.6061 - val_accuracy: 0.9579\n",
      "Epoch 27/30\n",
      "858/858 [==============================] - 117s 137ms/step - loss: 0.7528 - accuracy: 0.9166 - val_loss: 0.5323 - val_accuracy: 0.9831\n",
      "Epoch 28/30\n",
      "858/858 [==============================] - 116s 135ms/step - loss: 0.7350 - accuracy: 0.9192 - val_loss: 0.5331 - val_accuracy: 0.9821\n",
      "Epoch 29/30\n",
      "858/858 [==============================] - 118s 137ms/step - loss: 0.7588 - accuracy: 0.9151 - val_loss: 0.4960 - val_accuracy: 0.9936\n",
      "Epoch 30/30\n",
      "858/858 [==============================] - 120s 140ms/step - loss: 0.7163 - accuracy: 0.9234 - val_loss: 0.5224 - val_accuracy: 0.9807\n"
     ]
    }
   ],
   "source": [
    "# Get the model\n",
    "cnn_5_model = cnn_5((30,30,3))\n",
    "\n",
    "# Compile\n",
    "opt = optimizers.Adam() # https://keras.io/api/optimizers/adam/\n",
    "\n",
    "cnn_5_model.compile(loss='categorical_crossentropy', \n",
    "                    optimizer=opt, \n",
    "                    metrics=['accuracy'])\n",
    "\n",
    "# Try 64 batches\n",
    "epochs = 30\n",
    "\n",
    "history_5 = cnn_5_model.fit(aug.flow(X_train, y_train, batch_size=32),\n",
    "                            epochs=epochs, \n",
    "                            callbacks=callbacks_list,\n",
    "                            validation_data=(X_val, y_val))"
   ]
  },
  {
   "cell_type": "code",
   "execution_count": 29,
   "id": "historical-connecticut",
   "metadata": {},
   "outputs": [
    {
     "name": "stdout",
     "output_type": "stream",
     "text": [
      "Model: \"sequential_1\"\n",
      "_________________________________________________________________\n",
      "Layer (type)                 Output Shape              Param #   \n",
      "=================================================================\n",
      "conv2d_4 (Conv2D)            (None, 26, 26, 32)        2432      \n",
      "_________________________________________________________________\n",
      "conv2d_5 (Conv2D)            (None, 22, 22, 32)        25632     \n",
      "_________________________________________________________________\n",
      "max_pooling2d_2 (MaxPooling2 (None, 11, 11, 32)        0         \n",
      "_________________________________________________________________\n",
      "batch_normalization_3 (Batch (None, 11, 11, 32)        128       \n",
      "_________________________________________________________________\n",
      "dropout_3 (Dropout)          (None, 11, 11, 32)        0         \n",
      "_________________________________________________________________\n",
      "conv2d_6 (Conv2D)            (None, 9, 9, 64)          18496     \n",
      "_________________________________________________________________\n",
      "conv2d_7 (Conv2D)            (None, 7, 7, 64)          36928     \n",
      "_________________________________________________________________\n",
      "max_pooling2d_3 (MaxPooling2 (None, 3, 3, 64)          0         \n",
      "_________________________________________________________________\n",
      "batch_normalization_4 (Batch (None, 3, 3, 64)          256       \n",
      "_________________________________________________________________\n",
      "dropout_4 (Dropout)          (None, 3, 3, 64)          0         \n",
      "_________________________________________________________________\n",
      "flatten_1 (Flatten)          (None, 576)               0         \n",
      "_________________________________________________________________\n",
      "dense_2 (Dense)              (None, 512)               295424    \n",
      "_________________________________________________________________\n",
      "batch_normalization_5 (Batch (None, 512)               2048      \n",
      "_________________________________________________________________\n",
      "dropout_5 (Dropout)          (None, 512)               0         \n",
      "_________________________________________________________________\n",
      "dense_3 (Dense)              (None, 43)                22059     \n",
      "=================================================================\n",
      "Total params: 403,403\n",
      "Trainable params: 402,187\n",
      "Non-trainable params: 1,216\n",
      "_________________________________________________________________\n"
     ]
    }
   ],
   "source": [
    "# Model summary\n",
    "cnn_5_model.summary()"
   ]
  },
  {
   "cell_type": "markdown",
   "id": "italic-analyst",
   "metadata": {},
   "source": [
    "**f) cnn_6:**"
   ]
  },
  {
   "cell_type": "code",
   "execution_count": 17,
   "id": "trying-investigator",
   "metadata": {
    "scrolled": true
   },
   "outputs": [
    {
     "name": "stdout",
     "output_type": "stream",
     "text": [
      "Epoch 1/30\n",
      "429/429 [==============================] - ETA: 0s - loss: 2.7930 - accuracy: 0.2781WARNING:tensorflow:From C:\\Users\\ruifi\\anaconda3\\envs\\DLclasses\\lib\\site-packages\\tensorflow\\python\\training\\tracking\\tracking.py:111: Model.state_updates (from tensorflow.python.keras.engine.training) is deprecated and will be removed in a future version.\n",
      "Instructions for updating:\n",
      "This property should not be used in TensorFlow 2.0, as updates are applied automatically.\n",
      "WARNING:tensorflow:From C:\\Users\\ruifi\\anaconda3\\envs\\DLclasses\\lib\\site-packages\\tensorflow\\python\\training\\tracking\\tracking.py:111: Layer.updates (from tensorflow.python.keras.engine.base_layer) is deprecated and will be removed in a future version.\n",
      "Instructions for updating:\n",
      "This property should not be used in TensorFlow 2.0, as updates are applied automatically.\n",
      "INFO:tensorflow:Assets written to: cnn_model_file\\assets\n",
      "429/429 [==============================] - 71s 166ms/step - loss: 2.7930 - accuracy: 0.2781 - val_loss: 2.3155 - val_accuracy: 0.3438\n",
      "Epoch 2/30\n",
      "429/429 [==============================] - ETA: 0s - loss: 1.3675 - accuracy: 0.5719INFO:tensorflow:Assets written to: cnn_model_file\\assets\n",
      "429/429 [==============================] - 70s 164ms/step - loss: 1.3675 - accuracy: 0.5719 - val_loss: 0.5459 - val_accuracy: 0.8357\n",
      "Epoch 3/30\n",
      "429/429 [==============================] - ETA: 0s - loss: 0.8859 - accuracy: 0.7204INFO:tensorflow:Assets written to: cnn_model_file\\assets\n",
      "429/429 [==============================] - 64s 150ms/step - loss: 0.8859 - accuracy: 0.7204 - val_loss: 0.2329 - val_accuracy: 0.9346\n",
      "Epoch 4/30\n",
      "429/429 [==============================] - ETA: 0s - loss: 0.6546 - accuracy: 0.7905INFO:tensorflow:Assets written to: cnn_model_file\\assets\n",
      "429/429 [==============================] - 61s 142ms/step - loss: 0.6546 - accuracy: 0.7905 - val_loss: 0.2289 - val_accuracy: 0.9326\n",
      "Epoch 5/30\n",
      "429/429 [==============================] - ETA: 0s - loss: 0.5452 - accuracy: 0.8276INFO:tensorflow:Assets written to: cnn_model_file\\assets\n",
      "429/429 [==============================] - 60s 141ms/step - loss: 0.5452 - accuracy: 0.8276 - val_loss: 0.1165 - val_accuracy: 0.9674\n",
      "Epoch 6/30\n",
      "429/429 [==============================] - ETA: 0s - loss: 0.4600 - accuracy: 0.8525INFO:tensorflow:Assets written to: cnn_model_file\\assets\n",
      "429/429 [==============================] - 64s 150ms/step - loss: 0.4600 - accuracy: 0.8525 - val_loss: 0.1107 - val_accuracy: 0.9657\n",
      "Epoch 7/30\n",
      "429/429 [==============================] - ETA: 0s - loss: 0.4106 - accuracy: 0.8728INFO:tensorflow:Assets written to: cnn_model_file\\assets\n",
      "429/429 [==============================] - 61s 143ms/step - loss: 0.4106 - accuracy: 0.8728 - val_loss: 0.0647 - val_accuracy: 0.9805\n",
      "Epoch 8/30\n",
      "429/429 [==============================] - ETA: 0s - loss: 0.3846 - accuracy: 0.8773INFO:tensorflow:Assets written to: cnn_model_file\\assets\n",
      "429/429 [==============================] - 61s 142ms/step - loss: 0.3846 - accuracy: 0.8773 - val_loss: 0.0550 - val_accuracy: 0.9861\n",
      "Epoch 9/30\n",
      "429/429 [==============================] - ETA: 0s - loss: 0.3452 - accuracy: 0.8923INFO:tensorflow:Assets written to: cnn_model_file\\assets\n",
      "429/429 [==============================] - 59s 139ms/step - loss: 0.3452 - accuracy: 0.8923 - val_loss: 0.0538 - val_accuracy: 0.9818\n",
      "Epoch 10/30\n",
      "429/429 [==============================] - ETA: 0s - loss: 0.3202 - accuracy: 0.8970INFO:tensorflow:Assets written to: cnn_model_file\\assets\n",
      "429/429 [==============================] - 62s 145ms/step - loss: 0.3202 - accuracy: 0.8970 - val_loss: 0.0385 - val_accuracy: 0.9893\n",
      "Epoch 11/30\n",
      "429/429 [==============================] - 57s 132ms/step - loss: 0.3091 - accuracy: 0.9043 - val_loss: 0.0491 - val_accuracy: 0.9843\n",
      "Epoch 12/30\n",
      "429/429 [==============================] - 62s 144ms/step - loss: 0.2940 - accuracy: 0.9097 - val_loss: 0.0398 - val_accuracy: 0.9869\n",
      "Epoch 13/30\n",
      "429/429 [==============================] - ETA: 0s - loss: 0.2860 - accuracy: 0.9122INFO:tensorflow:Assets written to: cnn_model_file\\assets\n",
      "429/429 [==============================] - 86s 200ms/step - loss: 0.2860 - accuracy: 0.9122 - val_loss: 0.0342 - val_accuracy: 0.9922\n",
      "Epoch 14/30\n",
      "429/429 [==============================] - ETA: 0s - loss: 0.2669 - accuracy: 0.9166 ETA: 0s - loss: 0.2669 - accuracy: INFO:tensorflow:Assets written to: cnn_model_file\\assets\n",
      "429/429 [==============================] - 70s 163ms/step - loss: 0.2669 - accuracy: 0.9166 - val_loss: 0.0273 - val_accuracy: 0.9912\n",
      "Epoch 15/30\n",
      "429/429 [==============================] - 58s 135ms/step - loss: 0.2612 - accuracy: 0.9185 - val_loss: 0.0449 - val_accuracy: 0.9867\n",
      "Epoch 16/30\n",
      "429/429 [==============================] - ETA: 0s - loss: 0.2395 - accuracy: 0.9252INFO:tensorflow:Assets written to: cnn_model_file\\assets\n",
      "429/429 [==============================] - 63s 147ms/step - loss: 0.2395 - accuracy: 0.9252 - val_loss: 0.0233 - val_accuracy: 0.9949\n",
      "Epoch 17/30\n",
      "429/429 [==============================] - ETA: 0s - loss: 0.2388 - accuracy: 0.9243INFO:tensorflow:Assets written to: cnn_model_file\\assets\n",
      "429/429 [==============================] - 62s 144ms/step - loss: 0.2388 - accuracy: 0.9243 - val_loss: 0.0208 - val_accuracy: 0.9952\n",
      "Epoch 18/30\n",
      "429/429 [==============================] - 54s 127ms/step - loss: 0.2374 - accuracy: 0.9271 - val_loss: 0.0271 - val_accuracy: 0.9916\n",
      "Epoch 19/30\n",
      "429/429 [==============================] - ETA: 0s - loss: 0.2236 - accuracy: 0.9288INFO:tensorflow:Assets written to: cnn_model_file\\assets\n",
      "429/429 [==============================] - 68s 158ms/step - loss: 0.2236 - accuracy: 0.9288 - val_loss: 0.0146 - val_accuracy: 0.9969\n",
      "Epoch 20/30\n",
      "429/429 [==============================] - 55s 129ms/step - loss: 0.2211 - accuracy: 0.9306 - val_loss: 0.0212 - val_accuracy: 0.9935\n",
      "Epoch 21/30\n",
      "429/429 [==============================] - 54s 126ms/step - loss: 0.2241 - accuracy: 0.9317 - val_loss: 0.0214 - val_accuracy: 0.9942\n",
      "Epoch 22/30\n",
      "429/429 [==============================] - 57s 133ms/step - loss: 0.1993 - accuracy: 0.9390 - val_loss: 0.0378 - val_accuracy: 0.9882\n",
      "Epoch 23/30\n",
      "429/429 [==============================] - ETA: 0s - loss: 0.1956 - accuracy: 0.9384INFO:tensorflow:Assets written to: cnn_model_file\\assets\n",
      "429/429 [==============================] - 65s 152ms/step - loss: 0.1956 - accuracy: 0.9384 - val_loss: 0.0128 - val_accuracy: 0.9963\n",
      "Epoch 24/30\n",
      "429/429 [==============================] - 56s 130ms/step - loss: 0.1960 - accuracy: 0.9392 - val_loss: 0.0194 - val_accuracy: 0.9948\n"
     ]
    }
   ],
   "source": [
    "# Get the model\n",
    "cnn_6_model = cnn_6((30,30,3))\n",
    "\n",
    "# Compile\n",
    "opt = optimizers.Adam() # https://keras.io/api/optimizers/adam/\n",
    "\n",
    "cnn_6_model.compile(loss='categorical_crossentropy', \n",
    "                    optimizer=opt, \n",
    "                    metrics=['accuracy'])\n",
    "\n",
    "# 64 batches!!!\n",
    "epochs = 30\n",
    "\n",
    "history_6 = cnn_6_model.fit(aug.flow(X_train, y_train, batch_size=64),\n",
    "                            epochs=epochs, \n",
    "                            callbacks=callbacks_list,\n",
    "                            validation_data=(X_val, y_val))"
   ]
  },
  {
   "cell_type": "code",
   "execution_count": 18,
   "id": "sunrise-hazard",
   "metadata": {},
   "outputs": [
    {
     "name": "stdout",
     "output_type": "stream",
     "text": [
      "Model: \"sequential\"\n",
      "_________________________________________________________________\n",
      "Layer (type)                 Output Shape              Param #   \n",
      "=================================================================\n",
      "conv2d (Conv2D)              (None, 26, 26, 32)        2432      \n",
      "_________________________________________________________________\n",
      "max_pooling2d (MaxPooling2D) (None, 13, 13, 32)        0         \n",
      "_________________________________________________________________\n",
      "batch_normalization (BatchNo (None, 13, 13, 32)        128       \n",
      "_________________________________________________________________\n",
      "dropout (Dropout)            (None, 13, 13, 32)        0         \n",
      "_________________________________________________________________\n",
      "conv2d_1 (Conv2D)            (None, 9, 9, 64)          51264     \n",
      "_________________________________________________________________\n",
      "max_pooling2d_1 (MaxPooling2 (None, 4, 4, 64)          0         \n",
      "_________________________________________________________________\n",
      "batch_normalization_1 (Batch (None, 4, 4, 64)          256       \n",
      "_________________________________________________________________\n",
      "dropout_1 (Dropout)          (None, 4, 4, 64)          0         \n",
      "_________________________________________________________________\n",
      "conv2d_2 (Conv2D)            (None, 2, 2, 128)         73856     \n",
      "_________________________________________________________________\n",
      "max_pooling2d_2 (MaxPooling2 (None, 1, 1, 128)         0         \n",
      "_________________________________________________________________\n",
      "batch_normalization_2 (Batch (None, 1, 1, 128)         512       \n",
      "_________________________________________________________________\n",
      "dropout_2 (Dropout)          (None, 1, 1, 128)         0         \n",
      "_________________________________________________________________\n",
      "flatten (Flatten)            (None, 128)               0         \n",
      "_________________________________________________________________\n",
      "dense (Dense)                (None, 256)               33024     \n",
      "_________________________________________________________________\n",
      "batch_normalization_3 (Batch (None, 256)               1024      \n",
      "_________________________________________________________________\n",
      "dropout_3 (Dropout)          (None, 256)               0         \n",
      "_________________________________________________________________\n",
      "dense_1 (Dense)              (None, 43)                11051     \n",
      "=================================================================\n",
      "Total params: 173,547\n",
      "Trainable params: 172,587\n",
      "Non-trainable params: 960\n",
      "_________________________________________________________________\n"
     ]
    }
   ],
   "source": [
    "# Model summary\n",
    "cnn_6_model.summary()"
   ]
  },
  {
   "cell_type": "markdown",
   "id": "removable-contents",
   "metadata": {},
   "source": [
    "**Pre-trained Models:**"
   ]
  },
  {
   "cell_type": "markdown",
   "id": "unusual-literature",
   "metadata": {},
   "source": [
    "**a) VGG16:**"
   ]
  },
  {
   "cell_type": "code",
   "execution_count": 39,
   "id": "spanish-hydrogen",
   "metadata": {},
   "outputs": [
    {
     "name": "stdout",
     "output_type": "stream",
     "text": [
      "Epoch 1/5\n",
      "858/858 [==============================] - 232s 270ms/step - loss: 2.0923 - accuracy: 0.3975 - val_loss: 1.4338 - val_accuracy: 0.5494\n",
      "Epoch 2/5\n",
      "858/858 [==============================] - 235s 274ms/step - loss: 1.6027 - accuracy: 0.5011 - val_loss: 1.2840 - val_accuracy: 0.5777\n",
      "Epoch 3/5\n",
      "858/858 [==============================] - 235s 274ms/step - loss: 1.4870 - accuracy: 0.5287 - val_loss: 1.2267 - val_accuracy: 0.6054\n",
      "Epoch 4/5\n",
      "858/858 [==============================] - 231s 270ms/step - loss: 1.4239 - accuracy: 0.5448 - val_loss: 1.1465 - val_accuracy: 0.6194\n",
      "Epoch 5/5\n",
      "858/858 [==============================] - 230s 268ms/step - loss: 1.3796 - accuracy: 0.5597 - val_loss: 1.1428 - val_accuracy: 0.6295\n"
     ]
    }
   ],
   "source": [
    "# Get the model\n",
    "from keras.models import Model\n",
    "vgg_model = Model(inputs=vgg.input, outputs=x)\n",
    "\n",
    "# Compile\n",
    "opt = optimizers.Adam() # https://keras.io/api/optimizers/adam/\n",
    "\n",
    "vgg_model.compile(loss='categorical_crossentropy', \n",
    "                  optimizer=opt, \n",
    "                  metrics=['accuracy'])\n",
    "\n",
    "# Fit\n",
    "epochs = 5 # Less epochs, bc only the fully connected layer will be trained\n",
    "\n",
    "history_vgg = vgg_model.fit(aug.flow(X_train, y_train, batch_size=32),\n",
    "                            epochs=epochs, \n",
    "                            callbacks=callbacks_list,\n",
    "                            validation_data=(X_val, y_val))"
   ]
  },
  {
   "cell_type": "markdown",
   "id": "greek-effectiveness",
   "metadata": {},
   "source": [
    "**b) EfficientNetB7:**"
   ]
  },
  {
   "cell_type": "code",
   "execution_count": 47,
   "id": "threaded-stage",
   "metadata": {},
   "outputs": [
    {
     "name": "stdout",
     "output_type": "stream",
     "text": [
      "Epoch 1/5\n",
      "858/858 [==============================] - 402s 468ms/step - loss: 3.7821 - accuracy: 0.0486 - val_loss: 3.5191 - val_accuracy: 0.0583\n",
      "Epoch 2/5\n",
      "858/858 [==============================] - 405s 472ms/step - loss: 3.6357 - accuracy: 0.0508 - val_loss: 3.5123 - val_accuracy: 0.0526\n",
      "Epoch 3/5\n",
      "858/858 [==============================] - 398s 464ms/step - loss: 3.5746 - accuracy: 0.0519 - val_loss: 3.4952 - val_accuracy: 0.0583\n",
      "Epoch 4/5\n",
      "858/858 [==============================] - 397s 463ms/step - loss: 3.5477 - accuracy: 0.0532 - val_loss: 3.5021 - val_accuracy: 0.0556\n",
      "Epoch 5/5\n",
      "858/858 [==============================] - 392s 457ms/step - loss: 3.5410 - accuracy: 0.0527 - val_loss: 3.5030 - val_accuracy: 0.0527\n"
     ]
    }
   ],
   "source": [
    "# Get the model\n",
    "e_net_model = Model(inputs=e_net.input, outputs=y)\n",
    "\n",
    "# Compile\n",
    "opt = optimizers.Adam() # https://keras.io/api/optimizers/adam/\n",
    "\n",
    "e_net_model.compile(loss='categorical_crossentropy', \n",
    "                    optimizer=opt, \n",
    "                    metrics=['accuracy'])\n",
    "\n",
    "# Fit\n",
    "epochs = 5 # Less epochs, bc only the fully connected layer will be trained\n",
    "\n",
    "history_e_net = e_net_model.fit(aug.flow(X_train, y_train, batch_size=32),\n",
    "                                epochs=epochs, \n",
    "                                callbacks=callbacks_list,\n",
    "                                validation_data=(X_val, y_val))"
   ]
  },
  {
   "cell_type": "markdown",
   "id": "hairy-tiger",
   "metadata": {},
   "source": [
    "**c) ResNet152V2:**"
   ]
  },
  {
   "cell_type": "code",
   "execution_count": 61,
   "id": "rental-today",
   "metadata": {},
   "outputs": [
    {
     "name": "stdout",
     "output_type": "stream",
     "text": [
      "Epoch 1/5\n",
      "858/858 [==============================] - 293s 341ms/step - loss: 2.8675 - accuracy: 0.2502 - val_loss: 2.0493 - val_accuracy: 0.3840\n",
      "Epoch 2/5\n",
      "858/858 [==============================] - 287s 334ms/step - loss: 2.3089 - accuracy: 0.3271 - val_loss: 1.9001 - val_accuracy: 0.4210\n",
      "Epoch 3/5\n",
      "858/858 [==============================] - 290s 338ms/step - loss: 2.1644 - accuracy: 0.3503 - val_loss: 1.8266 - val_accuracy: 0.4343\n",
      "Epoch 4/5\n",
      "858/858 [==============================] - 286s 334ms/step - loss: 2.0789 - accuracy: 0.3693 - val_loss: 1.7675 - val_accuracy: 0.4561\n",
      "Epoch 5/5\n",
      "858/858 [==============================] - 288s 336ms/step - loss: 2.0290 - accuracy: 0.3832 - val_loss: 1.7517 - val_accuracy: 0.4534\n"
     ]
    }
   ],
   "source": [
    "# Get the model\n",
    "resnet_model = Model(inputs=resnet.input, outputs=z)\n",
    "\n",
    "# Compile\n",
    "opt = optimizers.Adam() # https://keras.io/api/optimizers/adam/\n",
    "\n",
    "resnet_model.compile(loss='categorical_crossentropy', \n",
    "                     optimizer=opt, \n",
    "                     metrics=['accuracy'])\n",
    "\n",
    "# Fit\n",
    "epochs = 5 # Less epochs, bc only the fully connected layer will be trained\n",
    "\n",
    "history_resnet = resnet_model.fit(aug.flow(X_train, y_train, batch_size=32),\n",
    "                                  epochs=epochs, \n",
    "                                  callbacks=callbacks_list,\n",
    "                                  validation_data=(X_val, y_val))"
   ]
  },
  {
   "cell_type": "markdown",
   "id": "mediterranean-clarity",
   "metadata": {},
   "source": [
    "As it can be seen by the three previous outputs, the pre-trained models had very weak performances in general, and specifically in the validation accuracy. Thus, we will perform the predictions on the test dataset using one of our CNN architectures, so we won't be showing any more metrics for these three transfer learning models (i.e. VGG16, EfficientNetB7, and ResNet152V2) in the next sections of this Notebook."
   ]
  },
  {
   "cell_type": "markdown",
   "id": "incorporated-jewel",
   "metadata": {},
   "source": [
    "## 6. Evaluating the Model"
   ]
  },
  {
   "cell_type": "markdown",
   "id": "solar-monthly",
   "metadata": {},
   "source": [
    "**Our CNN Architectures:**"
   ]
  },
  {
   "cell_type": "markdown",
   "id": "democratic-burke",
   "metadata": {},
   "source": [
    "**a) cnn_1:**"
   ]
  },
  {
   "cell_type": "code",
   "execution_count": 84,
   "id": "approved-feelings",
   "metadata": {},
   "outputs": [
    {
     "data": {
      "image/png": "[encoded data removed]",
      "text/plain": [
       "<Figure size 576x360 with 1 Axes>"
      ]
     },
     "metadata": {
      "needs_background": "light"
     },
     "output_type": "display_data"
    }
   ],
   "source": [
    "pd.DataFrame(history_1.history).plot(figsize=(8, 5))\n",
    "plt.grid(True)\n",
    "plt.gca().set_ylim(0, 3.5)\n",
    "\n",
    "plt.title('Accuracy and Loss', size=23)\n",
    "plt.xlabel('epochs')\n",
    "\n",
    "plt.show()"
   ]
  },
  {
   "cell_type": "markdown",
   "id": "preceding-artwork",
   "metadata": {},
   "source": [
    "**b) cnn_2:**"
   ]
  },
  {
   "cell_type": "code",
   "execution_count": 19,
   "id": "color-runner",
   "metadata": {},
   "outputs": [
    {
     "data": {
      "image/png": "[encoded data removed]",
      "text/plain": [
       "<Figure size 576x360 with 1 Axes>"
      ]
     },
     "metadata": {
      "needs_background": "light"
     },
     "output_type": "display_data"
    }
   ],
   "source": [
    "pd.DataFrame(history_2.history).plot(figsize=(8, 5))\n",
    "plt.grid(True)\n",
    "plt.gca().set_ylim(0, 3.5)\n",
    "\n",
    "plt.title('Accuracy and Loss', size=23)\n",
    "plt.xlabel('epochs')\n",
    "\n",
    "plt.show()"
   ]
  },
  {
   "cell_type": "markdown",
   "id": "tender-chaos",
   "metadata": {},
   "source": [
    "**c) cnn_3:**"
   ]
  },
  {
   "cell_type": "code",
   "execution_count": 33,
   "id": "editorial-jaguar",
   "metadata": {},
   "outputs": [
    {
     "data": {
      "image/png": "[encoded data removed]",
      "text/plain": [
       "<Figure size 576x360 with 1 Axes>"
      ]
     },
     "metadata": {
      "needs_background": "light"
     },
     "output_type": "display_data"
    }
   ],
   "source": [
    "pd.DataFrame(history_3.history).plot(figsize=(8, 5))\n",
    "plt.grid(True)\n",
    "plt.gca().set_ylim(0, 3)\n",
    "\n",
    "plt.title('Accuracy and Loss', size=23)\n",
    "plt.xlabel('epochs')\n",
    "\n",
    "plt.show()"
   ]
  },
  {
   "cell_type": "markdown",
   "id": "existing-prototype",
   "metadata": {},
   "source": [
    "**d) cnn_4:**"
   ]
  },
  {
   "cell_type": "code",
   "execution_count": 19,
   "id": "major-constraint",
   "metadata": {},
   "outputs": [
    {
     "data": {
      "image/png": "[encoded data removed]",
      "text/plain": [
       "<Figure size 576x360 with 1 Axes>"
      ]
     },
     "metadata": {
      "needs_background": "light"
     },
     "output_type": "display_data"
    }
   ],
   "source": [
    "pd.DataFrame(history_4.history).plot(figsize=(8, 5))\n",
    "plt.grid(True)\n",
    "plt.gca().set_ylim(0, 2.5)\n",
    "\n",
    "plt.title('Accuracy and Loss', size=23)\n",
    "plt.xlabel('epochs')\n",
    "\n",
    "plt.show()"
   ]
  },
  {
   "cell_type": "markdown",
   "id": "flush-respect",
   "metadata": {},
   "source": [
    "**e) cnn_5:**"
   ]
  },
  {
   "cell_type": "code",
   "execution_count": 34,
   "id": "passive-backing",
   "metadata": {},
   "outputs": [
    {
     "data": {
      "image/png": "[encoded data removed]",
      "text/plain": [
       "<Figure size 576x360 with 1 Axes>"
      ]
     },
     "metadata": {
      "needs_background": "light"
     },
     "output_type": "display_data"
    }
   ],
   "source": [
    "pd.DataFrame(history_5.history).plot(figsize=(8, 5))\n",
    "plt.grid(True)\n",
    "plt.gca().set_ylim(0, 4.5)\n",
    "\n",
    "plt.title('Accuracy and Loss', size=23)\n",
    "plt.xlabel('epochs')\n",
    "\n",
    "plt.show()"
   ]
  },
  {
   "cell_type": "markdown",
   "id": "authorized-optimum",
   "metadata": {},
   "source": [
    "**f) cnn_6:**"
   ]
  },
  {
   "cell_type": "code",
   "execution_count": 20,
   "id": "positive-constitution",
   "metadata": {},
   "outputs": [
    {
     "data": {
      "image/png": "[encoded data removed]",
      "text/plain": [
       "<Figure size 576x360 with 1 Axes>"
      ]
     },
     "metadata": {
      "needs_background": "light"
     },
     "output_type": "display_data"
    }
   ],
   "source": [
    "pd.DataFrame(history_6.history).plot(figsize=(8, 5))\n",
    "plt.grid(True)\n",
    "plt.gca().set_ylim(0, 3)\n",
    "\n",
    "plt.title('Accuracy and Loss', size=23)\n",
    "plt.xlabel('epochs')\n",
    "\n",
    "plt.show()"
   ]
  },
  {
   "cell_type": "markdown",
   "id": "valid-trinity",
   "metadata": {},
   "source": [
    "## 7. Importing the Test dataset"
   ]
  },
  {
   "cell_type": "code",
   "execution_count": 21,
   "id": "close-husband",
   "metadata": {},
   "outputs": [],
   "source": [
    "y_test = pd.read_csv('Test.csv')\n",
    "labels_test = y_test[\"ClassId\"].values\n",
    "imgs = y_test[\"Path\"].values\n",
    "data_test = []\n",
    "\n",
    "for img in imgs:\n",
    "    image = Image.open(img)\n",
    "    image = image.resize((30,30))\n",
    "    data_test.append(np.array(image))\n",
    "    \n",
    "X_test = np.array(data_test)"
   ]
  },
  {
   "cell_type": "code",
   "execution_count": 22,
   "id": "exotic-vaccine",
   "metadata": {},
   "outputs": [
    {
     "name": "stdout",
     "output_type": "stream",
     "text": [
      "(12630, 30, 30, 3) (12630,)\n"
     ]
    }
   ],
   "source": [
    "# Check data shape (3 colour channels: Red, Green, Blue)\n",
    "print(X_test.shape, labels_test.shape)"
   ]
  },
  {
   "cell_type": "code",
   "execution_count": 23,
   "id": "latest-chosen",
   "metadata": {},
   "outputs": [],
   "source": [
    "# Normalization\n",
    "X_test = X_test / 255"
   ]
  },
  {
   "cell_type": "markdown",
   "id": "underlying-syria",
   "metadata": {},
   "source": [
    "## 8. Making Predictions and Evaluating the measures"
   ]
  },
  {
   "cell_type": "code",
   "execution_count": 24,
   "id": "stuffed-wright",
   "metadata": {},
   "outputs": [],
   "source": [
    "from sklearn.metrics import accuracy_score, classification_report"
   ]
  },
  {
   "cell_type": "markdown",
   "id": "blond-celebrity",
   "metadata": {},
   "source": [
    "**a) cnn_1:**"
   ]
  },
  {
   "cell_type": "code",
   "execution_count": 94,
   "id": "following-harassment",
   "metadata": {},
   "outputs": [
    {
     "name": "stdout",
     "output_type": "stream",
     "text": [
      "WARNING:tensorflow:From <ipython-input-94-3b2cfb373f0b>:2: Sequential.predict_classes (from tensorflow.python.keras.engine.sequential) is deprecated and will be removed after 2021-01-01.\n",
      "Instructions for updating:\n",
      "Please use instead:* `np.argmax(model.predict(x), axis=-1)`,   if your model does multi-class classification   (e.g. if it uses a `softmax` last-layer activation).* `(model.predict(x) > 0.5).astype(\"int32\")`,   if your model does binary classification   (e.g. if it uses a `sigmoid` last-layer activation).\n"
     ]
    }
   ],
   "source": [
    "# Prediction with the first CNN (cnn_1_model)\n",
    "pred_1 = cnn_1_model.predict_classes(X_test)"
   ]
  },
  {
   "cell_type": "code",
   "execution_count": 95,
   "id": "heavy-cutting",
   "metadata": {},
   "outputs": [
    {
     "name": "stdout",
     "output_type": "stream",
     "text": [
      "Test Dataset accuracy: 91.03\n"
     ]
    }
   ],
   "source": [
    "print('Test Dataset accuracy:', round(accuracy_score(labels_test, pred_1)*100, 2))"
   ]
  },
  {
   "cell_type": "code",
   "execution_count": 96,
   "id": "graphic-plane",
   "metadata": {},
   "outputs": [
    {
     "name": "stdout",
     "output_type": "stream",
     "text": [
      "              precision    recall  f1-score   support\n",
      "\n",
      "           0       0.88      0.63      0.74        60\n",
      "           1       0.88      0.99      0.93       720\n",
      "           2       0.84      0.96      0.89       750\n",
      "           3       0.93      0.88      0.90       450\n",
      "           4       0.98      0.89      0.93       660\n",
      "           5       0.84      0.81      0.83       630\n",
      "           6       0.97      0.96      0.97       150\n",
      "           7       0.93      0.90      0.92       450\n",
      "           8       0.94      0.93      0.94       450\n",
      "           9       0.97      0.89      0.93       480\n",
      "          10       0.94      0.98      0.96       660\n",
      "          11       0.90      0.93      0.91       420\n",
      "          12       1.00      0.90      0.94       690\n",
      "          13       0.99      0.99      0.99       720\n",
      "          14       0.90      0.99      0.94       270\n",
      "          15       1.00      0.99      0.99       210\n",
      "          16       0.91      1.00      0.95       150\n",
      "          17       0.99      0.79      0.88       360\n",
      "          18       0.96      0.74      0.83       390\n",
      "          19       0.97      0.47      0.63        60\n",
      "          20       0.74      0.97      0.84        90\n",
      "          21       0.59      0.63      0.61        90\n",
      "          22       0.97      0.77      0.86       120\n",
      "          23       0.74      0.87      0.80       150\n",
      "          24       0.69      0.79      0.74        90\n",
      "          25       0.92      0.96      0.94       480\n",
      "          26       0.86      0.98      0.91       180\n",
      "          27       0.42      0.47      0.44        60\n",
      "          28       0.96      0.82      0.88       150\n",
      "          29       0.80      1.00      0.89        90\n",
      "          30       0.81      0.77      0.79       150\n",
      "          31       0.77      0.93      0.84       270\n",
      "          32       0.91      0.97      0.94        60\n",
      "          33       0.93      0.98      0.95       210\n",
      "          34       1.00      1.00      1.00       120\n",
      "          35       0.99      0.94      0.96       390\n",
      "          36       0.99      0.87      0.92       120\n",
      "          37       1.00      0.92      0.96        60\n",
      "          38       0.93      0.96      0.95       690\n",
      "          39       0.87      0.68      0.76        90\n",
      "          40       0.74      0.99      0.85        90\n",
      "          41       0.70      0.98      0.82        60\n",
      "          42       0.99      0.89      0.94        90\n",
      "\n",
      "    accuracy                           0.91     12630\n",
      "   macro avg       0.88      0.88      0.87     12630\n",
      "weighted avg       0.92      0.91      0.91     12630\n",
      "\n"
     ]
    }
   ],
   "source": [
    "print(classification_report(labels_test, pred_1))"
   ]
  },
  {
   "cell_type": "markdown",
   "id": "derived-support",
   "metadata": {},
   "source": [
    "**b) cnn_2:**"
   ]
  },
  {
   "cell_type": "code",
   "execution_count": 24,
   "id": "stone-removal",
   "metadata": {},
   "outputs": [
    {
     "name": "stdout",
     "output_type": "stream",
     "text": [
      "WARNING:tensorflow:From <ipython-input-24-2ac60b03f57b>:2: Sequential.predict_classes (from tensorflow.python.keras.engine.sequential) is deprecated and will be removed after 2021-01-01.\n",
      "Instructions for updating:\n",
      "Please use instead:* `np.argmax(model.predict(x), axis=-1)`,   if your model does multi-class classification   (e.g. if it uses a `softmax` last-layer activation).* `(model.predict(x) > 0.5).astype(\"int32\")`,   if your model does binary classification   (e.g. if it uses a `sigmoid` last-layer activation).\n"
     ]
    }
   ],
   "source": [
    "# Prediction with the second CNN (cnn_2_model)\n",
    "pred_2 = cnn_2_model.predict_classes(X_test)"
   ]
  },
  {
   "cell_type": "code",
   "execution_count": 25,
   "id": "minute-choir",
   "metadata": {},
   "outputs": [
    {
     "name": "stdout",
     "output_type": "stream",
     "text": [
      "Test Dataset accuracy: 93.8\n"
     ]
    }
   ],
   "source": [
    "print('Test Dataset accuracy:', round(accuracy_score(labels_test, pred_2)*100, 2))"
   ]
  },
  {
   "cell_type": "code",
   "execution_count": 26,
   "id": "aging-attention",
   "metadata": {},
   "outputs": [
    {
     "name": "stdout",
     "output_type": "stream",
     "text": [
      "              precision    recall  f1-score   support\n",
      "\n",
      "           0       1.00      0.62      0.76        60\n",
      "           1       0.87      1.00      0.93       720\n",
      "           2       0.98      0.95      0.96       750\n",
      "           3       0.98      0.92      0.95       450\n",
      "           4       0.99      0.95      0.97       660\n",
      "           5       0.94      0.92      0.93       630\n",
      "           6       0.92      0.99      0.96       150\n",
      "           7       0.93      0.94      0.94       450\n",
      "           8       0.94      0.96      0.95       450\n",
      "           9       1.00      1.00      1.00       480\n",
      "          10       0.99      1.00      0.99       660\n",
      "          11       0.93      0.93      0.93       420\n",
      "          12       1.00      0.93      0.97       690\n",
      "          13       0.97      1.00      0.98       720\n",
      "          14       1.00      1.00      1.00       270\n",
      "          15       0.94      0.99      0.96       210\n",
      "          16       0.94      1.00      0.97       150\n",
      "          17       1.00      0.93      0.96       360\n",
      "          18       0.92      0.74      0.82       390\n",
      "          19       0.86      0.50      0.63        60\n",
      "          20       0.52      0.96      0.67        90\n",
      "          21       0.84      0.78      0.81        90\n",
      "          22       0.97      0.78      0.87       120\n",
      "          23       0.89      0.87      0.88       150\n",
      "          24       0.60      0.86      0.70        90\n",
      "          25       0.93      0.93      0.93       480\n",
      "          26       0.94      0.99      0.96       180\n",
      "          27       0.44      0.48      0.46        60\n",
      "          28       0.80      0.99      0.88       150\n",
      "          29       0.93      1.00      0.96        90\n",
      "          30       0.82      0.56      0.66       150\n",
      "          31       0.83      0.91      0.87       270\n",
      "          32       1.00      1.00      1.00        60\n",
      "          33       0.92      1.00      0.96       210\n",
      "          34       0.88      1.00      0.93       120\n",
      "          35       1.00      0.95      0.98       390\n",
      "          36       0.87      0.97      0.91       120\n",
      "          37       1.00      0.78      0.88        60\n",
      "          38       0.99      0.97      0.98       690\n",
      "          39       1.00      0.96      0.98        90\n",
      "          40       1.00      0.97      0.98        90\n",
      "          41       1.00      1.00      1.00        60\n",
      "          42       0.92      0.90      0.91        90\n",
      "\n",
      "    accuracy                           0.94     12630\n",
      "   macro avg       0.91      0.90      0.90     12630\n",
      "weighted avg       0.94      0.94      0.94     12630\n",
      "\n"
     ]
    }
   ],
   "source": [
    "print(classification_report(labels_test, pred_2))"
   ]
  },
  {
   "cell_type": "markdown",
   "id": "common-label",
   "metadata": {},
   "source": [
    "**c) cnn_3:**"
   ]
  },
  {
   "cell_type": "code",
   "execution_count": 35,
   "id": "unsigned-dayton",
   "metadata": {},
   "outputs": [],
   "source": [
    "# Prediction with the third CNN (cnn_3_model)\n",
    "pred_3 = cnn_3_model.predict_classes(X_test)"
   ]
  },
  {
   "cell_type": "code",
   "execution_count": 36,
   "id": "compressed-bibliography",
   "metadata": {},
   "outputs": [
    {
     "name": "stdout",
     "output_type": "stream",
     "text": [
      "Test Dataset accuracy: 96.58\n"
     ]
    }
   ],
   "source": [
    "print('Test Dataset accuracy:', round(accuracy_score(labels_test, pred_3)*100, 2))"
   ]
  },
  {
   "cell_type": "code",
   "execution_count": 37,
   "id": "african-township",
   "metadata": {},
   "outputs": [
    {
     "name": "stdout",
     "output_type": "stream",
     "text": [
      "              precision    recall  f1-score   support\n",
      "\n",
      "           0       0.92      0.97      0.94        60\n",
      "           1       0.92      1.00      0.96       720\n",
      "           2       0.96      0.94      0.95       750\n",
      "           3       0.99      0.94      0.96       450\n",
      "           4       1.00      0.97      0.98       660\n",
      "           5       0.96      0.93      0.95       630\n",
      "           6       0.97      0.99      0.98       150\n",
      "           7       1.00      0.95      0.97       450\n",
      "           8       0.92      1.00      0.96       450\n",
      "           9       0.98      1.00      0.99       480\n",
      "          10       1.00      0.99      0.99       660\n",
      "          11       0.99      0.97      0.98       420\n",
      "          12       1.00      0.88      0.94       690\n",
      "          13       1.00      1.00      1.00       720\n",
      "          14       1.00      1.00      1.00       270\n",
      "          15       0.95      1.00      0.97       210\n",
      "          16       0.99      1.00      1.00       150\n",
      "          17       1.00      0.97      0.99       360\n",
      "          18       0.99      0.93      0.96       390\n",
      "          19       1.00      0.92      0.96        60\n",
      "          20       0.80      1.00      0.89        90\n",
      "          21       0.79      0.97      0.87        90\n",
      "          22       1.00      0.81      0.89       120\n",
      "          23       0.89      0.99      0.94       150\n",
      "          24       1.00      0.97      0.98        90\n",
      "          25       0.98      0.98      0.98       480\n",
      "          26       0.97      1.00      0.99       180\n",
      "          27       0.97      0.98      0.98        60\n",
      "          28       0.91      1.00      0.96       150\n",
      "          29       0.94      1.00      0.97        90\n",
      "          30       0.95      0.77      0.85       150\n",
      "          31       0.98      0.96      0.97       270\n",
      "          32       1.00      1.00      1.00        60\n",
      "          33       0.99      0.99      0.99       210\n",
      "          34       0.97      1.00      0.98       120\n",
      "          35       0.99      0.98      0.98       390\n",
      "          36       0.97      0.93      0.95       120\n",
      "          37       0.97      1.00      0.98        60\n",
      "          38       0.88      1.00      0.93       690\n",
      "          39       1.00      0.94      0.97        90\n",
      "          40       0.96      0.99      0.97        90\n",
      "          41       1.00      0.85      0.92        60\n",
      "          42       0.99      0.97      0.98        90\n",
      "\n",
      "    accuracy                           0.97     12630\n",
      "   macro avg       0.96      0.96      0.96     12630\n",
      "weighted avg       0.97      0.97      0.97     12630\n",
      "\n"
     ]
    }
   ],
   "source": [
    "print(classification_report(labels_test, pred_3))"
   ]
  },
  {
   "cell_type": "markdown",
   "id": "authorized-boring",
   "metadata": {},
   "source": [
    "**d) cnn_4:**"
   ]
  },
  {
   "cell_type": "code",
   "execution_count": 24,
   "id": "southern-reply",
   "metadata": {},
   "outputs": [
    {
     "name": "stdout",
     "output_type": "stream",
     "text": [
      "WARNING:tensorflow:From <ipython-input-24-2fa5f871a100>:2: Sequential.predict_classes (from tensorflow.python.keras.engine.sequential) is deprecated and will be removed after 2021-01-01.\n",
      "Instructions for updating:\n",
      "Please use instead:* `np.argmax(model.predict(x), axis=-1)`,   if your model does multi-class classification   (e.g. if it uses a `softmax` last-layer activation).* `(model.predict(x) > 0.5).astype(\"int32\")`,   if your model does binary classification   (e.g. if it uses a `sigmoid` last-layer activation).\n"
     ]
    }
   ],
   "source": [
    "# Prediction with the fourth CNN (cnn_4_model)\n",
    "pred_4 = cnn_4_model.predict_classes(X_test)"
   ]
  },
  {
   "cell_type": "code",
   "execution_count": 25,
   "id": "painful-business",
   "metadata": {},
   "outputs": [
    {
     "name": "stdout",
     "output_type": "stream",
     "text": [
      "Test Dataset accuracy: 95.96\n"
     ]
    }
   ],
   "source": [
    "print('Test Dataset accuracy:', round(accuracy_score(labels_test, pred_4)*100, 2))"
   ]
  },
  {
   "cell_type": "code",
   "execution_count": 26,
   "id": "smart-sleeping",
   "metadata": {},
   "outputs": [
    {
     "name": "stdout",
     "output_type": "stream",
     "text": [
      "              precision    recall  f1-score   support\n",
      "\n",
      "           0       0.67      1.00      0.81        60\n",
      "           1       0.99      1.00      0.99       720\n",
      "           2       0.95      0.99      0.97       750\n",
      "           3       0.98      0.97      0.98       450\n",
      "           4       0.99      0.98      0.99       660\n",
      "           5       0.95      0.93      0.94       630\n",
      "           6       1.00      0.95      0.97       150\n",
      "           7       1.00      0.92      0.96       450\n",
      "           8       0.95      0.99      0.97       450\n",
      "           9       0.99      1.00      0.99       480\n",
      "          10       0.98      1.00      0.99       660\n",
      "          11       0.92      0.94      0.93       420\n",
      "          12       1.00      0.91      0.95       690\n",
      "          13       1.00      1.00      1.00       720\n",
      "          14       0.95      1.00      0.98       270\n",
      "          15       0.92      0.99      0.95       210\n",
      "          16       1.00      1.00      1.00       150\n",
      "          17       1.00      0.88      0.94       360\n",
      "          18       0.99      0.88      0.93       390\n",
      "          19       0.87      1.00      0.93        60\n",
      "          20       0.62      1.00      0.76        90\n",
      "          21       0.87      0.68      0.76        90\n",
      "          22       0.93      0.76      0.83       120\n",
      "          23       0.83      1.00      0.91       150\n",
      "          24       1.00      0.93      0.97        90\n",
      "          25       0.92      1.00      0.96       480\n",
      "          26       0.99      0.99      0.99       180\n",
      "          27       0.55      0.62      0.58        60\n",
      "          28       0.98      1.00      0.99       150\n",
      "          29       1.00      0.98      0.99        90\n",
      "          30       0.95      0.55      0.70       150\n",
      "          31       0.98      0.97      0.98       270\n",
      "          32       1.00      1.00      1.00        60\n",
      "          33       0.96      1.00      0.98       210\n",
      "          34       1.00      1.00      1.00       120\n",
      "          35       1.00      0.95      0.97       390\n",
      "          36       1.00      1.00      1.00       120\n",
      "          37       0.84      0.98      0.91        60\n",
      "          38       0.98      0.99      0.98       690\n",
      "          39       1.00      0.96      0.98        90\n",
      "          40       0.67      0.99      0.80        90\n",
      "          41       0.91      0.97      0.94        60\n",
      "          42       1.00      0.99      0.99        90\n",
      "\n",
      "    accuracy                           0.96     12630\n",
      "   macro avg       0.93      0.94      0.93     12630\n",
      "weighted avg       0.96      0.96      0.96     12630\n",
      "\n"
     ]
    }
   ],
   "source": [
    "print(classification_report(labels_test, pred_4))"
   ]
  },
  {
   "cell_type": "markdown",
   "id": "natural-newspaper",
   "metadata": {},
   "source": [
    "**e) cnn_5:**"
   ]
  },
  {
   "cell_type": "code",
   "execution_count": 35,
   "id": "unknown-occupation",
   "metadata": {},
   "outputs": [],
   "source": [
    "# Prediction with the fifth CNN (cnn_5_model)\n",
    "pred_5 = cnn_5_model.predict_classes(X_test)"
   ]
  },
  {
   "cell_type": "code",
   "execution_count": 36,
   "id": "weekly-retrieval",
   "metadata": {},
   "outputs": [
    {
     "name": "stdout",
     "output_type": "stream",
     "text": [
      "Test Dataset accuracy: 93.18\n"
     ]
    }
   ],
   "source": [
    "print('Test Dataset accuracy:', round(accuracy_score(labels_test, pred_5)*100, 2))"
   ]
  },
  {
   "cell_type": "code",
   "execution_count": 37,
   "id": "patent-indonesia",
   "metadata": {},
   "outputs": [
    {
     "name": "stdout",
     "output_type": "stream",
     "text": [
      "              precision    recall  f1-score   support\n",
      "\n",
      "           0       0.92      1.00      0.96        60\n",
      "           1       0.87      1.00      0.93       720\n",
      "           2       0.96      0.98      0.97       750\n",
      "           3       0.96      0.99      0.98       450\n",
      "           4       0.99      0.97      0.98       660\n",
      "           5       0.99      0.80      0.88       630\n",
      "           6       0.99      0.99      0.99       150\n",
      "           7       1.00      0.96      0.98       450\n",
      "           8       0.98      0.98      0.98       450\n",
      "           9       0.96      1.00      0.98       480\n",
      "          10       1.00      0.95      0.97       660\n",
      "          11       0.94      0.90      0.92       420\n",
      "          12       1.00      0.88      0.94       690\n",
      "          13       1.00      0.98      0.99       720\n",
      "          14       0.99      1.00      0.99       270\n",
      "          15       0.94      0.98      0.96       210\n",
      "          16       0.94      1.00      0.97       150\n",
      "          17       1.00      0.91      0.95       360\n",
      "          18       0.85      0.83      0.84       390\n",
      "          19       0.94      0.50      0.65        60\n",
      "          20       0.54      1.00      0.70        90\n",
      "          21       0.62      0.67      0.64        90\n",
      "          22       0.90      0.88      0.89       120\n",
      "          23       0.55      1.00      0.71       150\n",
      "          24       0.98      0.67      0.79        90\n",
      "          25       0.95      0.91      0.93       480\n",
      "          26       0.99      0.84      0.91       180\n",
      "          27       0.29      0.50      0.36        60\n",
      "          28       0.96      0.99      0.97       150\n",
      "          29       1.00      0.98      0.99        90\n",
      "          30       0.71      0.57      0.63       150\n",
      "          31       0.99      0.83      0.90       270\n",
      "          32       0.98      1.00      0.99        60\n",
      "          33       0.99      0.99      0.99       210\n",
      "          34       0.98      1.00      0.99       120\n",
      "          35       0.92      0.97      0.95       390\n",
      "          36       0.98      1.00      0.99       120\n",
      "          37       0.69      1.00      0.82        60\n",
      "          38       1.00      0.95      0.97       690\n",
      "          39       0.95      0.96      0.95        90\n",
      "          40       0.60      0.94      0.74        90\n",
      "          41       1.00      0.92      0.96        60\n",
      "          42       0.80      0.98      0.88        90\n",
      "\n",
      "    accuracy                           0.93     12630\n",
      "   macro avg       0.90      0.91      0.89     12630\n",
      "weighted avg       0.94      0.93      0.93     12630\n",
      "\n"
     ]
    }
   ],
   "source": [
    "print(classification_report(labels_test, pred_5))"
   ]
  },
  {
   "cell_type": "markdown",
   "id": "waiting-hostel",
   "metadata": {},
   "source": [
    "**f) cnn_6:**"
   ]
  },
  {
   "cell_type": "code",
   "execution_count": 25,
   "id": "desperate-church",
   "metadata": {},
   "outputs": [
    {
     "name": "stdout",
     "output_type": "stream",
     "text": [
      "WARNING:tensorflow:From <ipython-input-25-4e3abbd77ad4>:2: Sequential.predict_classes (from tensorflow.python.keras.engine.sequential) is deprecated and will be removed after 2021-01-01.\n",
      "Instructions for updating:\n",
      "Please use instead:* `np.argmax(model.predict(x), axis=-1)`,   if your model does multi-class classification   (e.g. if it uses a `softmax` last-layer activation).* `(model.predict(x) > 0.5).astype(\"int32\")`,   if your model does binary classification   (e.g. if it uses a `sigmoid` last-layer activation).\n"
     ]
    }
   ],
   "source": [
    "# Prediction with the sixth CNN (cnn_6_model)\n",
    "pred_6 = cnn_6_model.predict_classes(X_test)"
   ]
  },
  {
   "cell_type": "code",
   "execution_count": 26,
   "id": "hazardous-label",
   "metadata": {},
   "outputs": [
    {
     "name": "stdout",
     "output_type": "stream",
     "text": [
      "Test Dataset accuracy: 95.81\n"
     ]
    }
   ],
   "source": [
    "print('Test Dataset accuracy:', round(accuracy_score(labels_test, pred_6)*100, 2))"
   ]
  },
  {
   "cell_type": "code",
   "execution_count": 27,
   "id": "european-desperate",
   "metadata": {},
   "outputs": [
    {
     "name": "stdout",
     "output_type": "stream",
     "text": [
      "              precision    recall  f1-score   support\n",
      "\n",
      "           0       1.00      1.00      1.00        60\n",
      "           1       0.99      0.99      0.99       720\n",
      "           2       0.92      0.99      0.95       750\n",
      "           3       0.98      0.99      0.99       450\n",
      "           4       0.98      0.96      0.97       660\n",
      "           5       0.97      0.92      0.94       630\n",
      "           6       1.00      0.89      0.94       150\n",
      "           7       1.00      0.92      0.96       450\n",
      "           8       0.94      0.97      0.95       450\n",
      "           9       0.99      1.00      0.99       480\n",
      "          10       1.00      0.99      1.00       660\n",
      "          11       0.98      0.91      0.95       420\n",
      "          12       0.99      0.91      0.95       690\n",
      "          13       1.00      1.00      1.00       720\n",
      "          14       0.97      1.00      0.99       270\n",
      "          15       0.99      0.98      0.99       210\n",
      "          16       1.00      1.00      1.00       150\n",
      "          17       1.00      0.97      0.98       360\n",
      "          18       0.99      0.89      0.94       390\n",
      "          19       1.00      0.52      0.68        60\n",
      "          20       0.74      1.00      0.85        90\n",
      "          21       0.65      1.00      0.79        90\n",
      "          22       0.99      0.85      0.91       120\n",
      "          23       0.75      0.99      0.85       150\n",
      "          24       1.00      0.88      0.93        90\n",
      "          25       0.86      1.00      0.93       480\n",
      "          26       0.99      0.99      0.99       180\n",
      "          27       0.91      0.70      0.79        60\n",
      "          28       0.99      0.96      0.98       150\n",
      "          29       0.71      1.00      0.83        90\n",
      "          30       0.92      0.61      0.74       150\n",
      "          31       0.95      0.94      0.95       270\n",
      "          32       1.00      0.52      0.68        60\n",
      "          33       0.94      1.00      0.97       210\n",
      "          34       0.99      1.00      1.00       120\n",
      "          35       1.00      0.97      0.99       390\n",
      "          36       0.90      1.00      0.95       120\n",
      "          37       0.98      1.00      0.99        60\n",
      "          38       0.99      1.00      0.99       690\n",
      "          39       0.93      0.96      0.95        90\n",
      "          40       0.88      0.97      0.92        90\n",
      "          41       0.71      1.00      0.83        60\n",
      "          42       1.00      0.99      0.99        90\n",
      "\n",
      "    accuracy                           0.96     12630\n",
      "   macro avg       0.94      0.93      0.93     12630\n",
      "weighted avg       0.96      0.96      0.96     12630\n",
      "\n"
     ]
    }
   ],
   "source": [
    "print(classification_report(labels_test, pred_6))"
   ]
  },
  {
   "cell_type": "markdown",
   "id": "extensive-sampling",
   "metadata": {},
   "source": [
    "## Save the Best CNN Model"
   ]
  },
  {
   "cell_type": "code",
   "execution_count": null,
   "id": "polyphonic-difficulty",
   "metadata": {},
   "outputs": [],
   "source": [
    "cnn_3_model.save('traffic_signs_classifier.h5')"
   ]
  },
  {
   "cell_type": "markdown",
   "id": "public-walker",
   "metadata": {},
   "source": [
    "## Code References"
   ]
  },
  {
   "cell_type": "markdown",
   "id": "dramatic-nowhere",
   "metadata": {},
   "source": [
    "A: <br>\n",
    "\n",
    "\n",
    "B: <br>\n",
    "\n",
    "\n",
    "C: <br>\n",
    "\n",
    "\n",
    "D: <br>\n",
    "\n"
   ]
  }
 ],
 "metadata": {
  "kernelspec": {
   "display_name": "Python 3",
   "language": "python",
   "name": "python3"
  },
  "language_info": {
   "codemirror_mode": {
    "name": "ipython",
    "version": 3
   },
   "file_extension": ".py",
   "mimetype": "text/x-python",
   "name": "python",
   "nbconvert_exporter": "python",
   "pygments_lexer": "ipython3",
   "version": "3.8.5"
  }
 },
 "nbformat": 4,
 "nbformat_minor": 5
}
