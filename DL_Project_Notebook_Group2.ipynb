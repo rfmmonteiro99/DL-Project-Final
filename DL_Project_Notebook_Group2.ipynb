{
 "cells": [
  {
   "cell_type": "markdown",
   "id": "touched-dodge",
   "metadata": {},
   "source": [
    "# Traffic Sign Recognition using Convolutional Neural Networks\n",
    "\n",
    "**Group 2 members:** <br>\n",
    "Bruno Belo, R20170735 <br>\n",
    "Rui Monteiro, R20170796 <br>\n",
    "Tomás Santos, R20170734 <br>\n",
    "\n",
    "**MSc:** Data Science and Advanced Analytics - Nova IMS <br>\n",
    "**Course:** Deep Learning <br>\n",
    "2020/2021\n",
    "\n",
    "## Introduction\n",
    "For some years now, several companies like Tesla, Toyota, and Mercedes-Benz, to name a few, have been researching and creating Intelligent Systems for autonomous vehicles and self-driving cars. This is possible due to Artificial Intelligence or, more specifically, to the subset of Machine Learning called Deep Learning. For the driver to let the car drive itself autonomously, the vehicle needs to understand and follow all traffic rules; thus, it should be able to interpret traffic signs and make decisions accordingly.\n",
    "\n",
    "When trying to follow all traffic rules, the systems are involved in two main phases: the first one, to detect traffic signs along the road, and the second one, to recognize them (if some were detected). Our Deep Learning project focuses on Phase 2, traffic sign recognition (in this case, with Convolutional Neural Networks).\n",
    "\n",
    "The image data we used to feed the models is public and comes from the “GTSRB - German Traffic Sign Recognition Benchmark” competition in Kaggle. This is a multi-class, single-image classification challenge from the International Joint Conference on Neural Networks 2011.\n",
    "\n",
    "This data includes more than 50 000 traffic signs’ images, and more than 40 classes. In fact, the dataset is quite varying, because some of the classes have many images while others have few.\n",
    "\n",
    "We intend to build a model mainly using the Keras library on Python, and the data referenced above, in order to classify thousands of images with traffic signs into several different categories.\n",
    "\n",
    "We found some people claiming to have models with Test accuracies between 95 and 98%, so our main goal for this task is to achieve a Test accuracy of around 97%, or more. Also, the complexity of our model and the time it takes to run in Python will be important factors for us.\n",
    "\n",
    "## Data and Environment Setup\n",
    "To run this Notebook without issues, the user can fork and clone our **GitHub repository** available at https://github.com/rfmmonteiro99/DL-Project-Final.\n",
    "\n",
    "Also, the images for this Computer Vision project can be downloaded from Kaggle at https://www.kaggle.com/meowmeowmeowmeowmeow/gtsrb-german-traffic-sign. The user should put this Notebook in the same folder as the data. Thus, one should have a folder with: \n",
    "- 3 other folders (\"Meta\", \"Test\" and \"Train\");\n",
    "- this Jupyter Notebook;\n",
    "- 3 Excel sheets (once again: \"Meta\", \"Test\" and \"Train\").\n",
    "\n",
    "Furthermore, the user needs an Anaconda environment with all the used libraries. A yml file is provided on our GitHub repository (link above) for that purpose. The user can **create the environment** with the traffic_signs_env.yml file, by following these steps:\n",
    "1. Put the yml file on a folder or even on the Desktop\n",
    "2. Open Anaconda Navigator\n",
    "3. Go to \"Environments\"\n",
    "4. Click on \"Import\"\n",
    "5. Name the new environment on \"Name\", and find the path to your file on \"Specification File\" (you may need to specify you want to search for txt files on the \"Import Environment\" box)\n",
    "6. Click on \"Import\" so that Anaconda starts loading all the packages\n",
    "7. Finally, navigate to the new environment on \"Home\" and launch Jupyter Notebook"
   ]
  },
  {
   "cell_type": "code",
   "execution_count": 1,
   "id": "ecological-complement",
   "metadata": {},
   "outputs": [],
   "source": [
    "import os\n",
    "import numpy as np\n",
    "import pandas as pd\n",
    "import random\n",
    "import matplotlib.pyplot as plt\n",
    "from PIL import Image\n",
    "import cv2\n",
    "\n",
    "# Keras and TensorFlow:\n",
    "import keras\n",
    "from keras.utils import to_categorical\n",
    "from keras.preprocessing.image import ImageDataGenerator\n",
    "from keras.models import Sequential\n",
    "from keras.regularizers import l1_l2\n",
    "from keras.layers import Conv2D, MaxPool2D, Dense, Flatten, Dropout, BatchNormalization\n",
    "from keras import optimizers\n",
    "from keras.applications.vgg16 import VGG16\n",
    "# the EfficientNet models are not available in some Keras versions at the moment, only on TensorFlow\n",
    "from tensorflow.keras.applications.efficientnet import EfficientNetB7\n",
    "from keras.applications.resnet_v2 import ResNet152V2\n",
    "from keras.models import Model\n",
    "\n",
    "# scikit-learn:\n",
    "from sklearn.model_selection import train_test_split\n",
    "from sklearn.metrics import accuracy_score, classification_report"
   ]
  },
  {
   "cell_type": "markdown",
   "id": "prescription-basin",
   "metadata": {},
   "source": [
    "## 1. Importing and Exploring Data"
   ]
  },
  {
   "cell_type": "code",
   "execution_count": 2,
   "id": "useful-beauty",
   "metadata": {},
   "outputs": [],
   "source": [
    "data = []\n",
    "labels = []\n",
    "classes = 43\n",
    "cur_path = os.getcwd()\n",
    "\n",
    "# Retrieving the images and their labels \n",
    "for i in range(classes):\n",
    "    path = os.path.join(cur_path,'train',str(i))\n",
    "    images = os.listdir(path)\n",
    "\n",
    "    for a in images:\n",
    "        try:\n",
    "            image = Image.open(path + '\\\\'+ a)\n",
    "            image = image.resize((32,32)) # Resizing the images to 32x32\n",
    "            image = np.array(image)\n",
    "            data.append(image)\n",
    "            labels.append(i)\n",
    "            \n",
    "        except:\n",
    "            print('Error loading an image')"
   ]
  },
  {
   "cell_type": "code",
   "execution_count": 3,
   "id": "forward-monday",
   "metadata": {},
   "outputs": [],
   "source": [
    "# Converting lists into Numpy arrays\n",
    "data = np.array(data)\n",
    "labels = np.array(labels)"
   ]
  },
  {
   "cell_type": "code",
   "execution_count": 4,
   "id": "solar-campaign",
   "metadata": {
    "scrolled": true
   },
   "outputs": [
    {
     "name": "stdout",
     "output_type": "stream",
     "text": [
      "(39209, 32, 32, 3) (39209,)\n"
     ]
    }
   ],
   "source": [
    "# Check data shape (3 colour channels: Red, Green, Blue -> RGB)\n",
    "print(data.shape, labels.shape)"
   ]
  },
  {
   "cell_type": "code",
   "execution_count": 5,
   "id": "radio-smell",
   "metadata": {},
   "outputs": [
    {
     "data": {
      "text/plain": [
       "43"
      ]
     },
     "execution_count": 5,
     "metadata": {},
     "output_type": "execute_result"
    }
   ],
   "source": [
    "# Number of classes for this classification problem\n",
    "unique_signs = np.unique(labels)\n",
    "\n",
    "len(unique_signs)"
   ]
  },
  {
   "cell_type": "code",
   "execution_count": 6,
   "id": "short-fantasy",
   "metadata": {},
   "outputs": [],
   "source": [
    "# Dictionary with the labels of all traffic signs\n",
    "classes = { 0:'Speed limit (20km/h)',\n",
    "            1:'Speed limit (30km/h)', \n",
    "            2:'Speed limit (50km/h)', \n",
    "            3:'Speed limit (60km/h)', \n",
    "            4:'Speed limit (70km/h)', \n",
    "            5:'Speed limit (80km/h)', \n",
    "            6:'End of speed limit (80km/h)', \n",
    "            7:'Speed limit (100km/h)', \n",
    "            8:'Speed limit (120km/h)', \n",
    "            9:'No passing', \n",
    "            10:'No passing veh over 3.5 tons', \n",
    "            11:'Right-of-way at intersection', \n",
    "            12:'Priority road', \n",
    "            13:'Yield', \n",
    "            14:'Stop', \n",
    "            15:'No vehicles', \n",
    "            16:'Veh > 3.5 tons prohibited', \n",
    "            17:'No entry', \n",
    "            18:'General caution', \n",
    "            19:'Dangerous curve left', \n",
    "            20:'Dangerous curve right', \n",
    "            21:'Double curve', \n",
    "            22:'Bumpy road', \n",
    "            23:'Slippery road', \n",
    "            24:'Road narrows on the right', \n",
    "            25:'Road work', \n",
    "            26:'Traffic signals', \n",
    "            27:'Pedestrians', \n",
    "            28:'Children crossing', \n",
    "            29:'Bicycles crossing', \n",
    "            30:'Beware of ice/snow',\n",
    "            31:'Wild animals crossing', \n",
    "            32:'End speed + passing limits', \n",
    "            33:'Turn right ahead', \n",
    "            34:'Turn left ahead', \n",
    "            35:'Ahead only', \n",
    "            36:'Go straight or right', \n",
    "            37:'Go straight or left', \n",
    "            38:'Keep right', \n",
    "            39:'Keep left', \n",
    "            40:'Roundabout mandatory', \n",
    "            41:'End of no passing', \n",
    "            42:'End no passing veh > 3.5 tons' }"
   ]
  },
  {
   "cell_type": "code",
   "execution_count": 7,
   "id": "focal-sleeping",
   "metadata": {},
   "outputs": [
    {
     "data": {
      "image/png": "[encoded data removed]",
      "text/plain": [
       "<Figure size 1080x576 with 1 Axes>"
      ]
     },
     "metadata": {
      "needs_background": "light"
     },
     "output_type": "display_data"
    }
   ],
   "source": [
    "# Getting a list with the classes' names\n",
    "signs_names = []\n",
    "\n",
    "for i in range(len(classes)):\n",
    "    signs_names.append(classes[i])\n",
    "\n",
    "# Getting a df with the signs' names and the number of images per sign\n",
    "data_df = {\n",
    "   'labels': signs_names,\n",
    "   'number_of_imgs': pd.Series(labels).value_counts().sort_index().to_list()\n",
    "}\n",
    "\n",
    "bar_df = pd.DataFrame(data_df).sort_values(by='number_of_imgs', ascending=False)\n",
    " \n",
    "# Bar plot\n",
    "fig = plt.figure(figsize = (15, 8))\n",
    "plt.bar(x=bar_df['labels'], height=bar_df['number_of_imgs'], width=0.4)\n",
    "\n",
    "# Labelling the plot and both axes\n",
    "plt.title('Number of images for each class (traffic sign)', size=20)\n",
    "plt.xlabel('Traffic signs')\n",
    "plt.xticks(rotation=90)\n",
    "plt.ylabel('Number of images')\n",
    "\n",
    "plt.show()"
   ]
  },
  {
   "cell_type": "code",
   "execution_count": 8,
   "id": "assisted-groove",
   "metadata": {},
   "outputs": [],
   "source": [
    "def show_20_images(images, img_labels):\n",
    "    \"\"\"\n",
    "    Displays a plot with 20 random images and their respective classes.\n",
    "    \"\"\"\n",
    "    plt.figure(figsize=(16, 16))\n",
    "    for i in range(20):\n",
    "        ax = plt.subplot(5, 5, i+1)\n",
    "        \n",
    "        rand = random.randint(1, len(data)-20)\n",
    "        \n",
    "        plt.imshow(images[i+rand])\n",
    "        plt.title(signs_names[img_labels[i+rand]])\n",
    "        \n",
    "        plt.suptitle('Traffic signs examples', size=20)\n",
    "        plt.axis(\"off\")"
   ]
  },
  {
   "cell_type": "code",
   "execution_count": 9,
   "id": "romance-score",
   "metadata": {
    "scrolled": false
   },
   "outputs": [
    {
     "data": {
      "image/png": "[encoded data removed]",
      "text/plain": [
       "<Figure size 1152x1152 with 20 Axes>"
      ]
     },
     "metadata": {
      "needs_background": "light"
     },
     "output_type": "display_data"
    }
   ],
   "source": [
    "show_20_images(data, labels)"
   ]
  },
  {
   "cell_type": "markdown",
   "id": "touched-darwin",
   "metadata": {},
   "source": [
    "## 2. Rescaling the Pixel Values"
   ]
  },
  {
   "cell_type": "markdown",
   "id": "tired-explorer",
   "metadata": {},
   "source": [
    "All the pixel values on the array are between 0 and 255, so to rescale them to a [0, 1] interval, we can just divide the values by 255.\n",
    "\n",
    "This is done because neural networks prefer to deal with small input values."
   ]
  },
  {
   "cell_type": "code",
   "execution_count": 9,
   "id": "thermal-matrix",
   "metadata": {},
   "outputs": [],
   "source": [
    "data_normalized = data / 255"
   ]
  },
  {
   "cell_type": "markdown",
   "id": "sought-juvenile",
   "metadata": {},
   "source": [
    "## 3. Train-Validation Split"
   ]
  },
  {
   "cell_type": "markdown",
   "id": "coastal-operator",
   "metadata": {},
   "source": [
    "In this stage, we split the training set in training and validation data, with a ratio of 70:30."
   ]
  },
  {
   "cell_type": "code",
   "execution_count": 10,
   "id": "demanding-pastor",
   "metadata": {},
   "outputs": [],
   "source": [
    "X_train, X_val, y_train, y_val = train_test_split(data_normalized, \n",
    "                                                  labels, \n",
    "                                                  test_size=0.3, \n",
    "                                                  random_state=42, \n",
    "                                                  shuffle=True)"
   ]
  },
  {
   "cell_type": "code",
   "execution_count": 11,
   "id": "going-daughter",
   "metadata": {},
   "outputs": [
    {
     "name": "stdout",
     "output_type": "stream",
     "text": [
      "The X_train.shape is (27446, 32, 32, 3)\n",
      "The X_val.shape is (11763, 32, 32, 3)\n",
      "The y_train.shape is (27446,)\n",
      "The y_val.shape is (11763,)\n"
     ]
    }
   ],
   "source": [
    "print(\"The X_train.shape is\", X_train.shape)\n",
    "print(\"The X_val.shape is\", X_val.shape)\n",
    "print(\"The y_train.shape is\", y_train.shape)\n",
    "print(\"The y_val.shape is\", y_val.shape)"
   ]
  },
  {
   "cell_type": "markdown",
   "id": "falling-moderator",
   "metadata": {},
   "source": [
    "## 4. One-Hot Encoding the Labels"
   ]
  },
  {
   "cell_type": "markdown",
   "id": "reverse-hammer",
   "metadata": {},
   "source": [
    "This is done to convert the labels with one-hot encoding, using the Keras function \"to_categorical\"."
   ]
  },
  {
   "cell_type": "code",
   "execution_count": 12,
   "id": "consolidated-stanley",
   "metadata": {},
   "outputs": [],
   "source": [
    "y_train = to_categorical(y_train, 43)\n",
    "y_val = to_categorical(y_val, 43)"
   ]
  },
  {
   "cell_type": "markdown",
   "id": "considerable-bottle",
   "metadata": {},
   "source": [
    "## 5. Computer Vision Models"
   ]
  },
  {
   "cell_type": "markdown",
   "id": "productive-serial",
   "metadata": {},
   "source": [
    "In this section, we will use two types of models: \n",
    "- firstly, six CNN architectures made by ourselves;\n",
    "- afterwards, three pre-trained models (VGG16, EfficientNetB7 and ResNet152V2)."
   ]
  },
  {
   "cell_type": "markdown",
   "id": "received-asian",
   "metadata": {},
   "source": [
    "**Our CNN Architectures:**"
   ]
  },
  {
   "cell_type": "code",
   "execution_count": 15,
   "id": "ceramic-jesus",
   "metadata": {},
   "outputs": [],
   "source": [
    "# Simple CNN: Baseline Model.\n",
    "\n",
    "def cnn_1(input_shape):\n",
    "    classifier = Sequential()\n",
    "    \n",
    "    classifier.add(Conv2D(32, (5, 5), input_shape = input_shape, activation = 'relu'))\n",
    "    classifier.add(MaxPool2D(pool_size = (2, 2)))\n",
    "    \n",
    "    classifier.add(Conv2D(64, (5, 5), activation = 'relu'))\n",
    "    classifier.add(MaxPool2D(pool_size = (2, 2)))\n",
    "    \n",
    "    classifier.add(Conv2D(128, (3, 3), activation = 'relu'))\n",
    "    classifier.add(MaxPool2D(pool_size = (2, 2)))\n",
    "    \n",
    "    classifier.add(Flatten())\n",
    "\n",
    "    classifier.add(Dense(units = 512, activation = 'relu'))\n",
    "    classifier.add(Dense(units = 43, activation = 'softmax'))\n",
    "    \n",
    "    return classifier"
   ]
  },
  {
   "cell_type": "code",
   "execution_count": 16,
   "id": "ceramic-method",
   "metadata": {},
   "outputs": [],
   "source": [
    "# Similar to cnn_1, but with Dropout.\n",
    "\n",
    "def cnn_2(input_shape):\n",
    "    classifier = Sequential()\n",
    "    \n",
    "    classifier.add(Conv2D(32, (5, 5), input_shape = input_shape, activation = 'relu'))\n",
    "    classifier.add(MaxPool2D(pool_size = (2, 2)))\n",
    "    classifier.add(Dropout(rate=0.25))\n",
    "    \n",
    "    classifier.add(Conv2D(64, (5, 5), activation = 'relu'))\n",
    "    classifier.add(MaxPool2D(pool_size = (2, 2)))\n",
    "    classifier.add(Dropout(rate=0.25))\n",
    "    \n",
    "    classifier.add(Conv2D(128, (3, 3), activation = 'relu'))\n",
    "    classifier.add(MaxPool2D(pool_size = (2, 2)))\n",
    "    classifier.add(Dropout(rate=0.25))\n",
    "    \n",
    "    classifier.add(Flatten())\n",
    "\n",
    "    classifier.add(Dense(units = 512, activation = 'relu'))\n",
    "    classifier.add(Dropout(rate=0.5))\n",
    "    classifier.add(Dense(units = 43, activation = 'softmax'))\n",
    "    \n",
    "    return classifier"
   ]
  },
  {
   "cell_type": "code",
   "execution_count": 17,
   "id": "stretch-republican",
   "metadata": {},
   "outputs": [],
   "source": [
    "# Similar to cnn_2, but with BatchNormalization.\n",
    "# Once implemented, batch normalization has the effect of dramatically accelerating the training process of a neural \n",
    "# network, and in some cases improves the performance of the model via a modest regularization effect.\n",
    "\n",
    "def cnn_3(input_shape):\n",
    "    classifier = Sequential()\n",
    "    \n",
    "    classifier.add(Conv2D(32, (5, 5), input_shape = input_shape, activation = 'relu'))\n",
    "    classifier.add(MaxPool2D(pool_size = (2, 2)))\n",
    "    classifier.add(BatchNormalization())\n",
    "    classifier.add(Dropout(rate=0.25))\n",
    "    \n",
    "    classifier.add(Conv2D(64, (5, 5), activation = 'relu'))\n",
    "    classifier.add(MaxPool2D(pool_size = (2, 2)))\n",
    "    classifier.add(BatchNormalization())\n",
    "    classifier.add(Dropout(rate=0.25))\n",
    "    \n",
    "    classifier.add(Conv2D(128, (3, 3), activation = 'relu'))\n",
    "    classifier.add(MaxPool2D(pool_size = (2, 2)))\n",
    "    classifier.add(BatchNormalization())\n",
    "    classifier.add(Dropout(rate=0.25))\n",
    "    \n",
    "    classifier.add(Flatten())\n",
    "\n",
    "    classifier.add(Dense(units = 512, activation = 'relu'))\n",
    "    classifier.add(BatchNormalization())\n",
    "    classifier.add(Dropout(rate=0.5))\n",
    "    classifier.add(Dense(units = 43, activation = 'softmax'))\n",
    "    \n",
    "    return classifier"
   ]
  },
  {
   "cell_type": "code",
   "execution_count": 13,
   "id": "honey-ballot",
   "metadata": {},
   "outputs": [],
   "source": [
    "# New CNN, with two conv layers in a row. This is something possible and commonly used in very challenging tasks.\n",
    "# The idea of having two (or more) conv layers is to perform a more in-depth analysis of local patterns of the image.\n",
    "# There is no rule for deciding if two consecutive conv layers are better than a conv layer followed by a pooling layer.\n",
    "\n",
    "def cnn_4(input_shape):\n",
    "    classifier = Sequential()\n",
    "    \n",
    "    classifier.add(Conv2D(16, (5, 5), input_shape = input_shape, activation = 'relu'))\n",
    "    classifier.add(Conv2D(32, (5, 5), activation = 'relu'))\n",
    "    classifier.add(MaxPool2D(pool_size = (2, 2)))\n",
    "    classifier.add(BatchNormalization())\n",
    "    classifier.add(Dropout(rate=0.25))\n",
    "    \n",
    "    classifier.add(Conv2D(64, (3, 3), activation = 'relu'))\n",
    "    classifier.add(Conv2D(128, (3, 3), activation = 'relu'))\n",
    "    classifier.add(MaxPool2D(pool_size = (2, 2)))\n",
    "    classifier.add(BatchNormalization())\n",
    "    classifier.add(Dropout(rate=0.25))\n",
    "    \n",
    "    classifier.add(Flatten())\n",
    "\n",
    "    classifier.add(Dense(units = 512, activation = 'relu'))\n",
    "    classifier.add(BatchNormalization())\n",
    "    classifier.add(Dropout(rate=0.5))\n",
    "    classifier.add(Dense(units = 43, activation = 'softmax'))\n",
    "    \n",
    "    return classifier"
   ]
  },
  {
   "cell_type": "code",
   "execution_count": 19,
   "id": "toxic-cisco",
   "metadata": {},
   "outputs": [],
   "source": [
    "# Similar to cnn_4, but with the same number of filters on the 2 first, and 2 last, conv layers. \n",
    "# Also, it has regularizers (L1 and L2).\n",
    "\n",
    "l1_cnn_5 = 0.001\n",
    "l2_cnn_5 = 0.001\n",
    "\n",
    "def cnn_5(input_shape):\n",
    "    classifier = Sequential()\n",
    "    \n",
    "    classifier.add(Conv2D(32, (5, 5), input_shape = input_shape, activation = 'relu', kernel_regularizer = l1_l2(l1=l1_cnn_5, l2=l2_cnn_5)))\n",
    "    classifier.add(Conv2D(32, (5, 5), activation = 'relu', kernel_regularizer = l1_l2(l1=l1_cnn_5, l2=l2_cnn_5)))\n",
    "    classifier.add(MaxPool2D(pool_size = (2, 2)))\n",
    "    classifier.add(BatchNormalization())\n",
    "    classifier.add(Dropout(rate=0.25))\n",
    "    \n",
    "    classifier.add(Conv2D(64, (3, 3), activation = 'relu', kernel_regularizer = l1_l2(l1=l1_cnn_5, l2=l2_cnn_5)))\n",
    "    classifier.add(Conv2D(64, (3, 3), activation = 'relu', kernel_regularizer = l1_l2(l1=l1_cnn_5, l2=l2_cnn_5)))\n",
    "    classifier.add(MaxPool2D(pool_size = (2, 2)))\n",
    "    classifier.add(BatchNormalization())\n",
    "    classifier.add(Dropout(rate=0.25))\n",
    "    \n",
    "    classifier.add(Flatten())\n",
    "\n",
    "    classifier.add(Dense(units = 512, activation = 'relu'))\n",
    "    classifier.add(BatchNormalization())\n",
    "    classifier.add(Dropout(rate=0.5))\n",
    "    classifier.add(Dense(units = 43, activation = 'softmax'))\n",
    "    \n",
    "    return classifier"
   ]
  },
  {
   "cell_type": "code",
   "execution_count": 20,
   "id": "integral-ancient",
   "metadata": {},
   "outputs": [],
   "source": [
    "# Similar to cnn_3, but with 256 units in the fully-connected layer, and 64 batches in the fit.\n",
    "\n",
    "def cnn_6(input_shape):\n",
    "    classifier = Sequential()\n",
    "    \n",
    "    classifier.add(Conv2D(32, (5, 5), input_shape = input_shape, activation = 'relu'))\n",
    "    classifier.add(MaxPool2D(pool_size = (2, 2)))\n",
    "    classifier.add(BatchNormalization())\n",
    "    classifier.add(Dropout(rate=0.25))\n",
    "    \n",
    "    classifier.add(Conv2D(64, (5, 5), activation = 'relu'))\n",
    "    classifier.add(MaxPool2D(pool_size = (2, 2)))\n",
    "    classifier.add(BatchNormalization())\n",
    "    classifier.add(Dropout(rate=0.25))\n",
    "    \n",
    "    classifier.add(Conv2D(128, (3, 3), activation = 'relu'))\n",
    "    classifier.add(MaxPool2D(pool_size = (2, 2)))\n",
    "    classifier.add(BatchNormalization())\n",
    "    classifier.add(Dropout(rate=0.25))\n",
    "    \n",
    "    classifier.add(Flatten())\n",
    "\n",
    "    classifier.add(Dense(units = 256, activation = 'relu'))\n",
    "    classifier.add(BatchNormalization())\n",
    "    classifier.add(Dropout(rate=0.5))\n",
    "    classifier.add(Dense(units = 43, activation = 'softmax'))\n",
    "    \n",
    "    return classifier"
   ]
  },
  {
   "cell_type": "markdown",
   "id": "interior-congo",
   "metadata": {},
   "source": [
    "**Pre-trained Models:**"
   ]
  },
  {
   "cell_type": "markdown",
   "id": "proud-universal",
   "metadata": {},
   "source": [
    "Three of the best and more popular models for Transfer Learning are as follows:\n",
    "\n",
    "- VGG (we will use VGG16); <br>\n",
    "- EfficientNet (we will use EfficientNetB7); <br>\n",
    "- Residual Network (we will use ResNet152V2).\n",
    "\n",
    "In this Transfer Learning phase, we will train only the fully-connected layer, so the rest of the model's weights will stay frozen. Also, we added our own custom classifier on the fully-connected layers of the 3 models."
   ]
  },
  {
   "cell_type": "code",
   "execution_count": 27,
   "id": "preliminary-stream",
   "metadata": {},
   "outputs": [],
   "source": [
    "# VGG16\n",
    "vgg = VGG16(input_shape=(32,32,3),\n",
    "            weights='imagenet', \n",
    "            include_top=False)\n",
    "\n",
    "# Don't train existing weights\n",
    "for layer in vgg.layers:\n",
    "    layer.trainable = False\n",
    "    \n",
    "# Add a custom fully-connected layer\n",
    "x = Flatten()(vgg.output)\n",
    "\n",
    "x = Dense(units = 512, activation = 'relu')(x)\n",
    "x = BatchNormalization()(x)\n",
    "x = Dropout(rate=0.5)(x)\n",
    "x = Dense(units = 43, activation='softmax')(x)"
   ]
  },
  {
   "cell_type": "code",
   "execution_count": 28,
   "id": "designed-grain",
   "metadata": {},
   "outputs": [],
   "source": [
    "# EfficientNetB7\n",
    "e_net = EfficientNetB7(input_shape=(32,32,3),\n",
    "                       weights='imagenet', \n",
    "                       include_top=False)\n",
    "\n",
    "# Don't train existing weights\n",
    "for layer in e_net.layers:\n",
    "    layer.trainable = False\n",
    "    \n",
    "# Add a custom fully-connected layer\n",
    "y = Flatten()(e_net.output)\n",
    "\n",
    "y = Dense(units = 512, activation = 'relu')(y)\n",
    "y = BatchNormalization()(y)\n",
    "y = Dropout(rate=0.5)(y)\n",
    "y = Dense(units = 43, activation='softmax')(y)"
   ]
  },
  {
   "cell_type": "code",
   "execution_count": 29,
   "id": "abroad-howard",
   "metadata": {
    "scrolled": true
   },
   "outputs": [],
   "source": [
    "# ResNet152V2\n",
    "resnet = ResNet152V2(input_shape=(32,32,3),\n",
    "                     weights='imagenet', \n",
    "                     include_top=False)\n",
    "\n",
    "# Don't train existing weights\n",
    "for layer in resnet.layers:\n",
    "    layer.trainable = False\n",
    "    \n",
    "# Add a custom fully-connected layer\n",
    "z = Flatten()(resnet.output)\n",
    "\n",
    "z = Dense(units = 512, activation = 'relu')(z)\n",
    "z = BatchNormalization()(z)\n",
    "z = Dropout(rate=0.5)(z)\n",
    "z = Dense(units = 43, activation='softmax')(z)"
   ]
  },
  {
   "cell_type": "markdown",
   "id": "mighty-cycling",
   "metadata": {},
   "source": [
    "### 5.1. Data Augmentation"
   ]
  },
  {
   "cell_type": "markdown",
   "id": "raised-liberia",
   "metadata": {},
   "source": [
    "To avoid overfitting and to improve the generalizability of our models, we'll use data augmentation.\n",
    "\n",
    "It's important to note rotations and flips can potentially harm the quality of the model (some signs look like others if they are flipped), so we will pay special attention to those parameters."
   ]
  },
  {
   "cell_type": "code",
   "execution_count": 14,
   "id": "agricultural-serve",
   "metadata": {},
   "outputs": [],
   "source": [
    "aug = ImageDataGenerator(\n",
    "    rotation_range=10,\n",
    "    zoom_range=0.2,\n",
    "    width_shift_range=0.15,\n",
    "    height_shift_range=0.15,\n",
    "    shear_range=0.2,\n",
    "    horizontal_flip=False,\n",
    "    vertical_flip=False,\n",
    "    fill_mode='nearest')"
   ]
  },
  {
   "cell_type": "markdown",
   "id": "engaged-honor",
   "metadata": {},
   "source": [
    "### 5.2. Callbacks"
   ]
  },
  {
   "cell_type": "code",
   "execution_count": 15,
   "id": "minus-making",
   "metadata": {},
   "outputs": [],
   "source": [
    "callbacks_list = [\n",
    "    keras.callbacks.EarlyStopping( # Once triggered, stops the training (if the val_accuracy decreases 5 epochs in a row).\n",
    "        monitor='val_accuracy',\n",
    "        patience=5),\n",
    "    keras.callbacks.ModelCheckpoint( # Saves the best model observed during training (according to val_loss).\n",
    "        filepath = 'cnn_model_file',\n",
    "        monitor='val_loss',\n",
    "        save_best_only=True)\n",
    "]"
   ]
  },
  {
   "cell_type": "markdown",
   "id": "peaceful-providence",
   "metadata": {},
   "source": [
    "### 5.3. Compile and Fit"
   ]
  },
  {
   "cell_type": "markdown",
   "id": "entitled-proxy",
   "metadata": {},
   "source": [
    "**Our CNN Architectures:**"
   ]
  },
  {
   "cell_type": "markdown",
   "id": "olive-douglas",
   "metadata": {},
   "source": [
    "**a) cnn_1:**"
   ]
  },
  {
   "cell_type": "code",
   "execution_count": 26,
   "id": "rental-extraction",
   "metadata": {
    "scrolled": true
   },
   "outputs": [
    {
     "name": "stdout",
     "output_type": "stream",
     "text": [
      "Epoch 1/30\n",
      "857/858 [============================>.] - ETA: 0s - loss: 3.3042 - accuracy: 0.1194WARNING:tensorflow:From C:\\Users\\ruifi\\anaconda3\\envs\\DLclasses\\lib\\site-packages\\tensorflow\\python\\training\\tracking\\tracking.py:111: Model.state_updates (from tensorflow.python.keras.engine.training) is deprecated and will be removed in a future version.\n",
      "Instructions for updating:\n",
      "This property should not be used in TensorFlow 2.0, as updates are applied automatically.\n",
      "WARNING:tensorflow:From C:\\Users\\ruifi\\anaconda3\\envs\\DLclasses\\lib\\site-packages\\tensorflow\\python\\training\\tracking\\tracking.py:111: Layer.updates (from tensorflow.python.keras.engine.base_layer) is deprecated and will be removed in a future version.\n",
      "Instructions for updating:\n",
      "This property should not be used in TensorFlow 2.0, as updates are applied automatically.\n",
      "INFO:tensorflow:Assets written to: cnn_model_file\\assets\n",
      "858/858 [==============================] - 50s 58ms/step - loss: 3.3040 - accuracy: 0.1195 - val_loss: 2.9484 - val_accuracy: 0.2155\n",
      "Epoch 2/30\n",
      "857/858 [============================>.] - ETA: 0s - loss: 2.8116 - accuracy: 0.2343INFO:tensorflow:Assets written to: cnn_model_file\\assets\n",
      "858/858 [==============================] - 50s 58ms/step - loss: 2.8111 - accuracy: 0.2344 - val_loss: 2.4562 - val_accuracy: 0.3042\n",
      "Epoch 3/30\n",
      "858/858 [==============================] - ETA: 0s - loss: 2.4122 - accuracy: 0.3141INFO:tensorflow:Assets written to: cnn_model_file\\assets\n",
      "858/858 [==============================] - 49s 57ms/step - loss: 2.4122 - accuracy: 0.3141 - val_loss: 2.0012 - val_accuracy: 0.4024\n",
      "Epoch 4/30\n",
      "857/858 [============================>.] - ETA: 0s - loss: 2.0377 - accuracy: 0.4025INFO:tensorflow:Assets written to: cnn_model_file\\assets\n",
      "858/858 [==============================] - 48s 56ms/step - loss: 2.0376 - accuracy: 0.4024 - val_loss: 1.6425 - val_accuracy: 0.4842\n",
      "Epoch 5/30\n",
      "858/858 [==============================] - ETA: 0s - loss: 1.7455 - accuracy: 0.4805INFO:tensorflow:Assets written to: cnn_model_file\\assets\n",
      "858/858 [==============================] - 49s 57ms/step - loss: 1.7455 - accuracy: 0.4805 - val_loss: 1.3665 - val_accuracy: 0.5556\n",
      "Epoch 6/30\n",
      "858/858 [==============================] - ETA: 0s - loss: 1.5385 - accuracy: 0.5393INFO:tensorflow:Assets written to: cnn_model_file\\assets\n",
      "858/858 [==============================] - 48s 56ms/step - loss: 1.5385 - accuracy: 0.5393 - val_loss: 1.1634 - val_accuracy: 0.6378\n",
      "Epoch 7/30\n",
      "857/858 [============================>.] - ETA: 0s - loss: 1.3634 - accuracy: 0.5887INFO:tensorflow:Assets written to: cnn_model_file\\assets\n",
      "858/858 [==============================] - 53s 61ms/step - loss: 1.3634 - accuracy: 0.5886 - val_loss: 1.0092 - val_accuracy: 0.7054\n",
      "Epoch 8/30\n",
      "857/858 [============================>.] - ETA: 0s - loss: 1.2146 - accuracy: 0.6375INFO:tensorflow:Assets written to: cnn_model_file\\assets\n",
      "858/858 [==============================] - 51s 59ms/step - loss: 1.2144 - accuracy: 0.6376 - val_loss: 0.8300 - val_accuracy: 0.7700\n",
      "Epoch 9/30\n",
      "858/858 [==============================] - ETA: 0s - loss: 1.0849 - accuracy: 0.6787INFO:tensorflow:Assets written to: cnn_model_file\\assets\n",
      "858/858 [==============================] - 49s 57ms/step - loss: 1.0849 - accuracy: 0.6787 - val_loss: 0.7354 - val_accuracy: 0.7845\n",
      "Epoch 10/30\n",
      "857/858 [============================>.] - ETA: 0s - loss: 0.9795 - accuracy: 0.7087INFO:tensorflow:Assets written to: cnn_model_file\\assets\n",
      "858/858 [==============================] - 48s 56ms/step - loss: 0.9794 - accuracy: 0.7088 - val_loss: 0.6315 - val_accuracy: 0.8176\n",
      "Epoch 11/30\n",
      "858/858 [==============================] - ETA: 0s - loss: 0.8909 - accuracy: 0.7382INFO:tensorflow:Assets written to: cnn_model_file\\assets\n",
      "858/858 [==============================] - 49s 58ms/step - loss: 0.8909 - accuracy: 0.7382 - val_loss: 0.5403 - val_accuracy: 0.8581\n",
      "Epoch 12/30\n",
      "857/858 [============================>.] - ETA: 0s - loss: 0.8188 - accuracy: 0.7606INFO:tensorflow:Assets written to: cnn_model_file\\assets\n",
      "858/858 [==============================] - 50s 58ms/step - loss: 0.8189 - accuracy: 0.7604 - val_loss: 0.4860 - val_accuracy: 0.8649\n",
      "Epoch 13/30\n",
      "858/858 [==============================] - ETA: 0s - loss: 0.7539 - accuracy: 0.7785INFO:tensorflow:Assets written to: cnn_model_file\\assets\n",
      "858/858 [==============================] - 49s 57ms/step - loss: 0.7539 - accuracy: 0.7785 - val_loss: 0.4271 - val_accuracy: 0.8788\n",
      "Epoch 14/30\n",
      "858/858 [==============================] - ETA: 0s - loss: 0.6984 - accuracy: 0.7982INFO:tensorflow:Assets written to: cnn_model_file\\assets\n",
      "858/858 [==============================] - 50s 58ms/step - loss: 0.6984 - accuracy: 0.7982 - val_loss: 0.3949 - val_accuracy: 0.8847\n",
      "Epoch 15/30\n",
      "857/858 [============================>.] - ETA: 0s - loss: 0.6353 - accuracy: 0.8148INFO:tensorflow:Assets written to: cnn_model_file\\assets\n",
      "858/858 [==============================] - 49s 58ms/step - loss: 0.6353 - accuracy: 0.8149 - val_loss: 0.3408 - val_accuracy: 0.9037\n",
      "Epoch 16/30\n",
      "857/858 [============================>.] - ETA: 0s - loss: 0.5894 - accuracy: 0.8281 ETA: 0s - loss: 0INFO:tensorflow:Assets written to: cnn_model_file\\assets\n",
      "858/858 [==============================] - 50s 58ms/step - loss: 0.5897 - accuracy: 0.8280 - val_loss: 0.2935 - val_accuracy: 0.9194\n",
      "Epoch 17/30\n",
      "858/858 [==============================] - ETA: 0s - loss: 0.5457 - accuracy: 0.8417 ETAINFO:tensorflow:Assets written to: cnn_model_file\\assets\n",
      "858/858 [==============================] - 49s 57ms/step - loss: 0.5457 - accuracy: 0.8417 - val_loss: 0.2505 - val_accuracy: 0.9367\n",
      "Epoch 18/30\n",
      "858/858 [==============================] - ETA: 0s - loss: 0.5067 - accuracy: 0.8521INFO:tensorflow:Assets written to: cnn_model_file\\assets\n",
      "858/858 [==============================] - 49s 57ms/step - loss: 0.5067 - accuracy: 0.8521 - val_loss: 0.2407 - val_accuracy: 0.9375\n",
      "Epoch 19/30\n",
      "858/858 [==============================] - ETA: 0s - loss: 0.4779 - accuracy: 0.8621INFO:tensorflow:Assets written to: cnn_model_file\\assets\n",
      "858/858 [==============================] - 51s 59ms/step - loss: 0.4779 - accuracy: 0.8621 - val_loss: 0.2060 - val_accuracy: 0.9479\n",
      "Epoch 20/30\n",
      "857/858 [============================>.] - ETA: 0s - loss: 0.4484 - accuracy: 0.8703INFO:tensorflow:Assets written to: cnn_model_file\\assets\n",
      "858/858 [==============================] - 51s 59ms/step - loss: 0.4484 - accuracy: 0.8704 - val_loss: 0.1957 - val_accuracy: 0.9467\n",
      "Epoch 21/30\n",
      "858/858 [==============================] - ETA: 0s - loss: 0.4238 - accuracy: 0.8762INFO:tensorflow:Assets written to: cnn_model_file\\assets\n",
      "858/858 [==============================] - 48s 56ms/step - loss: 0.4238 - accuracy: 0.8762 - val_loss: 0.1745 - val_accuracy: 0.9533\n",
      "Epoch 22/30\n",
      "857/858 [============================>.] - ETA: 0s - loss: 0.3884 - accuracy: 0.8876INFO:tensorflow:Assets written to: cnn_model_file\\assets\n",
      "858/858 [==============================] - 49s 58ms/step - loss: 0.3883 - accuracy: 0.8876 - val_loss: 0.1642 - val_accuracy: 0.9584\n",
      "Epoch 23/30\n",
      "857/858 [============================>.] - ETA: 0s - loss: 0.3752 - accuracy: 0.8896INFO:tensorflow:Assets written to: cnn_model_file\\assets\n",
      "858/858 [==============================] - 49s 57ms/step - loss: 0.3750 - accuracy: 0.8897 - val_loss: 0.1410 - val_accuracy: 0.9661\n",
      "Epoch 24/30\n",
      "858/858 [==============================] - 47s 55ms/step - loss: 0.3504 - accuracy: 0.8971 - val_loss: 0.1430 - val_accuracy: 0.9576\n",
      "Epoch 25/30\n",
      "858/858 [==============================] - 47s 55ms/step - loss: 0.3307 - accuracy: 0.9036 - val_loss: 0.1440 - val_accuracy: 0.9576\n",
      "Epoch 26/30\n",
      "857/858 [============================>.] - ETA: 0s - loss: 0.3163 - accuracy: 0.9072INFO:tensorflow:Assets written to: cnn_model_file\\assets\n",
      "858/858 [==============================] - 51s 59ms/step - loss: 0.3165 - accuracy: 0.9071 - val_loss: 0.1403 - val_accuracy: 0.9568\n",
      "Epoch 27/30\n",
      "858/858 [==============================] - ETA: 0s - loss: 0.3001 - accuracy: 0.9116INFO:tensorflow:Assets written to: cnn_model_file\\assets\n",
      "858/858 [==============================] - 49s 57ms/step - loss: 0.3001 - accuracy: 0.9116 - val_loss: 0.1074 - val_accuracy: 0.9739\n"
     ]
    },
    {
     "name": "stdout",
     "output_type": "stream",
     "text": [
      "Epoch 28/30\n",
      "857/858 [============================>.] - ETA: 0s - loss: 0.2818 - accuracy: 0.9171INFO:tensorflow:Assets written to: cnn_model_file\\assets\n",
      "858/858 [==============================] - 50s 58ms/step - loss: 0.2822 - accuracy: 0.9171 - val_loss: 0.0930 - val_accuracy: 0.9772\n",
      "Epoch 29/30\n",
      "858/858 [==============================] - 45s 52ms/step - loss: 0.2759 - accuracy: 0.9198 - val_loss: 0.0932 - val_accuracy: 0.9774\n",
      "Epoch 30/30\n",
      "858/858 [==============================] - 45s 53ms/step - loss: 0.2647 - accuracy: 0.9239 - val_loss: 0.1075 - val_accuracy: 0.9685\n"
     ]
    }
   ],
   "source": [
    "# Get the model\n",
    "cnn_1_model = cnn_1((32,32,3))\n",
    "\n",
    "# Compile\n",
    "opt = optimizers.RMSprop(lr = 1e-4)\n",
    "\n",
    "cnn_1_model.compile(loss='categorical_crossentropy', \n",
    "                    optimizer=opt, \n",
    "                    metrics=['accuracy'])\n",
    "\n",
    "# Fit\n",
    "epochs = 30\n",
    "\n",
    "history_1 = cnn_1_model.fit(aug.flow(X_train, y_train, batch_size=32),\n",
    "                            epochs=epochs, \n",
    "                            callbacks=callbacks_list,\n",
    "                            validation_data=(X_val, y_val))"
   ]
  },
  {
   "cell_type": "code",
   "execution_count": 27,
   "id": "improved-austria",
   "metadata": {
    "scrolled": false
   },
   "outputs": [
    {
     "name": "stdout",
     "output_type": "stream",
     "text": [
      "Model: \"sequential\"\n",
      "_________________________________________________________________\n",
      "Layer (type)                 Output Shape              Param #   \n",
      "=================================================================\n",
      "conv2d (Conv2D)              (None, 28, 28, 32)        2432      \n",
      "_________________________________________________________________\n",
      "max_pooling2d_3 (MaxPooling2 (None, 14, 14, 32)        0         \n",
      "_________________________________________________________________\n",
      "conv2d_1 (Conv2D)            (None, 10, 10, 64)        51264     \n",
      "_________________________________________________________________\n",
      "max_pooling2d_4 (MaxPooling2 (None, 5, 5, 64)          0         \n",
      "_________________________________________________________________\n",
      "conv2d_2 (Conv2D)            (None, 3, 3, 128)         73856     \n",
      "_________________________________________________________________\n",
      "max_pooling2d_5 (MaxPooling2 (None, 1, 1, 128)         0         \n",
      "_________________________________________________________________\n",
      "flatten_3 (Flatten)          (None, 128)               0         \n",
      "_________________________________________________________________\n",
      "dense_6 (Dense)              (None, 512)               66048     \n",
      "_________________________________________________________________\n",
      "dense_7 (Dense)              (None, 43)                22059     \n",
      "=================================================================\n",
      "Total params: 215,659\n",
      "Trainable params: 215,659\n",
      "Non-trainable params: 0\n",
      "_________________________________________________________________\n"
     ]
    }
   ],
   "source": [
    "# Model summary\n",
    "cnn_1_model.summary()"
   ]
  },
  {
   "cell_type": "markdown",
   "id": "declared-preserve",
   "metadata": {},
   "source": [
    "**b) cnn_2:**"
   ]
  },
  {
   "cell_type": "code",
   "execution_count": 38,
   "id": "municipal-comfort",
   "metadata": {
    "scrolled": true
   },
   "outputs": [
    {
     "name": "stdout",
     "output_type": "stream",
     "text": [
      "Epoch 1/30\n",
      "858/858 [==============================] - 48s 56ms/step - loss: 3.5147 - accuracy: 0.0685 - val_loss: 3.3113 - val_accuracy: 0.1565\n",
      "Epoch 2/30\n",
      "858/858 [==============================] - 52s 61ms/step - loss: 3.1244 - accuracy: 0.1484 - val_loss: 2.8204 - val_accuracy: 0.2459\n",
      "Epoch 3/30\n",
      "858/858 [==============================] - 50s 58ms/step - loss: 2.7675 - accuracy: 0.2251 - val_loss: 2.3492 - val_accuracy: 0.3468\n",
      "Epoch 4/30\n",
      "858/858 [==============================] - 49s 57ms/step - loss: 2.4186 - accuracy: 0.3008 - val_loss: 1.9941 - val_accuracy: 0.3958\n",
      "Epoch 5/30\n",
      "858/858 [==============================] - 49s 57ms/step - loss: 2.1657 - accuracy: 0.3494 - val_loss: 1.7530 - val_accuracy: 0.4401\n",
      "Epoch 6/30\n",
      "858/858 [==============================] - 49s 57ms/step - loss: 1.9655 - accuracy: 0.3889 - val_loss: 1.5688 - val_accuracy: 0.4772\n",
      "Epoch 7/30\n",
      "858/858 [==============================] - 49s 58ms/step - loss: 1.8182 - accuracy: 0.4231 - val_loss: 1.4645 - val_accuracy: 0.5435\n",
      "Epoch 8/30\n",
      "858/858 [==============================] - 50s 59ms/step - loss: 1.6981 - accuracy: 0.4562 - val_loss: 1.2941 - val_accuracy: 0.5703\n",
      "Epoch 9/30\n",
      "858/858 [==============================] - 51s 59ms/step - loss: 1.5887 - accuracy: 0.4857 - val_loss: 1.2113 - val_accuracy: 0.6171\n",
      "Epoch 10/30\n",
      "858/858 [==============================] - 49s 57ms/step - loss: 1.4906 - accuracy: 0.5200 - val_loss: 1.0563 - val_accuracy: 0.6710\n",
      "Epoch 11/30\n",
      "858/858 [==============================] - 50s 58ms/step - loss: 1.3843 - accuracy: 0.5571 - val_loss: 0.9233 - val_accuracy: 0.7252\n",
      "Epoch 12/30\n",
      "858/858 [==============================] - 49s 57ms/step - loss: 1.2980 - accuracy: 0.5826 - val_loss: 0.8287 - val_accuracy: 0.7580\n",
      "Epoch 13/30\n",
      "858/858 [==============================] - 50s 59ms/step - loss: 1.2163 - accuracy: 0.6076 - val_loss: 0.7896 - val_accuracy: 0.7590\n",
      "Epoch 14/30\n",
      "858/858 [==============================] - 52s 61ms/step - loss: 1.1408 - accuracy: 0.6323 - val_loss: 0.6786 - val_accuracy: 0.8063\n",
      "Epoch 15/30\n",
      "858/858 [==============================] - 50s 59ms/step - loss: 1.0759 - accuracy: 0.6551 - val_loss: 0.5680 - val_accuracy: 0.8369\n",
      "Epoch 16/30\n",
      "858/858 [==============================] - 50s 58ms/step - loss: 1.0009 - accuracy: 0.6804 - val_loss: 0.5178 - val_accuracy: 0.8516\n",
      "Epoch 17/30\n",
      "858/858 [==============================] - 49s 57ms/step - loss: 0.9457 - accuracy: 0.7001 - val_loss: 0.4594 - val_accuracy: 0.8754\n",
      "Epoch 18/30\n",
      "858/858 [==============================] - 49s 57ms/step - loss: 0.8961 - accuracy: 0.7132 - val_loss: 0.3986 - val_accuracy: 0.8914\n",
      "Epoch 19/30\n",
      "858/858 [==============================] - 49s 57ms/step - loss: 0.8548 - accuracy: 0.7274 - val_loss: 0.3644 - val_accuracy: 0.8992\n",
      "Epoch 20/30\n",
      "858/858 [==============================] - 50s 58ms/step - loss: 0.8060 - accuracy: 0.7431 - val_loss: 0.3251 - val_accuracy: 0.9161\n",
      "Epoch 21/30\n",
      "858/858 [==============================] - 47s 55ms/step - loss: 0.7687 - accuracy: 0.7566 - val_loss: 0.3131 - val_accuracy: 0.9185\n",
      "Epoch 22/30\n",
      "858/858 [==============================] - 45s 52ms/step - loss: 0.7324 - accuracy: 0.7650 - val_loss: 0.2630 - val_accuracy: 0.9304\n",
      "Epoch 23/30\n",
      "858/858 [==============================] - 50s 59ms/step - loss: 0.7041 - accuracy: 0.7771 - val_loss: 0.2402 - val_accuracy: 0.9451\n",
      "Epoch 24/30\n",
      "858/858 [==============================] - 49s 58ms/step - loss: 0.6707 - accuracy: 0.7889 - val_loss: 0.2240 - val_accuracy: 0.9410\n",
      "Epoch 25/30\n",
      "858/858 [==============================] - 50s 58ms/step - loss: 0.6457 - accuracy: 0.7959 - val_loss: 0.2139 - val_accuracy: 0.9486\n",
      "Epoch 26/30\n",
      "858/858 [==============================] - 51s 60ms/step - loss: 0.6215 - accuracy: 0.8043 - val_loss: 0.1972 - val_accuracy: 0.9579\n",
      "Epoch 27/30\n",
      "858/858 [==============================] - 50s 59ms/step - loss: 0.6005 - accuracy: 0.8089 - val_loss: 0.1729 - val_accuracy: 0.9625\n",
      "Epoch 28/30\n",
      "858/858 [==============================] - 50s 59ms/step - loss: 0.5651 - accuracy: 0.8211 - val_loss: 0.1711 - val_accuracy: 0.9634\n",
      "Epoch 29/30\n",
      "858/858 [==============================] - 49s 58ms/step - loss: 0.5568 - accuracy: 0.8253 - val_loss: 0.1492 - val_accuracy: 0.9695\n",
      "Epoch 30/30\n",
      "858/858 [==============================] - 50s 59ms/step - loss: 0.5324 - accuracy: 0.8344 - val_loss: 0.1414 - val_accuracy: 0.9717\n"
     ]
    }
   ],
   "source": [
    "# Get the model\n",
    "cnn_2_model = cnn_2((32,32,3))\n",
    "\n",
    "# Compile\n",
    "opt = optimizers.RMSprop(lr = 1e-4)\n",
    "\n",
    "cnn_2_model.compile(loss='categorical_crossentropy', \n",
    "                    optimizer=opt, \n",
    "                    metrics=['accuracy'])\n",
    "\n",
    "# Fit\n",
    "epochs = 30\n",
    "\n",
    "history_2 = cnn_2_model.fit(aug.flow(X_train, y_train, batch_size=32),\n",
    "                            epochs=epochs, \n",
    "                            callbacks=callbacks_list,\n",
    "                            validation_data=(X_val, y_val))"
   ]
  },
  {
   "cell_type": "code",
   "execution_count": 39,
   "id": "upper-ukraine",
   "metadata": {},
   "outputs": [
    {
     "name": "stdout",
     "output_type": "stream",
     "text": [
      "Model: \"sequential_1\"\n",
      "_________________________________________________________________\n",
      "Layer (type)                 Output Shape              Param #   \n",
      "=================================================================\n",
      "conv2d_3 (Conv2D)            (None, 28, 28, 32)        2432      \n",
      "_________________________________________________________________\n",
      "max_pooling2d_6 (MaxPooling2 (None, 14, 14, 32)        0         \n",
      "_________________________________________________________________\n",
      "dropout_3 (Dropout)          (None, 14, 14, 32)        0         \n",
      "_________________________________________________________________\n",
      "conv2d_4 (Conv2D)            (None, 10, 10, 64)        51264     \n",
      "_________________________________________________________________\n",
      "max_pooling2d_7 (MaxPooling2 (None, 5, 5, 64)          0         \n",
      "_________________________________________________________________\n",
      "dropout_4 (Dropout)          (None, 5, 5, 64)          0         \n",
      "_________________________________________________________________\n",
      "conv2d_5 (Conv2D)            (None, 3, 3, 128)         73856     \n",
      "_________________________________________________________________\n",
      "max_pooling2d_8 (MaxPooling2 (None, 1, 1, 128)         0         \n",
      "_________________________________________________________________\n",
      "dropout_5 (Dropout)          (None, 1, 1, 128)         0         \n",
      "_________________________________________________________________\n",
      "flatten_4 (Flatten)          (None, 128)               0         \n",
      "_________________________________________________________________\n",
      "dense_8 (Dense)              (None, 512)               66048     \n",
      "_________________________________________________________________\n",
      "dropout_6 (Dropout)          (None, 512)               0         \n",
      "_________________________________________________________________\n",
      "dense_9 (Dense)              (None, 43)                22059     \n",
      "=================================================================\n",
      "Total params: 215,659\n",
      "Trainable params: 215,659\n",
      "Non-trainable params: 0\n",
      "_________________________________________________________________\n"
     ]
    }
   ],
   "source": [
    "# Model summary\n",
    "cnn_2_model.summary()"
   ]
  },
  {
   "cell_type": "markdown",
   "id": "valid-travel",
   "metadata": {},
   "source": [
    "**c) cnn_3:**"
   ]
  },
  {
   "cell_type": "code",
   "execution_count": 44,
   "id": "found-trick",
   "metadata": {
    "scrolled": true
   },
   "outputs": [
    {
     "name": "stdout",
     "output_type": "stream",
     "text": [
      "Epoch 1/30\n",
      "858/858 [==============================] - 53s 62ms/step - loss: 2.7012 - accuracy: 0.3015 - val_loss: 0.9850 - val_accuracy: 0.6673\n",
      "Epoch 2/30\n",
      "858/858 [==============================] - 54s 63ms/step - loss: 1.2364 - accuracy: 0.6158 - val_loss: 0.3858 - val_accuracy: 0.8832\n",
      "Epoch 3/30\n",
      "858/858 [==============================] - 54s 63ms/step - loss: 0.8300 - accuracy: 0.7395 - val_loss: 0.2049 - val_accuracy: 0.9378\n",
      "Epoch 4/30\n",
      "858/858 [==============================] - 54s 63ms/step - loss: 0.6481 - accuracy: 0.7951 - val_loss: 0.1085 - val_accuracy: 0.9709\n",
      "Epoch 5/30\n",
      "858/858 [==============================] - 58s 67ms/step - loss: 0.5525 - accuracy: 0.8249 - val_loss: 0.0965 - val_accuracy: 0.9776\n",
      "Epoch 6/30\n",
      "858/858 [==============================] - ETA: 0s - loss: 0.4941 - accuracy: 0.8459INFO:tensorflow:Assets written to: cnn_model_file\\assets\n",
      "858/858 [==============================] - 67s 78ms/step - loss: 0.4941 - accuracy: 0.8459 - val_loss: 0.0778 - val_accuracy: 0.9768\n",
      "Epoch 7/30\n",
      "858/858 [==============================] - 59s 68ms/step - loss: 0.4580 - accuracy: 0.8572 - val_loss: 0.0819 - val_accuracy: 0.9778 loss: 0.4580 - accuracy: 0.85\n",
      "Epoch 8/30\n",
      "857/858 [============================>.] - ETA: 0s - loss: 0.4146 - accuracy: 0.8694INFO:tensorflow:Assets written to: cnn_model_file\\assets\n",
      "858/858 [==============================] - 61s 71ms/step - loss: 0.4147 - accuracy: 0.8694 - val_loss: 0.0628 - val_accuracy: 0.9794\n",
      "Epoch 9/30\n",
      "858/858 [==============================] - ETA: 0s - loss: 0.3966 - accuracy: 0.8772INFO:tensorflow:Assets written to: cnn_model_file\\assets\n",
      "858/858 [==============================] - 61s 71ms/step - loss: 0.3966 - accuracy: 0.8772 - val_loss: 0.0587 - val_accuracy: 0.9824\n",
      "Epoch 10/30\n",
      "858/858 [==============================] - ETA: 0s - loss: 0.3724 - accuracy: 0.8829INFO:tensorflow:Assets written to: cnn_model_file\\assets\n",
      "858/858 [==============================] - 63s 73ms/step - loss: 0.3724 - accuracy: 0.8829 - val_loss: 0.0339 - val_accuracy: 0.9908\n",
      "Epoch 11/30\n",
      "858/858 [==============================] - 57s 67ms/step - loss: 0.3470 - accuracy: 0.8910 - val_loss: 0.0421 - val_accuracy: 0.9873\n",
      "Epoch 12/30\n",
      "857/858 [============================>.] - ETA: 0s - loss: 0.3287 - accuracy: 0.8978INFO:tensorflow:Assets written to: cnn_model_file\\assets\n",
      "858/858 [==============================] - 60s 70ms/step - loss: 0.3286 - accuracy: 0.8978 - val_loss: 0.0247 - val_accuracy: 0.9934\n",
      "Epoch 13/30\n",
      "858/858 [==============================] - 56s 65ms/step - loss: 0.3190 - accuracy: 0.8986 - val_loss: 0.0446 - val_accuracy: 0.9867\n",
      "Epoch 14/30\n",
      "858/858 [==============================] - 56s 66ms/step - loss: 0.3194 - accuracy: 0.9012 - val_loss: 0.0352 - val_accuracy: 0.9907\n",
      "Epoch 15/30\n",
      "858/858 [==============================] - ETA: 0s - loss: 0.2981 - accuracy: 0.9073INFO:tensorflow:Assets written to: cnn_model_file\\assets\n",
      "858/858 [==============================] - 64s 74ms/step - loss: 0.2981 - accuracy: 0.9073 - val_loss: 0.0169 - val_accuracy: 0.9955\n",
      "Epoch 16/30\n",
      "858/858 [==============================] - 56s 66ms/step - loss: 0.2921 - accuracy: 0.9094 - val_loss: 0.0435 - val_accuracy: 0.9860\n",
      "Epoch 17/30\n",
      "858/858 [==============================] - 58s 67ms/step - loss: 0.2814 - accuracy: 0.9135 - val_loss: 0.0295 - val_accuracy: 0.9907\n",
      "Epoch 18/30\n",
      "858/858 [==============================] - 57s 66ms/step - loss: 0.2712 - accuracy: 0.9146 - val_loss: 0.0243 - val_accuracy: 0.9928\n",
      "Epoch 19/30\n",
      "858/858 [==============================] - 56s 66ms/step - loss: 0.2572 - accuracy: 0.9208 - val_loss: 0.0324 - val_accuracy: 0.9909\n",
      "Epoch 20/30\n",
      "858/858 [==============================] - 56s 65ms/step - loss: 0.2602 - accuracy: 0.9207 - val_loss: 0.0289 - val_accuracy: 0.9921\n"
     ]
    }
   ],
   "source": [
    "# Get the model\n",
    "cnn_3_model = cnn_3((32,32,3))\n",
    "\n",
    "# Compile\n",
    "opt = optimizers.Adam() # https://keras.io/api/optimizers/adam/\n",
    "\n",
    "cnn_3_model.compile(loss='categorical_crossentropy', \n",
    "                    optimizer=opt, \n",
    "                    metrics=['accuracy'])\n",
    "\n",
    "# Fit\n",
    "epochs = 30\n",
    "\n",
    "history_3 = cnn_3_model.fit(aug.flow(X_train, y_train, batch_size=32),\n",
    "                            epochs=epochs, \n",
    "                            callbacks=callbacks_list,\n",
    "                            validation_data=(X_val, y_val))"
   ]
  },
  {
   "cell_type": "code",
   "execution_count": 45,
   "id": "considered-deputy",
   "metadata": {},
   "outputs": [
    {
     "name": "stdout",
     "output_type": "stream",
     "text": [
      "Model: \"sequential_2\"\n",
      "_________________________________________________________________\n",
      "Layer (type)                 Output Shape              Param #   \n",
      "=================================================================\n",
      "conv2d_6 (Conv2D)            (None, 28, 28, 32)        2432      \n",
      "_________________________________________________________________\n",
      "max_pooling2d_9 (MaxPooling2 (None, 14, 14, 32)        0         \n",
      "_________________________________________________________________\n",
      "batch_normalization_3 (Batch (None, 14, 14, 32)        128       \n",
      "_________________________________________________________________\n",
      "dropout_7 (Dropout)          (None, 14, 14, 32)        0         \n",
      "_________________________________________________________________\n",
      "conv2d_7 (Conv2D)            (None, 10, 10, 64)        51264     \n",
      "_________________________________________________________________\n",
      "max_pooling2d_10 (MaxPooling (None, 5, 5, 64)          0         \n",
      "_________________________________________________________________\n",
      "batch_normalization_4 (Batch (None, 5, 5, 64)          256       \n",
      "_________________________________________________________________\n",
      "dropout_8 (Dropout)          (None, 5, 5, 64)          0         \n",
      "_________________________________________________________________\n",
      "conv2d_8 (Conv2D)            (None, 3, 3, 128)         73856     \n",
      "_________________________________________________________________\n",
      "max_pooling2d_11 (MaxPooling (None, 1, 1, 128)         0         \n",
      "_________________________________________________________________\n",
      "batch_normalization_5 (Batch (None, 1, 1, 128)         512       \n",
      "_________________________________________________________________\n",
      "dropout_9 (Dropout)          (None, 1, 1, 128)         0         \n",
      "_________________________________________________________________\n",
      "flatten_5 (Flatten)          (None, 128)               0         \n",
      "_________________________________________________________________\n",
      "dense_10 (Dense)             (None, 512)               66048     \n",
      "_________________________________________________________________\n",
      "batch_normalization_6 (Batch (None, 512)               2048      \n",
      "_________________________________________________________________\n",
      "dropout_10 (Dropout)         (None, 512)               0         \n",
      "_________________________________________________________________\n",
      "dense_11 (Dense)             (None, 43)                22059     \n",
      "=================================================================\n",
      "Total params: 218,603\n",
      "Trainable params: 217,131\n",
      "Non-trainable params: 1,472\n",
      "_________________________________________________________________\n"
     ]
    }
   ],
   "source": [
    "# Model summary\n",
    "cnn_3_model.summary()"
   ]
  },
  {
   "cell_type": "markdown",
   "id": "gentle-three",
   "metadata": {},
   "source": [
    "**d) cnn_4:**"
   ]
  },
  {
   "cell_type": "code",
   "execution_count": 16,
   "id": "incomplete-honduras",
   "metadata": {
    "scrolled": true
   },
   "outputs": [
    {
     "name": "stdout",
     "output_type": "stream",
     "text": [
      "Epoch 1/30\n",
      "858/858 [==============================] - ETA: 0s - loss: 2.0595 - accuracy: 0.4515WARNING:tensorflow:From C:\\Users\\ruifi\\anaconda3\\envs\\DLclasses\\lib\\site-packages\\tensorflow\\python\\training\\tracking\\tracking.py:111: Model.state_updates (from tensorflow.python.keras.engine.training) is deprecated and will be removed in a future version.\n",
      "Instructions for updating:\n",
      "This property should not be used in TensorFlow 2.0, as updates are applied automatically.\n",
      "WARNING:tensorflow:From C:\\Users\\ruifi\\anaconda3\\envs\\DLclasses\\lib\\site-packages\\tensorflow\\python\\training\\tracking\\tracking.py:111: Layer.updates (from tensorflow.python.keras.engine.base_layer) is deprecated and will be removed in a future version.\n",
      "Instructions for updating:\n",
      "This property should not be used in TensorFlow 2.0, as updates are applied automatically.\n",
      "INFO:tensorflow:Assets written to: cnn_model_file\\assets\n",
      "858/858 [==============================] - 97s 113ms/step - loss: 2.0595 - accuracy: 0.4515 - val_loss: 0.5383 - val_accuracy: 0.8148\n",
      "Epoch 2/30\n",
      "858/858 [==============================] - ETA: 0s - loss: 0.6219 - accuracy: 0.8073INFO:tensorflow:Assets written to: cnn_model_file\\assets\n",
      "858/858 [==============================] - 99s 115ms/step - loss: 0.6219 - accuracy: 0.8073 - val_loss: 0.0768 - val_accuracy: 0.9778\n",
      "Epoch 3/30\n",
      "858/858 [==============================] - 94s 109ms/step - loss: 0.3486 - accuracy: 0.8914 - val_loss: 0.1295 - val_accuracy: 0.9578\n",
      "Epoch 4/30\n",
      "858/858 [==============================] - ETA: 0s - loss: 0.2624 - accuracy: 0.9190INFO:tensorflow:Assets written to: cnn_model_file\\assets\n",
      "858/858 [==============================] - 100s 116ms/step - loss: 0.2624 - accuracy: 0.9190 - val_loss: 0.0436 - val_accuracy: 0.9884\n",
      "Epoch 5/30\n",
      "858/858 [==============================] - ETA: 0s - loss: 0.2106 - accuracy: 0.9342 ETA: 1sINFO:tensorflow:Assets written to: cnn_model_file\\assets\n",
      "858/858 [==============================] - 100s 117ms/step - loss: 0.2106 - accuracy: 0.9342 - val_loss: 0.0308 - val_accuracy: 0.9905\n",
      "Epoch 6/30\n",
      "858/858 [==============================] - 97s 114ms/step - loss: 0.1812 - accuracy: 0.9460 - val_loss: 0.0873 - val_accuracy: 0.9748\n",
      "Epoch 7/30\n",
      "858/858 [==============================] - 96s 111ms/step - loss: 0.1673 - accuracy: 0.9480 - val_loss: 0.0678 - val_accuracy: 0.9793\n",
      "Epoch 8/30\n",
      "858/858 [==============================] - ETA: 0s - loss: 0.1623 - accuracy: 0.9515INFO:tensorflow:Assets written to: cnn_model_file\\assets\n",
      "858/858 [==============================] - 99s 116ms/step - loss: 0.1623 - accuracy: 0.9515 - val_loss: 0.0194 - val_accuracy: 0.9948\n",
      "Epoch 9/30\n",
      "858/858 [==============================] - ETA: 0s - loss: 0.1322 - accuracy: 0.9588INFO:tensorflow:Assets written to: cnn_model_file\\assets\n",
      "858/858 [==============================] - 100s 116ms/step - loss: 0.1322 - accuracy: 0.9588 - val_loss: 0.0137 - val_accuracy: 0.9964\n",
      "Epoch 10/30\n",
      "858/858 [==============================] - 93s 108ms/step - loss: 0.1238 - accuracy: 0.9634 - val_loss: 0.0895 - val_accuracy: 0.9730\n",
      "Epoch 11/30\n",
      "858/858 [==============================] - 94s 110ms/step - loss: 0.1209 - accuracy: 0.9636 - val_loss: 0.0142 - val_accuracy: 0.9957\n",
      "Epoch 12/30\n",
      "858/858 [==============================] - ETA: 0s - loss: 0.1053 - accuracy: 0.9662INFO:tensorflow:Assets written to: cnn_model_file\\assets\n",
      "858/858 [==============================] - 101s 117ms/step - loss: 0.1053 - accuracy: 0.9662 - val_loss: 0.0136 - val_accuracy: 0.9959\n",
      "Epoch 13/30\n",
      "858/858 [==============================] - 95s 110ms/step - loss: 0.1138 - accuracy: 0.9663 - val_loss: 0.0300 - val_accuracy: 0.9919\n",
      "Epoch 14/30\n",
      "858/858 [==============================] - ETA: 0s - loss: 0.1003 - accuracy: 0.9695INFO:tensorflow:Assets written to: cnn_model_file\\assets\n",
      "858/858 [==============================] - 98s 114ms/step - loss: 0.1003 - accuracy: 0.9695 - val_loss: 0.0079 - val_accuracy: 0.9973\n",
      "Epoch 15/30\n",
      "858/858 [==============================] - ETA: 0s - loss: 0.0903 - accuracy: 0.9726INFO:tensorflow:Assets written to: cnn_model_file\\assets\n",
      "858/858 [==============================] - 100s 117ms/step - loss: 0.0903 - accuracy: 0.9726 - val_loss: 0.0046 - val_accuracy: 0.9988\n",
      "Epoch 16/30\n",
      "858/858 [==============================] - 95s 111ms/step - loss: 0.0885 - accuracy: 0.9731 - val_loss: 0.0383 - val_accuracy: 0.9881\n",
      "Epoch 17/30\n",
      "858/858 [==============================] - 94s 109ms/step - loss: 0.0897 - accuracy: 0.9732 - val_loss: 0.0073 - val_accuracy: 0.9978\n",
      "Epoch 18/30\n",
      "858/858 [==============================] - 95s 111ms/step - loss: 0.0804 - accuracy: 0.9751 - val_loss: 0.0217 - val_accuracy: 0.9931\n",
      "Epoch 19/30\n",
      "858/858 [==============================] - 96s 112ms/step - loss: 0.0779 - accuracy: 0.9765 - val_loss: 0.0082 - val_accuracy: 0.9979\n",
      "Epoch 20/30\n",
      "858/858 [==============================] - 94s 109ms/step - loss: 0.0758 - accuracy: 0.9771 - val_loss: 0.0056 - val_accuracy: 0.9985\n"
     ]
    }
   ],
   "source": [
    "# Get the model\n",
    "cnn_4_model = cnn_4((32,32,3))\n",
    "\n",
    "# Compile\n",
    "opt = optimizers.Adam()\n",
    "\n",
    "cnn_4_model.compile(loss='categorical_crossentropy', \n",
    "                    optimizer=opt, \n",
    "                    metrics=['accuracy'])\n",
    "\n",
    "# Fit\n",
    "epochs = 30\n",
    "\n",
    "history_4 = cnn_4_model.fit(aug.flow(X_train, y_train, batch_size=32),\n",
    "                            epochs=epochs, \n",
    "                            callbacks=callbacks_list,\n",
    "                            validation_data=(X_val, y_val))"
   ]
  },
  {
   "cell_type": "code",
   "execution_count": 17,
   "id": "normal-ability",
   "metadata": {
    "scrolled": false
   },
   "outputs": [
    {
     "name": "stdout",
     "output_type": "stream",
     "text": [
      "Model: \"sequential\"\n",
      "_________________________________________________________________\n",
      "Layer (type)                 Output Shape              Param #   \n",
      "=================================================================\n",
      "conv2d (Conv2D)              (None, 28, 28, 16)        1216      \n",
      "_________________________________________________________________\n",
      "conv2d_1 (Conv2D)            (None, 24, 24, 32)        12832     \n",
      "_________________________________________________________________\n",
      "max_pooling2d (MaxPooling2D) (None, 12, 12, 32)        0         \n",
      "_________________________________________________________________\n",
      "batch_normalization (BatchNo (None, 12, 12, 32)        128       \n",
      "_________________________________________________________________\n",
      "dropout (Dropout)            (None, 12, 12, 32)        0         \n",
      "_________________________________________________________________\n",
      "conv2d_2 (Conv2D)            (None, 10, 10, 64)        18496     \n",
      "_________________________________________________________________\n",
      "conv2d_3 (Conv2D)            (None, 8, 8, 128)         73856     \n",
      "_________________________________________________________________\n",
      "max_pooling2d_1 (MaxPooling2 (None, 4, 4, 128)         0         \n",
      "_________________________________________________________________\n",
      "batch_normalization_1 (Batch (None, 4, 4, 128)         512       \n",
      "_________________________________________________________________\n",
      "dropout_1 (Dropout)          (None, 4, 4, 128)         0         \n",
      "_________________________________________________________________\n",
      "flatten (Flatten)            (None, 2048)              0         \n",
      "_________________________________________________________________\n",
      "dense (Dense)                (None, 512)               1049088   \n",
      "_________________________________________________________________\n",
      "batch_normalization_2 (Batch (None, 512)               2048      \n",
      "_________________________________________________________________\n",
      "dropout_2 (Dropout)          (None, 512)               0         \n",
      "_________________________________________________________________\n",
      "dense_1 (Dense)              (None, 43)                22059     \n",
      "=================================================================\n",
      "Total params: 1,180,235\n",
      "Trainable params: 1,178,891\n",
      "Non-trainable params: 1,344\n",
      "_________________________________________________________________\n"
     ]
    }
   ],
   "source": [
    "# Model summary\n",
    "cnn_4_model.summary()"
   ]
  },
  {
   "cell_type": "markdown",
   "id": "maritime-syracuse",
   "metadata": {},
   "source": [
    "**e) cnn_5:**"
   ]
  },
  {
   "cell_type": "code",
   "execution_count": 56,
   "id": "irish-tucson",
   "metadata": {
    "scrolled": true
   },
   "outputs": [
    {
     "name": "stdout",
     "output_type": "stream",
     "text": [
      "Epoch 1/30\n",
      "858/858 [==============================] - 107s 125ms/step - loss: 4.3509 - accuracy: 0.3485 - val_loss: 1.9155 - val_accuracy: 0.7624\n",
      "Epoch 2/30\n",
      "858/858 [==============================] - 109s 127ms/step - loss: 1.8739 - accuracy: 0.6925 - val_loss: 1.1354 - val_accuracy: 0.8771\n",
      "Epoch 3/30\n",
      "858/858 [==============================] - 110s 129ms/step - loss: 1.2625 - accuracy: 0.8151 - val_loss: 0.7504 - val_accuracy: 0.9545\n",
      "Epoch 4/30\n",
      "858/858 [==============================] - 111s 129ms/step - loss: 1.0440 - accuracy: 0.8537 - val_loss: 0.7076 - val_accuracy: 0.9523\n",
      "Epoch 5/30\n",
      "858/858 [==============================] - 113s 131ms/step - loss: 0.9501 - accuracy: 0.8695 - val_loss: 0.6738 - val_accuracy: 0.9495\n",
      "Epoch 6/30\n",
      "858/858 [==============================] - 110s 129ms/step - loss: 0.8722 - accuracy: 0.8883 - val_loss: 0.5736 - val_accuracy: 0.9774\n",
      "Epoch 7/30\n",
      "858/858 [==============================] - 111s 129ms/step - loss: 0.8505 - accuracy: 0.8908 - val_loss: 0.5532 - val_accuracy: 0.9827\n",
      "Epoch 8/30\n",
      "858/858 [==============================] - 111s 130ms/step - loss: 0.8116 - accuracy: 0.9008 - val_loss: 0.5795 - val_accuracy: 0.9710\n",
      "Epoch 9/30\n",
      "858/858 [==============================] - 111s 129ms/step - loss: 0.7884 - accuracy: 0.9029 - val_loss: 0.5744 - val_accuracy: 0.9714\n",
      "Epoch 10/30\n",
      "858/858 [==============================] - 111s 129ms/step - loss: 0.7735 - accuracy: 0.9092 - val_loss: 0.5631 - val_accuracy: 0.9721\n",
      "Epoch 11/30\n",
      "858/858 [==============================] - 111s 129ms/step - loss: 0.7509 - accuracy: 0.9153 - val_loss: 0.6033 - val_accuracy: 0.9575\n",
      "Epoch 12/30\n",
      "858/858 [==============================] - 111s 130ms/step - loss: 0.7559 - accuracy: 0.9143 - val_loss: 0.5286 - val_accuracy: 0.9787\n"
     ]
    }
   ],
   "source": [
    "# Get the model\n",
    "cnn_5_model = cnn_5((32,32,3))\n",
    "\n",
    "# Compile\n",
    "opt = optimizers.Adam()\n",
    "\n",
    "cnn_5_model.compile(loss='categorical_crossentropy', \n",
    "                    optimizer=opt, \n",
    "                    metrics=['accuracy'])\n",
    "\n",
    "# Fit\n",
    "epochs = 30\n",
    "\n",
    "history_5 = cnn_5_model.fit(aug.flow(X_train, y_train, batch_size=32),\n",
    "                            epochs=epochs, \n",
    "                            callbacks=callbacks_list,\n",
    "                            validation_data=(X_val, y_val))"
   ]
  },
  {
   "cell_type": "code",
   "execution_count": 57,
   "id": "historical-connecticut",
   "metadata": {},
   "outputs": [
    {
     "name": "stdout",
     "output_type": "stream",
     "text": [
      "Model: \"sequential_4\"\n",
      "_________________________________________________________________\n",
      "Layer (type)                 Output Shape              Param #   \n",
      "=================================================================\n",
      "conv2d_13 (Conv2D)           (None, 28, 28, 32)        2432      \n",
      "_________________________________________________________________\n",
      "conv2d_14 (Conv2D)           (None, 24, 24, 32)        25632     \n",
      "_________________________________________________________________\n",
      "max_pooling2d_14 (MaxPooling (None, 12, 12, 32)        0         \n",
      "_________________________________________________________________\n",
      "batch_normalization_10 (Batc (None, 12, 12, 32)        128       \n",
      "_________________________________________________________________\n",
      "dropout_14 (Dropout)         (None, 12, 12, 32)        0         \n",
      "_________________________________________________________________\n",
      "conv2d_15 (Conv2D)           (None, 10, 10, 64)        18496     \n",
      "_________________________________________________________________\n",
      "conv2d_16 (Conv2D)           (None, 8, 8, 64)          36928     \n",
      "_________________________________________________________________\n",
      "max_pooling2d_15 (MaxPooling (None, 4, 4, 64)          0         \n",
      "_________________________________________________________________\n",
      "batch_normalization_11 (Batc (None, 4, 4, 64)          256       \n",
      "_________________________________________________________________\n",
      "dropout_15 (Dropout)         (None, 4, 4, 64)          0         \n",
      "_________________________________________________________________\n",
      "flatten_7 (Flatten)          (None, 1024)              0         \n",
      "_________________________________________________________________\n",
      "dense_14 (Dense)             (None, 512)               524800    \n",
      "_________________________________________________________________\n",
      "batch_normalization_12 (Batc (None, 512)               2048      \n",
      "_________________________________________________________________\n",
      "dropout_16 (Dropout)         (None, 512)               0         \n",
      "_________________________________________________________________\n",
      "dense_15 (Dense)             (None, 43)                22059     \n",
      "=================================================================\n",
      "Total params: 632,779\n",
      "Trainable params: 631,563\n",
      "Non-trainable params: 1,216\n",
      "_________________________________________________________________\n"
     ]
    }
   ],
   "source": [
    "# Model summary\n",
    "cnn_5_model.summary()"
   ]
  },
  {
   "cell_type": "markdown",
   "id": "italic-analyst",
   "metadata": {},
   "source": [
    "**f) cnn_6:**"
   ]
  },
  {
   "cell_type": "code",
   "execution_count": 62,
   "id": "trying-investigator",
   "metadata": {
    "scrolled": true
   },
   "outputs": [
    {
     "name": "stdout",
     "output_type": "stream",
     "text": [
      "Epoch 1/30\n",
      "429/429 [==============================] - 50s 116ms/step - loss: 2.8196 - accuracy: 0.2709 - val_loss: 3.2812 - val_accuracy: 0.1421\n",
      "Epoch 2/30\n",
      "429/429 [==============================] - 51s 118ms/step - loss: 1.4091 - accuracy: 0.5604 - val_loss: 0.5199 - val_accuracy: 0.8379\n",
      "Epoch 3/30\n",
      "429/429 [==============================] - 51s 119ms/step - loss: 0.9155 - accuracy: 0.7113 - val_loss: 0.2761 - val_accuracy: 0.9201\n",
      "Epoch 4/30\n",
      "429/429 [==============================] - 51s 120ms/step - loss: 0.6851 - accuracy: 0.7842 - val_loss: 0.1436 - val_accuracy: 0.9605\n",
      "Epoch 5/30\n",
      "429/429 [==============================] - 52s 121ms/step - loss: 0.5569 - accuracy: 0.8263 - val_loss: 0.1923 - val_accuracy: 0.9391\n",
      "Epoch 6/30\n",
      "429/429 [==============================] - 54s 125ms/step - loss: 0.4696 - accuracy: 0.8510 - val_loss: 0.1172 - val_accuracy: 0.9668\n",
      "Epoch 7/30\n",
      "429/429 [==============================] - 52s 122ms/step - loss: 0.4059 - accuracy: 0.8730 - val_loss: 0.0597 - val_accuracy: 0.9827\n",
      "Epoch 8/30\n",
      "429/429 [==============================] - 53s 123ms/step - loss: 0.3794 - accuracy: 0.8826 - val_loss: 0.0501 - val_accuracy: 0.9861\n",
      "Epoch 9/30\n",
      "429/429 [==============================] - 52s 122ms/step - loss: 0.3414 - accuracy: 0.8943 - val_loss: 0.0942 - val_accuracy: 0.9735\n",
      "Epoch 10/30\n",
      "429/429 [==============================] - 52s 120ms/step - loss: 0.3187 - accuracy: 0.9010 - val_loss: 0.0428 - val_accuracy: 0.9876\n",
      "Epoch 11/30\n",
      "429/429 [==============================] - 51s 119ms/step - loss: 0.2932 - accuracy: 0.9092 - val_loss: 0.0352 - val_accuracy: 0.9915\n",
      "Epoch 12/30\n",
      "429/429 [==============================] - 51s 120ms/step - loss: 0.2830 - accuracy: 0.9130 - val_loss: 0.0318 - val_accuracy: 0.9917\n",
      "Epoch 13/30\n",
      "429/429 [==============================] - 51s 119ms/step - loss: 0.2715 - accuracy: 0.9145 - val_loss: 0.0536 - val_accuracy: 0.9861\n",
      "Epoch 14/30\n",
      "429/429 [==============================] - 51s 120ms/step - loss: 0.2662 - accuracy: 0.9189 - val_loss: 0.0251 - val_accuracy: 0.9929\n",
      "Epoch 15/30\n",
      "429/429 [==============================] - 51s 120ms/step - loss: 0.2497 - accuracy: 0.9234 - val_loss: 0.0207 - val_accuracy: 0.9943\n",
      "Epoch 16/30\n",
      "429/429 [==============================] - 51s 120ms/step - loss: 0.2378 - accuracy: 0.9278 - val_loss: 0.0547 - val_accuracy: 0.9823\n",
      "Epoch 17/30\n",
      "429/429 [==============================] - 53s 123ms/step - loss: 0.2308 - accuracy: 0.9269 - val_loss: 0.0258 - val_accuracy: 0.9938\n",
      "Epoch 18/30\n",
      "429/429 [==============================] - 52s 122ms/step - loss: 0.2319 - accuracy: 0.9290 - val_loss: 0.0167 - val_accuracy: 0.9960\n",
      "Epoch 19/30\n",
      "429/429 [==============================] - 51s 119ms/step - loss: 0.2181 - accuracy: 0.9319 - val_loss: 0.0271 - val_accuracy: 0.9926\n",
      "Epoch 20/30\n",
      "429/429 [==============================] - 51s 119ms/step - loss: 0.2151 - accuracy: 0.9319 - val_loss: 0.0181 - val_accuracy: 0.9959\n",
      "Epoch 21/30\n",
      "429/429 [==============================] - 51s 120ms/step - loss: 0.2146 - accuracy: 0.9358 - val_loss: 0.0108 - val_accuracy: 0.9974\n",
      "Epoch 22/30\n",
      "429/429 [==============================] - 51s 120ms/step - loss: 0.2065 - accuracy: 0.9349 - val_loss: 0.0161 - val_accuracy: 0.9963\n",
      "Epoch 23/30\n",
      "429/429 [==============================] - 51s 120ms/step - loss: 0.2027 - accuracy: 0.9363 - val_loss: 0.0216 - val_accuracy: 0.9945\n",
      "Epoch 24/30\n",
      "429/429 [==============================] - 52s 121ms/step - loss: 0.1972 - accuracy: 0.9398 - val_loss: 0.0123 - val_accuracy: 0.9971\n",
      "Epoch 25/30\n",
      "429/429 [==============================] - 51s 119ms/step - loss: 0.1869 - accuracy: 0.9421 - val_loss: 0.0193 - val_accuracy: 0.9942\n",
      "Epoch 26/30\n",
      "429/429 [==============================] - 51s 120ms/step - loss: 0.1963 - accuracy: 0.9397 - val_loss: 0.0187 - val_accuracy: 0.9955\n"
     ]
    }
   ],
   "source": [
    "# Get the model\n",
    "cnn_6_model = cnn_6((32,32,3))\n",
    "\n",
    "# Compile\n",
    "opt = optimizers.Adam()\n",
    "\n",
    "cnn_6_model.compile(loss='categorical_crossentropy', \n",
    "                    optimizer=opt, \n",
    "                    metrics=['accuracy'])\n",
    "\n",
    "# Fit\n",
    "epochs = 30\n",
    "\n",
    "history_6 = cnn_6_model.fit(aug.flow(X_train, y_train, batch_size=64), # 64 batches!\n",
    "                            epochs=epochs, \n",
    "                            callbacks=callbacks_list,\n",
    "                            validation_data=(X_val, y_val))"
   ]
  },
  {
   "cell_type": "code",
   "execution_count": 63,
   "id": "sunrise-hazard",
   "metadata": {},
   "outputs": [
    {
     "name": "stdout",
     "output_type": "stream",
     "text": [
      "Model: \"sequential_5\"\n",
      "_________________________________________________________________\n",
      "Layer (type)                 Output Shape              Param #   \n",
      "=================================================================\n",
      "conv2d_17 (Conv2D)           (None, 28, 28, 32)        2432      \n",
      "_________________________________________________________________\n",
      "max_pooling2d_16 (MaxPooling (None, 14, 14, 32)        0         \n",
      "_________________________________________________________________\n",
      "batch_normalization_13 (Batc (None, 14, 14, 32)        128       \n",
      "_________________________________________________________________\n",
      "dropout_17 (Dropout)         (None, 14, 14, 32)        0         \n",
      "_________________________________________________________________\n",
      "conv2d_18 (Conv2D)           (None, 10, 10, 64)        51264     \n",
      "_________________________________________________________________\n",
      "max_pooling2d_17 (MaxPooling (None, 5, 5, 64)          0         \n",
      "_________________________________________________________________\n",
      "batch_normalization_14 (Batc (None, 5, 5, 64)          256       \n",
      "_________________________________________________________________\n",
      "dropout_18 (Dropout)         (None, 5, 5, 64)          0         \n",
      "_________________________________________________________________\n",
      "conv2d_19 (Conv2D)           (None, 3, 3, 128)         73856     \n",
      "_________________________________________________________________\n",
      "max_pooling2d_18 (MaxPooling (None, 1, 1, 128)         0         \n",
      "_________________________________________________________________\n",
      "batch_normalization_15 (Batc (None, 1, 1, 128)         512       \n",
      "_________________________________________________________________\n",
      "dropout_19 (Dropout)         (None, 1, 1, 128)         0         \n",
      "_________________________________________________________________\n",
      "flatten_8 (Flatten)          (None, 128)               0         \n",
      "_________________________________________________________________\n",
      "dense_16 (Dense)             (None, 256)               33024     \n",
      "_________________________________________________________________\n",
      "batch_normalization_16 (Batc (None, 256)               1024      \n",
      "_________________________________________________________________\n",
      "dropout_20 (Dropout)         (None, 256)               0         \n",
      "_________________________________________________________________\n",
      "dense_17 (Dense)             (None, 43)                11051     \n",
      "=================================================================\n",
      "Total params: 173,547\n",
      "Trainable params: 172,587\n",
      "Non-trainable params: 960\n",
      "_________________________________________________________________\n"
     ]
    }
   ],
   "source": [
    "# Model summary\n",
    "cnn_6_model.summary()"
   ]
  },
  {
   "cell_type": "markdown",
   "id": "removable-contents",
   "metadata": {},
   "source": [
    "**Pre-trained Models:**"
   ]
  },
  {
   "cell_type": "markdown",
   "id": "unusual-literature",
   "metadata": {},
   "source": [
    "**a) VGG16:**"
   ]
  },
  {
   "cell_type": "code",
   "execution_count": 30,
   "id": "spanish-hydrogen",
   "metadata": {},
   "outputs": [
    {
     "name": "stdout",
     "output_type": "stream",
     "text": [
      "Epoch 1/5\n",
      "858/858 [==============================] - 236s 276ms/step - loss: 2.0937 - accuracy: 0.3973 - val_loss: 1.4035 - val_accuracy: 0.5440\n",
      "Epoch 2/5\n",
      "858/858 [==============================] - 239s 279ms/step - loss: 1.5937 - accuracy: 0.4998 - val_loss: 1.2867 - val_accuracy: 0.5812\n",
      "Epoch 3/5\n",
      "858/858 [==============================] - 237s 276ms/step - loss: 1.4792 - accuracy: 0.5290 - val_loss: 1.1762 - val_accuracy: 0.6202\n",
      "Epoch 4/5\n",
      "858/858 [==============================] - 235s 274ms/step - loss: 1.4288 - accuracy: 0.5456 - val_loss: 1.1813 - val_accuracy: 0.6200 1.4\n",
      "Epoch 5/5\n",
      "858/858 [==============================] - 237s 276ms/step - loss: 1.3803 - accuracy: 0.5580 - val_loss: 1.1085 - val_accuracy: 0.6365\n"
     ]
    }
   ],
   "source": [
    "# Get the model\n",
    "vgg_model = Model(inputs=vgg.input, outputs=x)\n",
    "\n",
    "# Compile\n",
    "opt = optimizers.Adam()\n",
    "\n",
    "vgg_model.compile(loss='categorical_crossentropy', \n",
    "                  optimizer=opt, \n",
    "                  metrics=['accuracy'])\n",
    "\n",
    "# Fit\n",
    "epochs = 5 # Less epochs, because only the fully-connected layer will be trained\n",
    "\n",
    "history_vgg = vgg_model.fit(aug.flow(X_train, y_train, batch_size=32),\n",
    "                            epochs=epochs, \n",
    "                            callbacks=callbacks_list,\n",
    "                            validation_data=(X_val, y_val))"
   ]
  },
  {
   "cell_type": "markdown",
   "id": "greek-effectiveness",
   "metadata": {},
   "source": [
    "**b) EfficientNetB7:**"
   ]
  },
  {
   "cell_type": "code",
   "execution_count": 31,
   "id": "threaded-stage",
   "metadata": {},
   "outputs": [
    {
     "name": "stdout",
     "output_type": "stream",
     "text": [
      "Epoch 1/5\n",
      "858/858 [==============================] - 399s 465ms/step - loss: 3.7749 - accuracy: 0.0492 - val_loss: 3.5311 - val_accuracy: 0.0583\n",
      "Epoch 2/5\n",
      "858/858 [==============================] - 394s 459ms/step - loss: 3.6143 - accuracy: 0.0512 - val_loss: 3.5166 - val_accuracy: 0.0478\n",
      "Epoch 3/5\n",
      "858/858 [==============================] - 400s 466ms/step - loss: 3.5734 - accuracy: 0.0551 - val_loss: 3.5001 - val_accuracy: 0.0473\n",
      "Epoch 4/5\n",
      "858/858 [==============================] - 397s 463ms/step - loss: 3.5472 - accuracy: 0.0498 - val_loss: 3.5039 - val_accuracy: 0.0583\n",
      "Epoch 5/5\n",
      "858/858 [==============================] - 396s 461ms/step - loss: 3.5407 - accuracy: 0.0531 - val_loss: 3.5038 - val_accuracy: 0.0550\n"
     ]
    }
   ],
   "source": [
    "# Get the model\n",
    "e_net_model = Model(inputs=e_net.input, outputs=y)\n",
    "\n",
    "# Compile\n",
    "opt = optimizers.Adam()\n",
    "\n",
    "e_net_model.compile(loss='categorical_crossentropy', \n",
    "                    optimizer=opt, \n",
    "                    metrics=['accuracy'])\n",
    "\n",
    "# Fit\n",
    "epochs = 5 # Less epochs, because only the fully-connected layer will be trained\n",
    "\n",
    "history_e_net = e_net_model.fit(aug.flow(X_train, y_train, batch_size=32),\n",
    "                                epochs=epochs, \n",
    "                                callbacks=callbacks_list,\n",
    "                                validation_data=(X_val, y_val))"
   ]
  },
  {
   "cell_type": "markdown",
   "id": "hairy-tiger",
   "metadata": {},
   "source": [
    "**c) ResNet152V2:**"
   ]
  },
  {
   "cell_type": "code",
   "execution_count": 61,
   "id": "rental-today",
   "metadata": {},
   "outputs": [
    {
     "name": "stdout",
     "output_type": "stream",
     "text": [
      "Epoch 1/5\n",
      "858/858 [==============================] - 293s 341ms/step - loss: 2.8675 - accuracy: 0.2502 - val_loss: 2.0493 - val_accuracy: 0.3840\n",
      "Epoch 2/5\n",
      "858/858 [==============================] - 287s 334ms/step - loss: 2.3089 - accuracy: 0.3271 - val_loss: 1.9001 - val_accuracy: 0.4210\n",
      "Epoch 3/5\n",
      "858/858 [==============================] - 290s 338ms/step - loss: 2.1644 - accuracy: 0.3503 - val_loss: 1.8266 - val_accuracy: 0.4343\n",
      "Epoch 4/5\n",
      "858/858 [==============================] - 286s 334ms/step - loss: 2.0789 - accuracy: 0.3693 - val_loss: 1.7675 - val_accuracy: 0.4561\n",
      "Epoch 5/5\n",
      "858/858 [==============================] - 288s 336ms/step - loss: 2.0290 - accuracy: 0.3832 - val_loss: 1.7517 - val_accuracy: 0.4534\n"
     ]
    }
   ],
   "source": [
    "# Get the model\n",
    "resnet_model = Model(inputs=resnet.input, outputs=z)\n",
    "\n",
    "# Compile\n",
    "opt = optimizers.Adam()\n",
    "\n",
    "resnet_model.compile(loss='categorical_crossentropy', \n",
    "                     optimizer=opt, \n",
    "                     metrics=['accuracy'])\n",
    "\n",
    "# Fit\n",
    "epochs = 5 # Less epochs, because only the fully-connected layer will be trained\n",
    "\n",
    "history_resnet = resnet_model.fit(aug.flow(X_train, y_train, batch_size=32),\n",
    "                                  epochs=epochs, \n",
    "                                  callbacks=callbacks_list,\n",
    "                                  validation_data=(X_val, y_val))"
   ]
  },
  {
   "cell_type": "markdown",
   "id": "mediterranean-clarity",
   "metadata": {},
   "source": [
    "As it can be seen by the three previous outputs, the pre-trained models had very weak performances in general, and specifically in the validation accuracy. Thus, we will perform the predictions on the test dataset using one of our CNN architectures, so we won't be showing any more metrics for these three transfer learning models (i.e. VGG16, EfficientNetB7, and ResNet152V2) in the next sections of this Notebook."
   ]
  },
  {
   "cell_type": "markdown",
   "id": "incorporated-jewel",
   "metadata": {},
   "source": [
    "## 6. Evaluating the Models"
   ]
  },
  {
   "cell_type": "code",
   "execution_count": 18,
   "id": "qualified-airline",
   "metadata": {},
   "outputs": [],
   "source": [
    "def plot_loss_acc(hist, max_lim=3.5, cnn_x=''):\n",
    "    \"\"\"\n",
    "    Displays a plot with the accuracy and loss over the training of a specific CNN. The four lines on the line chart \n",
    "    represent the training loss, training accuracy, validation loss, and validation accuracy, respectively.\n",
    "    \"\"\"\n",
    "    pd.DataFrame(hist.history).plot(figsize=(8, 5))\n",
    "    plt.grid(True)\n",
    "    plt.gca().set_ylim(0, max_lim)\n",
    "\n",
    "    plt.title('Accuracy and Loss: ' + cnn_x, size=20)\n",
    "    plt.xlabel('epochs')\n",
    "\n",
    "    plt.show()"
   ]
  },
  {
   "cell_type": "markdown",
   "id": "solar-monthly",
   "metadata": {},
   "source": [
    "**Our CNN Architectures:**"
   ]
  },
  {
   "cell_type": "markdown",
   "id": "democratic-burke",
   "metadata": {},
   "source": [
    "**a) cnn_1:**"
   ]
  },
  {
   "cell_type": "code",
   "execution_count": 31,
   "id": "advanced-produce",
   "metadata": {},
   "outputs": [
    {
     "data": {
      "image/png": "[encoded data removed]",
      "text/plain": [
       "<Figure size 576x360 with 1 Axes>"
      ]
     },
     "metadata": {
      "needs_background": "light"
     },
     "output_type": "display_data"
    }
   ],
   "source": [
    "plot_loss_acc(history_1, cnn_x='cnn_1')"
   ]
  },
  {
   "cell_type": "markdown",
   "id": "preceding-artwork",
   "metadata": {},
   "source": [
    "**b) cnn_2:**"
   ]
  },
  {
   "cell_type": "code",
   "execution_count": 40,
   "id": "auburn-collective",
   "metadata": {},
   "outputs": [
    {
     "data": {
      "image/png": "[encoded data removed]",
      "text/plain": [
       "<Figure size 576x360 with 1 Axes>"
      ]
     },
     "metadata": {
      "needs_background": "light"
     },
     "output_type": "display_data"
    }
   ],
   "source": [
    "plot_loss_acc(history_2, 3.6, 'cnn_2')"
   ]
  },
  {
   "cell_type": "markdown",
   "id": "tender-chaos",
   "metadata": {},
   "source": [
    "**c) cnn_3:**"
   ]
  },
  {
   "cell_type": "code",
   "execution_count": 46,
   "id": "individual-appointment",
   "metadata": {},
   "outputs": [
    {
     "data": {
      "image/png": "[encoded data removed]",
      "text/plain": [
       "<Figure size 576x360 with 1 Axes>"
      ]
     },
     "metadata": {
      "needs_background": "light"
     },
     "output_type": "display_data"
    }
   ],
   "source": [
    "plot_loss_acc(history_3, 3, 'cnn_3')"
   ]
  },
  {
   "cell_type": "markdown",
   "id": "existing-prototype",
   "metadata": {},
   "source": [
    "**d) cnn_4:**"
   ]
  },
  {
   "cell_type": "code",
   "execution_count": 19,
   "id": "weekly-passage",
   "metadata": {},
   "outputs": [
    {
     "data": {
      "image/png": "[encoded data removed]",
      "text/plain": [
       "<Figure size 576x360 with 1 Axes>"
      ]
     },
     "metadata": {
      "needs_background": "light"
     },
     "output_type": "display_data"
    }
   ],
   "source": [
    "plot_loss_acc(history_4, 2, 'cnn_4')"
   ]
  },
  {
   "cell_type": "markdown",
   "id": "flush-respect",
   "metadata": {},
   "source": [
    "**e) cnn_5:**"
   ]
  },
  {
   "cell_type": "code",
   "execution_count": 58,
   "id": "listed-elizabeth",
   "metadata": {},
   "outputs": [
    {
     "data": {
      "image/png": "[encoded data removed]",
      "text/plain": [
       "<Figure size 576x360 with 1 Axes>"
      ]
     },
     "metadata": {
      "needs_background": "light"
     },
     "output_type": "display_data"
    }
   ],
   "source": [
    "plot_loss_acc(history_5, 4.5, 'cnn_5')"
   ]
  },
  {
   "cell_type": "markdown",
   "id": "authorized-optimum",
   "metadata": {},
   "source": [
    "**f) cnn_6:**"
   ]
  },
  {
   "cell_type": "code",
   "execution_count": 65,
   "id": "animal-basement",
   "metadata": {},
   "outputs": [
    {
     "data": {
      "image/png": "[encoded data removed]",
      "text/plain": [
       "<Figure size 576x360 with 1 Axes>"
      ]
     },
     "metadata": {
      "needs_background": "light"
     },
     "output_type": "display_data"
    }
   ],
   "source": [
    "plot_loss_acc(history_6, cnn_x='cnn_6')"
   ]
  },
  {
   "cell_type": "markdown",
   "id": "valid-trinity",
   "metadata": {},
   "source": [
    "## 7. Importing the Test dataset"
   ]
  },
  {
   "cell_type": "code",
   "execution_count": 20,
   "id": "close-husband",
   "metadata": {},
   "outputs": [],
   "source": [
    "y_test = pd.read_csv('Test.csv')\n",
    "labels_test = y_test[\"ClassId\"].values\n",
    "imgs = y_test[\"Path\"].values\n",
    "data_test = []\n",
    "\n",
    "for img in imgs:\n",
    "    image = Image.open(img)\n",
    "    image = image.resize((32,32)) # Resizing the images to 32x32\n",
    "    data_test.append(np.array(image))\n",
    "    \n",
    "X_test = np.array(data_test)"
   ]
  },
  {
   "cell_type": "code",
   "execution_count": 21,
   "id": "exotic-vaccine",
   "metadata": {},
   "outputs": [
    {
     "name": "stdout",
     "output_type": "stream",
     "text": [
      "(12630, 32, 32, 3) (12630,)\n"
     ]
    }
   ],
   "source": [
    "# Check data shape (3 colour channels: Red, Green, Blue -> RGB)\n",
    "print(X_test.shape, labels_test.shape)"
   ]
  },
  {
   "cell_type": "code",
   "execution_count": 22,
   "id": "latest-chosen",
   "metadata": {},
   "outputs": [],
   "source": [
    "# Rescaling the Pixel Values\n",
    "X_test = X_test / 255"
   ]
  },
  {
   "cell_type": "markdown",
   "id": "underlying-syria",
   "metadata": {},
   "source": [
    "## 8. Making Predictions and Checking the Metrics"
   ]
  },
  {
   "cell_type": "markdown",
   "id": "undefined-metabolism",
   "metadata": {},
   "source": [
    "This section presents the Test dataset accuracy and also the precision, recall, F1-score and support for each of the 43 classes. \n",
    "\n",
    "This is shown for all six CNN architectures.\n",
    "\n",
    "As we'll be able to see, the fourth CNN (cnn_4) has the highest test dataset accuracy, and best performance overall. Thus, we can say this was our best model to classify the traffic sign images."
   ]
  },
  {
   "cell_type": "markdown",
   "id": "blond-celebrity",
   "metadata": {},
   "source": [
    "**a) cnn_1:**"
   ]
  },
  {
   "cell_type": "code",
   "execution_count": 35,
   "id": "following-harassment",
   "metadata": {},
   "outputs": [
    {
     "name": "stdout",
     "output_type": "stream",
     "text": [
      "WARNING:tensorflow:From <ipython-input-35-3b2cfb373f0b>:2: Sequential.predict_classes (from tensorflow.python.keras.engine.sequential) is deprecated and will be removed after 2021-01-01.\n",
      "Instructions for updating:\n",
      "Please use instead:* `np.argmax(model.predict(x), axis=-1)`,   if your model does multi-class classification   (e.g. if it uses a `softmax` last-layer activation).* `(model.predict(x) > 0.5).astype(\"int32\")`,   if your model does binary classification   (e.g. if it uses a `sigmoid` last-layer activation).\n"
     ]
    }
   ],
   "source": [
    "# Prediction with the first CNN (cnn_1_model)\n",
    "pred_1 = cnn_1_model.predict_classes(X_test)"
   ]
  },
  {
   "cell_type": "code",
   "execution_count": 36,
   "id": "heavy-cutting",
   "metadata": {},
   "outputs": [
    {
     "name": "stdout",
     "output_type": "stream",
     "text": [
      "Test Dataset accuracy: 90.38\n"
     ]
    }
   ],
   "source": [
    "print('Test Dataset accuracy:', round(accuracy_score(labels_test, pred_1)*100, 2))"
   ]
  },
  {
   "cell_type": "code",
   "execution_count": 37,
   "id": "graphic-plane",
   "metadata": {},
   "outputs": [
    {
     "name": "stdout",
     "output_type": "stream",
     "text": [
      "              precision    recall  f1-score   support\n",
      "\n",
      "           0       0.89      0.27      0.41        60\n",
      "           1       0.91      0.94      0.93       720\n",
      "           2       0.84      0.97      0.90       750\n",
      "           3       0.90      0.88      0.89       450\n",
      "           4       0.90      0.94      0.92       660\n",
      "           5       0.82      0.88      0.85       630\n",
      "           6       0.99      0.88      0.93       150\n",
      "           7       0.97      0.84      0.90       450\n",
      "           8       0.93      0.85      0.89       450\n",
      "           9       0.96      0.96      0.96       480\n",
      "          10       1.00      0.95      0.97       660\n",
      "          11       0.87      0.88      0.87       420\n",
      "          12       1.00      0.94      0.97       690\n",
      "          13       1.00      0.97      0.99       720\n",
      "          14       0.85      1.00      0.92       270\n",
      "          15       1.00      0.97      0.98       210\n",
      "          16       0.95      1.00      0.97       150\n",
      "          17       1.00      0.74      0.85       360\n",
      "          18       0.89      0.76      0.82       390\n",
      "          19       1.00      0.50      0.67        60\n",
      "          20       0.78      0.97      0.86        90\n",
      "          21       0.66      0.91      0.77        90\n",
      "          22       0.99      0.72      0.84       120\n",
      "          23       0.83      0.84      0.83       150\n",
      "          24       0.65      0.92      0.76        90\n",
      "          25       0.95      0.94      0.94       480\n",
      "          26       0.94      0.88      0.91       180\n",
      "          27       0.31      0.48      0.37        60\n",
      "          28       0.98      0.88      0.93       150\n",
      "          29       0.67      0.99      0.80        90\n",
      "          30       0.72      0.45      0.56       150\n",
      "          31       0.81      0.94      0.87       270\n",
      "          32       0.94      0.98      0.96        60\n",
      "          33       0.85      0.99      0.92       210\n",
      "          34       0.98      1.00      0.99       120\n",
      "          35       0.95      0.90      0.92       390\n",
      "          36       0.94      0.84      0.89       120\n",
      "          37       1.00      0.87      0.93        60\n",
      "          38       0.91      0.99      0.94       690\n",
      "          39       1.00      0.67      0.80        90\n",
      "          40       0.73      0.98      0.83        90\n",
      "          41       0.76      0.95      0.84        60\n",
      "          42       1.00      0.98      0.99        90\n",
      "\n",
      "    accuracy                           0.90     12630\n",
      "   macro avg       0.88      0.86      0.86     12630\n",
      "weighted avg       0.91      0.90      0.90     12630\n",
      "\n"
     ]
    }
   ],
   "source": [
    "print(classification_report(labels_test, pred_1))"
   ]
  },
  {
   "cell_type": "markdown",
   "id": "derived-support",
   "metadata": {},
   "source": [
    "**b) cnn_2:**"
   ]
  },
  {
   "cell_type": "code",
   "execution_count": 41,
   "id": "stone-removal",
   "metadata": {},
   "outputs": [],
   "source": [
    "# Prediction with the second CNN (cnn_2_model)\n",
    "pred_2 = cnn_2_model.predict_classes(X_test)"
   ]
  },
  {
   "cell_type": "code",
   "execution_count": 42,
   "id": "minute-choir",
   "metadata": {},
   "outputs": [
    {
     "name": "stdout",
     "output_type": "stream",
     "text": [
      "Test Dataset accuracy: 92.74\n"
     ]
    }
   ],
   "source": [
    "print('Test Dataset accuracy:', round(accuracy_score(labels_test, pred_2)*100, 2))"
   ]
  },
  {
   "cell_type": "code",
   "execution_count": 43,
   "id": "aging-attention",
   "metadata": {},
   "outputs": [
    {
     "name": "stdout",
     "output_type": "stream",
     "text": [
      "              precision    recall  f1-score   support\n",
      "\n",
      "           0       0.98      0.97      0.97        60\n",
      "           1       0.88      1.00      0.94       720\n",
      "           2       0.95      0.94      0.94       750\n",
      "           3       0.98      0.92      0.95       450\n",
      "           4       0.99      0.90      0.94       660\n",
      "           5       0.92      0.92      0.92       630\n",
      "           6       0.99      0.97      0.98       150\n",
      "           7       0.98      0.90      0.93       450\n",
      "           8       0.91      0.97      0.94       450\n",
      "           9       0.97      1.00      0.99       480\n",
      "          10       0.99      0.99      0.99       660\n",
      "          11       0.94      0.92      0.93       420\n",
      "          12       1.00      0.97      0.99       690\n",
      "          13       1.00      1.00      1.00       720\n",
      "          14       0.94      1.00      0.97       270\n",
      "          15       0.98      0.99      0.98       210\n",
      "          16       0.89      1.00      0.94       150\n",
      "          17       1.00      0.87      0.93       360\n",
      "          18       0.90      0.76      0.82       390\n",
      "          19       1.00      0.32      0.48        60\n",
      "          20       0.51      0.56      0.53        90\n",
      "          21       0.78      0.69      0.73        90\n",
      "          22       0.96      0.75      0.84       120\n",
      "          23       0.77      0.67      0.71       150\n",
      "          24       0.66      0.84      0.74        90\n",
      "          25       0.93      0.91      0.92       480\n",
      "          26       0.94      0.88      0.91       180\n",
      "          27       0.49      1.00      0.66        60\n",
      "          28       0.73      0.98      0.84       150\n",
      "          29       0.80      0.99      0.89        90\n",
      "          30       0.81      0.55      0.66       150\n",
      "          31       0.72      0.97      0.83       270\n",
      "          32       1.00      1.00      1.00        60\n",
      "          33       0.92      1.00      0.96       210\n",
      "          34       0.91      1.00      0.95       120\n",
      "          35       1.00      0.95      0.98       390\n",
      "          36       0.89      1.00      0.94       120\n",
      "          37       0.98      0.88      0.93        60\n",
      "          38       0.97      0.98      0.97       690\n",
      "          39       0.97      0.72      0.83        90\n",
      "          40       0.96      0.98      0.97        90\n",
      "          41       0.70      0.77      0.73        60\n",
      "          42       1.00      0.78      0.88        90\n",
      "\n",
      "    accuracy                           0.93     12630\n",
      "   macro avg       0.90      0.89      0.88     12630\n",
      "weighted avg       0.93      0.93      0.93     12630\n",
      "\n"
     ]
    }
   ],
   "source": [
    "print(classification_report(labels_test, pred_2))"
   ]
  },
  {
   "cell_type": "markdown",
   "id": "common-label",
   "metadata": {},
   "source": [
    "**c) cnn_3:**"
   ]
  },
  {
   "cell_type": "code",
   "execution_count": 47,
   "id": "unsigned-dayton",
   "metadata": {},
   "outputs": [],
   "source": [
    "# Prediction with the third CNN (cnn_3_model)\n",
    "pred_3 = cnn_3_model.predict_classes(X_test)"
   ]
  },
  {
   "cell_type": "code",
   "execution_count": 48,
   "id": "compressed-bibliography",
   "metadata": {},
   "outputs": [
    {
     "name": "stdout",
     "output_type": "stream",
     "text": [
      "Test Dataset accuracy: 95.65\n"
     ]
    }
   ],
   "source": [
    "print('Test Dataset accuracy:', round(accuracy_score(labels_test, pred_3)*100, 2))"
   ]
  },
  {
   "cell_type": "code",
   "execution_count": 49,
   "id": "african-township",
   "metadata": {},
   "outputs": [
    {
     "name": "stdout",
     "output_type": "stream",
     "text": [
      "              precision    recall  f1-score   support\n",
      "\n",
      "           0       0.97      0.93      0.95        60\n",
      "           1       0.96      0.98      0.97       720\n",
      "           2       0.98      0.97      0.97       750\n",
      "           3       0.99      0.93      0.96       450\n",
      "           4       0.99      0.96      0.98       660\n",
      "           5       0.89      0.99      0.94       630\n",
      "           6       0.99      0.95      0.97       150\n",
      "           7       0.99      0.97      0.98       450\n",
      "           8       1.00      0.95      0.97       450\n",
      "           9       1.00      1.00      1.00       480\n",
      "          10       0.99      0.99      0.99       660\n",
      "          11       1.00      0.96      0.98       420\n",
      "          12       0.98      0.92      0.95       690\n",
      "          13       1.00      1.00      1.00       720\n",
      "          14       0.99      1.00      1.00       270\n",
      "          15       0.96      1.00      0.98       210\n",
      "          16       1.00      1.00      1.00       150\n",
      "          17       1.00      0.97      0.98       360\n",
      "          18       0.97      0.74      0.84       390\n",
      "          19       1.00      0.63      0.78        60\n",
      "          20       0.57      1.00      0.72        90\n",
      "          21       0.76      0.71      0.74        90\n",
      "          22       0.58      0.78      0.67       120\n",
      "          23       0.84      1.00      0.91       150\n",
      "          24       1.00      0.93      0.97        90\n",
      "          25       0.92      1.00      0.96       480\n",
      "          26       0.89      1.00      0.94       180\n",
      "          27       0.68      0.83      0.75        60\n",
      "          28       1.00      1.00      1.00       150\n",
      "          29       1.00      0.60      0.75        90\n",
      "          30       0.94      0.74      0.83       150\n",
      "          31       1.00      0.96      0.98       270\n",
      "          32       1.00      1.00      1.00        60\n",
      "          33       0.99      1.00      1.00       210\n",
      "          34       1.00      1.00      1.00       120\n",
      "          35       1.00      0.98      0.99       390\n",
      "          36       0.99      0.97      0.98       120\n",
      "          37       0.98      1.00      0.99        60\n",
      "          38       0.98      0.99      0.98       690\n",
      "          39       0.94      0.97      0.95        90\n",
      "          40       0.61      0.99      0.76        90\n",
      "          41       0.97      1.00      0.98        60\n",
      "          42       0.94      0.98      0.96        90\n",
      "\n",
      "    accuracy                           0.96     12630\n",
      "   macro avg       0.94      0.94      0.93     12630\n",
      "weighted avg       0.96      0.96      0.96     12630\n",
      "\n"
     ]
    }
   ],
   "source": [
    "print(classification_report(labels_test, pred_3))"
   ]
  },
  {
   "cell_type": "markdown",
   "id": "authorized-boring",
   "metadata": {},
   "source": [
    "**d) cnn_4:**"
   ]
  },
  {
   "cell_type": "code",
   "execution_count": 23,
   "id": "southern-reply",
   "metadata": {},
   "outputs": [
    {
     "name": "stdout",
     "output_type": "stream",
     "text": [
      "WARNING:tensorflow:From <ipython-input-23-2fa5f871a100>:2: Sequential.predict_classes (from tensorflow.python.keras.engine.sequential) is deprecated and will be removed after 2021-01-01.\n",
      "Instructions for updating:\n",
      "Please use instead:* `np.argmax(model.predict(x), axis=-1)`,   if your model does multi-class classification   (e.g. if it uses a `softmax` last-layer activation).* `(model.predict(x) > 0.5).astype(\"int32\")`,   if your model does binary classification   (e.g. if it uses a `sigmoid` last-layer activation).\n"
     ]
    }
   ],
   "source": [
    "# Prediction with the fourth CNN (cnn_4_model)\n",
    "pred_4 = cnn_4_model.predict_classes(X_test)"
   ]
  },
  {
   "cell_type": "code",
   "execution_count": 24,
   "id": "painful-business",
   "metadata": {},
   "outputs": [
    {
     "name": "stdout",
     "output_type": "stream",
     "text": [
      "Test Dataset accuracy: 97.6\n"
     ]
    }
   ],
   "source": [
    "print('Test Dataset accuracy:', round(accuracy_score(labels_test, pred_4)*100, 2))"
   ]
  },
  {
   "cell_type": "code",
   "execution_count": 25,
   "id": "smart-sleeping",
   "metadata": {},
   "outputs": [
    {
     "name": "stdout",
     "output_type": "stream",
     "text": [
      "              precision    recall  f1-score   support\n",
      "\n",
      "           0       1.00      1.00      1.00        60\n",
      "           1       1.00      1.00      1.00       720\n",
      "           2       1.00      1.00      1.00       750\n",
      "           3       0.95      0.98      0.96       450\n",
      "           4       0.99      1.00      0.99       660\n",
      "           5       0.97      1.00      0.98       630\n",
      "           6       0.96      0.89      0.93       150\n",
      "           7       1.00      0.98      0.99       450\n",
      "           8       1.00      0.98      0.99       450\n",
      "           9       1.00      1.00      1.00       480\n",
      "          10       1.00      1.00      1.00       660\n",
      "          11       0.98      0.94      0.96       420\n",
      "          12       1.00      0.94      0.97       690\n",
      "          13       1.00      1.00      1.00       720\n",
      "          14       1.00      1.00      1.00       270\n",
      "          15       0.86      1.00      0.93       210\n",
      "          16       0.99      1.00      1.00       150\n",
      "          17       1.00      0.93      0.96       360\n",
      "          18       1.00      0.92      0.96       390\n",
      "          19       0.98      1.00      0.99        60\n",
      "          20       0.83      1.00      0.91        90\n",
      "          21       0.65      0.90      0.76        90\n",
      "          22       1.00      0.93      0.97       120\n",
      "          23       0.86      1.00      0.93       150\n",
      "          24       1.00      0.98      0.99        90\n",
      "          25       0.99      0.97      0.98       480\n",
      "          26       0.87      1.00      0.93       180\n",
      "          27       0.81      0.50      0.62        60\n",
      "          28       1.00      0.99      1.00       150\n",
      "          29       1.00      1.00      1.00        90\n",
      "          30       0.86      0.78      0.82       150\n",
      "          31       0.99      1.00      0.99       270\n",
      "          32       1.00      1.00      1.00        60\n",
      "          33       0.96      1.00      0.98       210\n",
      "          34       0.92      1.00      0.96       120\n",
      "          35       1.00      0.98      0.99       390\n",
      "          36       0.98      1.00      0.99       120\n",
      "          37       0.98      1.00      0.99        60\n",
      "          38       0.99      1.00      0.99       690\n",
      "          39       1.00      0.96      0.98        90\n",
      "          40       1.00      0.86      0.92        90\n",
      "          41       0.83      1.00      0.91        60\n",
      "          42       0.84      1.00      0.91        90\n",
      "\n",
      "    accuracy                           0.98     12630\n",
      "   macro avg       0.96      0.96      0.96     12630\n",
      "weighted avg       0.98      0.98      0.98     12630\n",
      "\n"
     ]
    }
   ],
   "source": [
    "print(classification_report(labels_test, pred_4))"
   ]
  },
  {
   "cell_type": "markdown",
   "id": "natural-newspaper",
   "metadata": {},
   "source": [
    "**e) cnn_5:**"
   ]
  },
  {
   "cell_type": "code",
   "execution_count": 59,
   "id": "unknown-occupation",
   "metadata": {},
   "outputs": [],
   "source": [
    "# Prediction with the fifth CNN (cnn_5_model)\n",
    "pred_5 = cnn_5_model.predict_classes(X_test)"
   ]
  },
  {
   "cell_type": "code",
   "execution_count": 60,
   "id": "weekly-retrieval",
   "metadata": {},
   "outputs": [
    {
     "name": "stdout",
     "output_type": "stream",
     "text": [
      "Test Dataset accuracy: 94.17\n"
     ]
    }
   ],
   "source": [
    "print('Test Dataset accuracy:', round(accuracy_score(labels_test, pred_5)*100, 2))"
   ]
  },
  {
   "cell_type": "code",
   "execution_count": 61,
   "id": "patent-indonesia",
   "metadata": {},
   "outputs": [
    {
     "name": "stdout",
     "output_type": "stream",
     "text": [
      "              precision    recall  f1-score   support\n",
      "\n",
      "           0       0.95      1.00      0.98        60\n",
      "           1       0.97      1.00      0.98       720\n",
      "           2       0.95      0.99      0.97       750\n",
      "           3       0.97      0.89      0.93       450\n",
      "           4       0.98      0.98      0.98       660\n",
      "           5       0.92      0.95      0.94       630\n",
      "           6       1.00      0.89      0.94       150\n",
      "           7       0.91      0.99      0.95       450\n",
      "           8       0.99      0.96      0.98       450\n",
      "           9       0.96      1.00      0.98       480\n",
      "          10       0.99      1.00      1.00       660\n",
      "          11       0.97      0.91      0.94       420\n",
      "          12       0.99      0.96      0.98       690\n",
      "          13       1.00      1.00      1.00       720\n",
      "          14       0.91      1.00      0.95       270\n",
      "          15       0.93      1.00      0.96       210\n",
      "          16       1.00      1.00      1.00       150\n",
      "          17       1.00      0.92      0.96       360\n",
      "          18       1.00      0.58      0.74       390\n",
      "          19       1.00      0.55      0.71        60\n",
      "          20       0.86      1.00      0.92        90\n",
      "          21       0.68      0.93      0.79        90\n",
      "          22       1.00      0.93      0.96       120\n",
      "          23       0.66      1.00      0.80       150\n",
      "          24       0.81      0.97      0.88        90\n",
      "          25       0.92      0.96      0.94       480\n",
      "          26       0.72      0.99      0.84       180\n",
      "          27       0.38      0.50      0.43        60\n",
      "          28       0.98      0.97      0.98       150\n",
      "          29       0.96      0.99      0.97        90\n",
      "          30       0.69      0.68      0.69       150\n",
      "          31       0.94      0.86      0.90       270\n",
      "          32       0.88      1.00      0.94        60\n",
      "          33       0.89      1.00      0.94       210\n",
      "          34       0.98      1.00      0.99       120\n",
      "          35       1.00      0.92      0.96       390\n",
      "          36       0.98      1.00      0.99       120\n",
      "          37       0.82      1.00      0.90        60\n",
      "          38       0.96      0.98      0.97       690\n",
      "          39       1.00      0.70      0.82        90\n",
      "          40       0.97      0.38      0.54        90\n",
      "          41       1.00      0.77      0.87        60\n",
      "          42       0.91      0.98      0.94        90\n",
      "\n",
      "    accuracy                           0.94     12630\n",
      "   macro avg       0.92      0.91      0.90     12630\n",
      "weighted avg       0.95      0.94      0.94     12630\n",
      "\n"
     ]
    }
   ],
   "source": [
    "print(classification_report(labels_test, pred_5))"
   ]
  },
  {
   "cell_type": "markdown",
   "id": "waiting-hostel",
   "metadata": {},
   "source": [
    "**f) cnn_6:**"
   ]
  },
  {
   "cell_type": "code",
   "execution_count": 66,
   "id": "desperate-church",
   "metadata": {},
   "outputs": [],
   "source": [
    "# Prediction with the sixth CNN (cnn_6_model)\n",
    "pred_6 = cnn_6_model.predict_classes(X_test)"
   ]
  },
  {
   "cell_type": "code",
   "execution_count": 67,
   "id": "hazardous-label",
   "metadata": {},
   "outputs": [
    {
     "name": "stdout",
     "output_type": "stream",
     "text": [
      "Test Dataset accuracy: 96.61\n"
     ]
    }
   ],
   "source": [
    "print('Test Dataset accuracy:', round(accuracy_score(labels_test, pred_6)*100, 2))"
   ]
  },
  {
   "cell_type": "code",
   "execution_count": 68,
   "id": "european-desperate",
   "metadata": {},
   "outputs": [
    {
     "name": "stdout",
     "output_type": "stream",
     "text": [
      "              precision    recall  f1-score   support\n",
      "\n",
      "           0       0.97      0.98      0.98        60\n",
      "           1       0.92      0.99      0.96       720\n",
      "           2       0.98      0.96      0.97       750\n",
      "           3       1.00      0.91      0.95       450\n",
      "           4       0.98      0.97      0.97       660\n",
      "           5       0.93      0.95      0.94       630\n",
      "           6       1.00      0.98      0.99       150\n",
      "           7       1.00      0.88      0.94       450\n",
      "           8       0.88      1.00      0.93       450\n",
      "           9       1.00      1.00      1.00       480\n",
      "          10       0.99      1.00      0.99       660\n",
      "          11       0.97      1.00      0.98       420\n",
      "          12       0.99      0.97      0.98       690\n",
      "          13       1.00      1.00      1.00       720\n",
      "          14       0.99      1.00      0.99       270\n",
      "          15       0.99      1.00      0.99       210\n",
      "          16       0.99      1.00      1.00       150\n",
      "          17       1.00      0.99      1.00       360\n",
      "          18       0.98      0.84      0.90       390\n",
      "          19       1.00      0.87      0.93        60\n",
      "          20       0.86      1.00      0.92        90\n",
      "          21       0.95      1.00      0.97        90\n",
      "          22       1.00      0.78      0.88       120\n",
      "          23       0.78      1.00      0.87       150\n",
      "          24       0.91      0.88      0.89        90\n",
      "          25       0.93      0.99      0.96       480\n",
      "          26       0.89      1.00      0.94       180\n",
      "          27       0.63      0.97      0.76        60\n",
      "          28       1.00      0.99      1.00       150\n",
      "          29       1.00      1.00      1.00        90\n",
      "          30       0.99      0.66      0.79       150\n",
      "          31       0.97      1.00      0.99       270\n",
      "          32       1.00      1.00      1.00        60\n",
      "          33       0.98      0.99      0.99       210\n",
      "          34       0.99      1.00      1.00       120\n",
      "          35       1.00      0.98      0.99       390\n",
      "          36       0.99      0.97      0.98       120\n",
      "          37       1.00      1.00      1.00        60\n",
      "          38       1.00      0.97      0.98       690\n",
      "          39       1.00      0.98      0.99        90\n",
      "          40       0.90      0.98      0.94        90\n",
      "          41       1.00      0.95      0.97        60\n",
      "          42       0.99      1.00      0.99        90\n",
      "\n",
      "    accuracy                           0.97     12630\n",
      "   macro avg       0.96      0.96      0.96     12630\n",
      "weighted avg       0.97      0.97      0.97     12630\n",
      "\n"
     ]
    }
   ],
   "source": [
    "print(classification_report(labels_test, pred_6))"
   ]
  },
  {
   "cell_type": "markdown",
   "id": "extensive-sampling",
   "metadata": {},
   "source": [
    "## 9. Save the Best CNN Model"
   ]
  },
  {
   "cell_type": "code",
   "execution_count": 26,
   "id": "polyphonic-difficulty",
   "metadata": {},
   "outputs": [],
   "source": [
    "cnn_4_model.save('traffic_signs_classifier.h5')"
   ]
  },
  {
   "cell_type": "markdown",
   "id": "public-walker",
   "metadata": {},
   "source": [
    "## Code References"
   ]
  },
  {
   "cell_type": "markdown",
   "id": "dramatic-nowhere",
   "metadata": {},
   "source": [
    "Importing the Data: <br>\n",
    "https://data-flair.training/blogs/python-project-traffic-signs-recognition/\n",
    "\n",
    "Transfer Learning: <br>\n",
    "https://github.com/krishnaik06/Transfer-Learning/blob/master/face_Recognition.py"
   ]
  }
 ],
 "metadata": {
  "kernelspec": {
   "display_name": "Python 3",
   "language": "python",
   "name": "python3"
  },
  "language_info": {
   "codemirror_mode": {
    "name": "ipython",
    "version": 3
   },
   "file_extension": ".py",
   "mimetype": "text/x-python",
   "name": "python",
   "nbconvert_exporter": "python",
   "pygments_lexer": "ipython3",
   "version": "3.8.5"
  }
 },
 "nbformat": 4,
 "nbformat_minor": 5
}
